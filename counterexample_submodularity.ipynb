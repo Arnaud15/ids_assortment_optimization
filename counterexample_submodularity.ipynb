{
 "cells": [
  {
   "cell_type": "code",
   "execution_count": 1,
   "metadata": {},
   "outputs": [],
   "source": [
    "import numpy as np"
   ]
  },
  {
   "cell_type": "code",
   "execution_count": 2,
   "metadata": {},
   "outputs": [],
   "source": [
    "M = 1000"
   ]
  },
  {
   "cell_type": "code",
   "execution_count": 3,
   "metadata": {},
   "outputs": [],
   "source": [
    "thetas = np.random.rand(M, 4)"
   ]
  },
  {
   "cell_type": "code",
   "execution_count": 4,
   "metadata": {},
   "outputs": [],
   "source": [
    "thetas[:, 1] = 0.5\n",
    "thetas[:, 2] = 0.5\n",
    "thetas[:, 3] = 0.5"
   ]
  },
  {
   "cell_type": "code",
   "execution_count": 5,
   "metadata": {},
   "outputs": [
    {
     "data": {
      "text/plain": [
       "array([[0.67379225, 0.5       , 0.5       , 0.5       ],\n",
       "       [0.51620686, 0.5       , 0.5       , 0.5       ],\n",
       "       [0.15890129, 0.5       , 0.5       , 0.5       ],\n",
       "       [0.16865146, 0.5       , 0.5       , 0.5       ],\n",
       "       [0.11213823, 0.5       , 0.5       , 0.5       ]])"
      ]
     },
     "execution_count": 5,
     "metadata": {},
     "output_type": "execute_result"
    }
   ],
   "source": [
    "thetas[:5, :]"
   ]
  },
  {
   "cell_type": "code",
   "execution_count": 6,
   "metadata": {},
   "outputs": [],
   "source": [
    "pos_thetas = thetas[(thetas[:, 0] > 0.5), :]\n",
    "n1 = pos_thetas.shape[0]"
   ]
  },
  {
   "cell_type": "code",
   "execution_count": 7,
   "metadata": {},
   "outputs": [],
   "source": [
    "neg_thetas = thetas[(thetas[:, 0] <= 0.5), :]\n",
    "n2 = neg_thetas.shape[0]"
   ]
  },
  {
   "cell_type": "code",
   "execution_count": 8,
   "metadata": {},
   "outputs": [
    {
     "data": {
      "text/plain": [
       "(504, 496)"
      ]
     },
     "execution_count": 8,
     "metadata": {},
     "output_type": "execute_result"
    }
   ],
   "source": [
    "n1, n2"
   ]
  },
  {
   "cell_type": "code",
   "execution_count": 9,
   "metadata": {},
   "outputs": [],
   "source": [
    "def expected_reward(theta, action):\n",
    "    return (theta[:, action].sum(1) / (1 + theta[:, action].sum(1))).mean()"
   ]
  },
  {
   "cell_type": "code",
   "execution_count": 10,
   "metadata": {},
   "outputs": [],
   "source": [
    "def optimal_reward():\n",
    "    return (n1 / M) * expected_reward(pos_thetas, [0, 1, 2]) + (n2 / M) * expected_reward(neg_thetas, [1, 2, 3])"
   ]
  },
  {
   "cell_type": "code",
   "execution_count": 11,
   "metadata": {},
   "outputs": [],
   "source": [
    "def information_ratio(action):\n",
    "    var = (n1 / M) * (expected_reward(pos_thetas, action) - expected_reward(thetas, action)) ** 2 + (n2/M) * (expected_reward(neg_thetas, action) - expected_reward(thetas, action)) **2\n",
    "    regret2 = (optimal_reward() - expected_reward(thetas, action)) ** 2\n",
    "    print(regret2)\n",
    "    print('/')\n",
    "    print(var)\n",
    "    return regret2 / var"
   ]
  },
  {
   "cell_type": "code",
   "execution_count": 12,
   "metadata": {},
   "outputs": [
    {
     "data": {
      "text/plain": [
       "0.617304672226096"
      ]
     },
     "execution_count": 12,
     "metadata": {},
     "output_type": "execute_result"
    }
   ],
   "source": [
    "optimal_reward()"
   ]
  },
  {
   "cell_type": "markdown",
   "metadata": {},
   "source": [
    "Action A1:"
   ]
  },
  {
   "cell_type": "code",
   "execution_count": 13,
   "metadata": {},
   "outputs": [],
   "source": [
    "a1 = [0]"
   ]
  },
  {
   "cell_type": "code",
   "execution_count": 15,
   "metadata": {},
   "outputs": [
    {
     "data": {
      "text/plain": [
       "0.30815957022249885"
      ]
     },
     "execution_count": 15,
     "metadata": {},
     "output_type": "execute_result"
    }
   ],
   "source": [
    "expected_reward(thetas, a1)"
   ]
  },
  {
   "cell_type": "code",
   "execution_count": 16,
   "metadata": {},
   "outputs": [
    {
     "name": "stdout",
     "output_type": "stream",
     "text": [
      "0.09557069409281448\n",
      "/\n",
      "0.0131808222940574\n"
     ]
    },
    {
     "data": {
      "text/plain": [
       "7.250738380404591"
      ]
     },
     "execution_count": 16,
     "metadata": {},
     "output_type": "execute_result"
    }
   ],
   "source": [
    "information_ratio(a1)"
   ]
  },
  {
   "cell_type": "markdown",
   "metadata": {},
   "source": [
    "Action A2"
   ]
  },
  {
   "cell_type": "code",
   "execution_count": 17,
   "metadata": {},
   "outputs": [],
   "source": [
    "a2 = [0, 1]"
   ]
  },
  {
   "cell_type": "code",
   "execution_count": 18,
   "metadata": {},
   "outputs": [
    {
     "data": {
      "text/plain": [
       "0.48971767181422954"
      ]
     },
     "execution_count": 18,
     "metadata": {},
     "output_type": "execute_result"
    }
   ],
   "source": [
    "expected_reward(thetas, a2)"
   ]
  },
  {
   "cell_type": "code",
   "execution_count": 19,
   "metadata": {},
   "outputs": [
    {
     "name": "stdout",
     "output_type": "stream",
     "text": [
      "0.016278442674097605\n",
      "/\n",
      "0.003963564106111235\n"
     ]
    },
    {
     "data": {
      "text/plain": [
       "4.1070214176676565"
      ]
     },
     "execution_count": 19,
     "metadata": {},
     "output_type": "execute_result"
    }
   ],
   "source": [
    "information_ratio(a2)"
   ]
  },
  {
   "cell_type": "markdown",
   "metadata": {},
   "source": [
    "Action A3"
   ]
  },
  {
   "cell_type": "code",
   "execution_count": 20,
   "metadata": {},
   "outputs": [],
   "source": [
    "a3 = [0, 2]"
   ]
  },
  {
   "cell_type": "code",
   "execution_count": 21,
   "metadata": {},
   "outputs": [
    {
     "name": "stdout",
     "output_type": "stream",
     "text": [
      "0.016278442674097605\n",
      "/\n",
      "0.003963564106111235\n"
     ]
    },
    {
     "data": {
      "text/plain": [
       "4.1070214176676565"
      ]
     },
     "execution_count": 21,
     "metadata": {},
     "output_type": "execute_result"
    }
   ],
   "source": [
    "information_ratio(a3)"
   ]
  },
  {
   "cell_type": "markdown",
   "metadata": {},
   "source": [
    "Action A4"
   ]
  },
  {
   "cell_type": "code",
   "execution_count": 22,
   "metadata": {},
   "outputs": [],
   "source": [
    "a4 = [0, 1, 2]"
   ]
  },
  {
   "cell_type": "code",
   "execution_count": 23,
   "metadata": {},
   "outputs": [
    {
     "name": "stdout",
     "output_type": "stream",
     "text": [
      "0.0005056736739636081\n",
      "/\n",
      "0.0015867950541208317\n"
     ]
    },
    {
     "data": {
      "text/plain": [
       "0.3186761092117079"
      ]
     },
     "execution_count": 23,
     "metadata": {},
     "output_type": "execute_result"
    }
   ],
   "source": [
    "information_ratio(a4)"
   ]
  },
  {
   "cell_type": "markdown",
   "metadata": {},
   "source": [
    "- a1 \\subset a2\n",
    "- a3 = a1 + [2]\n",
    "- a4 = a2 + [2]\n",
    "\n",
    "Therefore we expect:\n",
    "- ir(a1) - ir(a3) < ir(a2) - ir(a4)\n",
    "\n",
    "It did not happen..."
   ]
  },
  {
   "cell_type": "code",
   "execution_count": 24,
   "metadata": {},
   "outputs": [
    {
     "name": "stdout",
     "output_type": "stream",
     "text": [
      "0.09557069409281448\n",
      "/\n",
      "0.0131808222940574\n",
      "0.016278442674097605\n",
      "/\n",
      "0.003963564106111235\n"
     ]
    },
    {
     "data": {
      "text/plain": [
       "3.143716962736934"
      ]
     },
     "execution_count": 24,
     "metadata": {},
     "output_type": "execute_result"
    }
   ],
   "source": [
    "information_ratio(a1) - information_ratio(a3)"
   ]
  },
  {
   "cell_type": "code",
   "execution_count": 25,
   "metadata": {},
   "outputs": [
    {
     "name": "stdout",
     "output_type": "stream",
     "text": [
      "0.016278442674097605\n",
      "/\n",
      "0.003963564106111235\n",
      "0.0005056736739636081\n",
      "/\n",
      "0.0015867950541208317\n"
     ]
    },
    {
     "data": {
      "text/plain": [
       "3.7883453084559484"
      ]
     },
     "execution_count": 25,
     "metadata": {},
     "output_type": "execute_result"
    }
   ],
   "source": [
    "information_ratio(a2) - information_ratio(a4)"
   ]
  }
 ],
 "metadata": {
  "kernelspec": {
   "display_name": "Python 3.7.6 64-bit ('rl': conda)",
   "language": "python",
   "name": "python37664bitrlconda4fa4e0ab5aed4c86b6e880e07e11cf6b"
  },
  "language_info": {
   "codemirror_mode": {
    "name": "ipython",
    "version": 3
   },
   "file_extension": ".py",
   "mimetype": "text/x-python",
   "name": "python",
   "nbconvert_exporter": "python",
   "pygments_lexer": "ipython3",
   "version": "3.7.6"
  }
 },
 "nbformat": 4,
 "nbformat_minor": 4
}

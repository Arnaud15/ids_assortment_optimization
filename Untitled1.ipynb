{
 "cells": [
  {
   "cell_type": "code",
   "execution_count": 1,
   "metadata": {},
   "outputs": [],
   "source": [
    "from run_utils import run_episode, get_prior\n",
    "from env import AssortmentEnvironment\n",
    "from ids_agents import EpochSamplingIDS\n",
    "import numpy as np\n",
    "import matplotlib.pyplot as plt"
   ]
  },
  {
   "cell_type": "code",
   "execution_count": 3,
   "metadata": {},
   "outputs": [],
   "source": [
    "K = 3\n",
    "N = 5\n",
    "T = 500\n",
    "prior = \"uniform\"\n",
    "M = 100\n",
    "action_selection = \"exact\"\n",
    "NRUNS = 50\n",
    "agent_class = EpochSamplingIDS"
   ]
  },
  {
   "cell_type": "code",
   "execution_count": 4,
   "metadata": {},
   "outputs": [
    {
     "name": "stdout",
     "output_type": "stream",
     "text": [
      "Agent believes first=best? False\n",
      "Info type is: gain\n",
      "Action selection+exact\n",
      "scaling factor: 0.0\n"
     ]
    }
   ],
   "source": [
    "agent = agent_class(\n",
    "    k=K,\n",
    "    n=N,\n",
    "    correlated_sampling=1,\n",
    "    horizon=T,\n",
    "    limited_prefs=True if prior == \"soft_sparse\" else False,\n",
    "    n_samples=M,\n",
    "    info_type=\"gain\",\n",
    "    action_type=action_selection,\n",
    ")"
   ]
  },
  {
   "cell_type": "code",
   "execution_count": 5,
   "metadata": {},
   "outputs": [],
   "source": [
    "# Actual experiments with printing\n",
    "def compute():\n",
    "    experiment_data = []\n",
    "    for _ in range(NRUNS):\n",
    "        run_preferences = get_prior(\n",
    "            n_items=N,\n",
    "            prior_type=prior,\n",
    "            fallback_weight=0.\n",
    "        )\n",
    "        env = AssortmentEnvironment(n=N, v=run_preferences)\n",
    "        if prior == \"full_sparse\":\n",
    "            expected_reward_from_best_action = 1.0\n",
    "        else:\n",
    "            top_preferences = np.sort(run_preferences)[-(K + 1) :]\n",
    "            top_preferences = top_preferences / top_preferences.sum()\n",
    "            expected_reward_from_best_action = top_preferences[: K].sum()\n",
    "\n",
    "        run_data = {\"best_reward\": expected_reward_from_best_action}\n",
    "        obs_run, rewards_run, extra_data = run_episode(\n",
    "            envnmt=env, actor=agent, n_steps=T, verbose=0\n",
    "        )\n",
    "\n",
    "        run_data[\"rewards\"] = rewards_run\n",
    "        run_data[\"metadata\"] = extra_data\n",
    "\n",
    "        experiment_data.append(run_data)\n",
    "    return experiment_data"
   ]
  },
  {
   "cell_type": "code",
   "execution_count": 6,
   "metadata": {},
   "outputs": [
    {
     "name": "stderr",
     "output_type": "stream",
     "text": [
      "100%|██████████| 500/500 [00:02<00:00, 210.00it/s]\n",
      "100%|██████████| 500/500 [00:00<00:00, 1018.37it/s]\n",
      "100%|██████████| 500/500 [00:00<00:00, 1266.02it/s]\n",
      "100%|██████████| 500/500 [00:00<00:00, 1354.31it/s]\n",
      "100%|██████████| 500/500 [00:00<00:00, 1252.68it/s]\n",
      "100%|██████████| 500/500 [00:00<00:00, 1062.27it/s]\n",
      "100%|██████████| 500/500 [00:00<00:00, 1065.52it/s]\n",
      "100%|██████████| 500/500 [00:00<00:00, 1031.31it/s]\n",
      "100%|██████████| 500/500 [00:00<00:00, 1337.45it/s]\n",
      "100%|██████████| 500/500 [00:00<00:00, 1165.30it/s]\n",
      "100%|██████████| 500/500 [00:00<00:00, 1367.73it/s]\n",
      "100%|██████████| 500/500 [00:00<00:00, 978.73it/s]\n",
      "100%|██████████| 500/500 [00:00<00:00, 1131.91it/s]\n",
      "100%|██████████| 500/500 [00:00<00:00, 1229.72it/s]\n",
      "100%|██████████| 500/500 [00:00<00:00, 1282.18it/s]\n",
      "100%|██████████| 500/500 [00:00<00:00, 1182.56it/s]\n",
      "100%|██████████| 500/500 [00:00<00:00, 1000.47it/s]\n",
      "100%|██████████| 500/500 [00:00<00:00, 1076.28it/s]\n",
      "100%|██████████| 500/500 [00:00<00:00, 1177.70it/s]\n",
      "100%|██████████| 500/500 [00:00<00:00, 996.43it/s] \n",
      "100%|██████████| 500/500 [00:00<00:00, 1208.52it/s]\n",
      "100%|██████████| 500/500 [00:00<00:00, 1478.38it/s]\n",
      "100%|██████████| 500/500 [00:00<00:00, 1117.90it/s]\n",
      "100%|██████████| 500/500 [00:00<00:00, 869.82it/s]\n",
      "100%|██████████| 500/500 [00:00<00:00, 1439.23it/s]\n",
      "100%|██████████| 500/500 [00:00<00:00, 1020.98it/s]\n",
      "100%|██████████| 500/500 [00:00<00:00, 926.22it/s]\n",
      "100%|██████████| 500/500 [00:00<00:00, 1188.20it/s]\n",
      "100%|██████████| 500/500 [00:00<00:00, 838.81it/s]\n",
      "100%|██████████| 500/500 [00:00<00:00, 1143.90it/s]\n",
      "100%|██████████| 500/500 [00:00<00:00, 1146.47it/s]\n",
      "100%|██████████| 500/500 [00:00<00:00, 1100.40it/s]\n",
      "100%|██████████| 500/500 [00:00<00:00, 1068.88it/s]\n",
      "100%|██████████| 500/500 [00:00<00:00, 914.24it/s]\n",
      "100%|██████████| 500/500 [00:00<00:00, 1044.36it/s]\n",
      "100%|██████████| 500/500 [00:00<00:00, 885.75it/s]\n",
      "100%|██████████| 500/500 [00:00<00:00, 1145.19it/s]\n",
      "100%|██████████| 500/500 [00:00<00:00, 988.55it/s] \n",
      "100%|██████████| 500/500 [00:00<00:00, 1030.95it/s]\n",
      "100%|██████████| 500/500 [00:00<00:00, 1067.30it/s]\n",
      "100%|██████████| 500/500 [00:00<00:00, 1403.96it/s]\n",
      "100%|██████████| 500/500 [00:00<00:00, 1444.12it/s]\n",
      "100%|██████████| 500/500 [00:00<00:00, 1313.92it/s]\n",
      "100%|██████████| 500/500 [00:00<00:00, 1157.25it/s]\n",
      "100%|██████████| 500/500 [00:00<00:00, 1038.98it/s]\n",
      "100%|██████████| 500/500 [00:00<00:00, 1622.93it/s]\n",
      "100%|██████████| 500/500 [00:00<00:00, 1095.71it/s]\n",
      "100%|██████████| 500/500 [00:00<00:00, 1374.05it/s]\n",
      "100%|██████████| 500/500 [00:00<00:00, 1160.20it/s]\n",
      "100%|██████████| 500/500 [00:00<00:00, 1019.24it/s]\n"
     ]
    }
   ],
   "source": [
    "exp_exact = compute()"
   ]
  },
  {
   "cell_type": "code",
   "execution_count": 7,
   "metadata": {},
   "outputs": [
    {
     "name": "stdout",
     "output_type": "stream",
     "text": [
      "Agent believes first=best? False\n",
      "Info type is: gain\n",
      "Action selection+approximate\n",
      "scaling factor: 0.0\n"
     ]
    }
   ],
   "source": [
    "action_selection = \"approximate\"\n",
    "agent = agent_class(\n",
    "    k=K,\n",
    "    n=N,\n",
    "    correlated_sampling=1,\n",
    "    horizon=T,\n",
    "    limited_prefs=True if prior == \"soft_sparse\" else False,\n",
    "    n_samples=M,\n",
    "    info_type=\"gain\",\n",
    "    action_type=action_selection,\n",
    ")"
   ]
  },
  {
   "cell_type": "code",
   "execution_count": 8,
   "metadata": {},
   "outputs": [
    {
     "name": "stderr",
     "output_type": "stream",
     "text": [
      "100%|██████████| 500/500 [00:03<00:00, 130.59it/s]\n",
      "100%|██████████| 500/500 [00:00<00:00, 1805.77it/s]\n",
      "100%|██████████| 500/500 [00:00<00:00, 1844.25it/s]\n",
      "100%|██████████| 500/500 [00:00<00:00, 1333.65it/s]\n",
      "100%|██████████| 500/500 [00:00<00:00, 1099.50it/s]\n",
      "100%|██████████| 500/500 [00:00<00:00, 1632.39it/s]\n",
      "100%|██████████| 500/500 [00:00<00:00, 1561.99it/s]\n",
      "100%|██████████| 500/500 [00:00<00:00, 1672.02it/s]\n",
      "100%|██████████| 500/500 [00:00<00:00, 1631.35it/s]\n",
      "100%|██████████| 500/500 [00:00<00:00, 1379.53it/s]\n",
      "100%|██████████| 500/500 [00:00<00:00, 1633.46it/s]\n",
      "100%|██████████| 500/500 [00:00<00:00, 1408.55it/s]\n",
      "100%|██████████| 500/500 [00:00<00:00, 1212.40it/s]\n",
      "100%|██████████| 500/500 [00:00<00:00, 1143.13it/s]\n",
      "100%|██████████| 500/500 [00:00<00:00, 1370.83it/s]\n",
      "100%|██████████| 500/500 [00:00<00:00, 1206.66it/s]\n",
      "100%|██████████| 500/500 [00:00<00:00, 1616.39it/s]\n",
      "100%|██████████| 500/500 [00:00<00:00, 1463.18it/s]\n",
      "100%|██████████| 500/500 [00:00<00:00, 1332.56it/s]\n",
      "100%|██████████| 500/500 [00:00<00:00, 1424.90it/s]\n",
      "100%|██████████| 500/500 [00:00<00:00, 1206.01it/s]\n",
      "100%|██████████| 500/500 [00:00<00:00, 1612.08it/s]\n",
      "100%|██████████| 500/500 [00:00<00:00, 1390.86it/s]\n",
      "100%|██████████| 500/500 [00:00<00:00, 1330.40it/s]\n",
      "100%|██████████| 500/500 [00:00<00:00, 1406.06it/s]\n",
      "100%|██████████| 500/500 [00:00<00:00, 1341.76it/s]\n",
      "100%|██████████| 500/500 [00:00<00:00, 1557.21it/s]\n",
      "100%|██████████| 500/500 [00:00<00:00, 1401.16it/s]\n",
      "100%|██████████| 500/500 [00:00<00:00, 1264.15it/s]\n",
      "100%|██████████| 500/500 [00:00<00:00, 1334.95it/s]\n",
      "100%|██████████| 500/500 [00:00<00:00, 1436.88it/s]\n",
      "100%|██████████| 500/500 [00:00<00:00, 1223.57it/s]\n",
      "100%|██████████| 500/500 [00:00<00:00, 1550.90it/s]\n",
      "100%|██████████| 500/500 [00:00<00:00, 1686.56it/s]\n",
      "100%|██████████| 500/500 [00:00<00:00, 1518.06it/s]\n",
      "100%|██████████| 500/500 [00:00<00:00, 1700.12it/s]\n",
      "100%|██████████| 500/500 [00:00<00:00, 1449.54it/s]\n",
      "100%|██████████| 500/500 [00:00<00:00, 1037.76it/s]\n",
      "100%|██████████| 500/500 [00:00<00:00, 1571.69it/s]\n",
      "100%|██████████| 500/500 [00:00<00:00, 1345.13it/s]\n",
      "100%|██████████| 500/500 [00:00<00:00, 1356.19it/s]\n",
      "100%|██████████| 500/500 [00:00<00:00, 1353.51it/s]\n",
      "100%|██████████| 500/500 [00:00<00:00, 1548.41it/s]\n",
      "100%|██████████| 500/500 [00:00<00:00, 1451.94it/s]\n",
      "100%|██████████| 500/500 [00:00<00:00, 1612.19it/s]\n",
      "100%|██████████| 500/500 [00:00<00:00, 1177.87it/s]\n",
      "100%|██████████| 500/500 [00:00<00:00, 1228.29it/s]\n",
      "100%|██████████| 500/500 [00:00<00:00, 1607.44it/s]\n",
      "100%|██████████| 500/500 [00:00<00:00, 1449.46it/s]\n",
      "100%|██████████| 500/500 [00:00<00:00, 1586.35it/s]\n"
     ]
    }
   ],
   "source": [
    "exp_approx = compute()"
   ]
  },
  {
   "cell_type": "code",
   "execution_count": 9,
   "metadata": {},
   "outputs": [],
   "source": [
    "def process_metadata(exp_data):\n",
    "    ratios = np.zeros(len(exp_data[0]['rewards']), dtype=np.float64)\n",
    "    for run_data in exp_data:\n",
    "        ratios_run = run_data['metadata']['ratios']\n",
    "        updates_run = run_data['metadata']['steps']\n",
    "        ix = -1\n",
    "        for i, step in enumerate(updates_run):\n",
    "            if step == \"new\":\n",
    "                ix += 1\n",
    "            ratios[i] += ratios_run[ix]\n",
    "    ratios /= len(exp_data)\n",
    "    return ratios"
   ]
  },
  {
   "cell_type": "code",
   "execution_count": 12,
   "metadata": {},
   "outputs": [
    {
     "data": {
      "text/plain": [
       "<matplotlib.legend.Legend at 0x7fafd73cae10>"
      ]
     },
     "execution_count": 12,
     "metadata": {},
     "output_type": "execute_result"
    },
    {
     "data": {
      "image/png": "[encoded data removed]",
      "text/plain": [
       "<Figure size 432x288 with 1 Axes>"
      ]
     },
     "metadata": {
      "needs_background": "light"
     },
     "output_type": "display_data"
    }
   ],
   "source": [
    "ratios_exact = process_metadata(exp_exact)\n",
    "ratios_approx = process_metadata(exp_approx)\n",
    "plt.plot(np.arange(T), ratios_exact, label=\"exact IDS\")\n",
    "plt.plot(np.arange(T), ratios_approx, label=\"approximate IDS\")\n",
    "plt.legend()"
   ]
  },
  {
   "cell_type": "code",
   "execution_count": null,
   "metadata": {},
   "outputs": [],
   "source": []
  }
 ],
 "metadata": {
  "kernelspec": {
   "display_name": "Python 3",
   "language": "python",
   "name": "python3"
  },
  "language_info": {
   "codemirror_mode": {
    "name": "ipython",
    "version": 3
   },
   "file_extension": ".py",
   "mimetype": "text/x-python",
   "name": "python",
   "nbconvert_exporter": "python",
   "pygments_lexer": "ipython3",
   "version": "3.7.6"
  }
 },
 "nbformat": 4,
 "nbformat_minor": 4
}

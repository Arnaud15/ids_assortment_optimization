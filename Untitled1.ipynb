{
 "cells": [
  {
   "cell_type": "code",
   "execution_count": 1,
   "metadata": {},
   "outputs": [],
   "source": [
    "from run_utils import run_episode, get_prior\n",
    "from env import AssortmentEnvironment\n",
    "from ids_agents import EpochSamplingIDS\n",
    "import numpy as np\n",
    "import matplotlib.pyplot as plt"
   ]
  },
  {
   "cell_type": "code",
   "execution_count": 20,
   "metadata": {},
   "outputs": [],
   "source": [
    "K = 2\n",
    "N = 5\n",
    "T = 1000\n",
    "prior = \"uniform\"\n",
    "M = 2\n",
    "action_selection = \"exact\"\n",
    "NRUNS = 90\n",
    "agent_class = EpochSamplingIDS"
   ]
  },
  {
   "cell_type": "code",
   "execution_count": 21,
   "metadata": {},
   "outputs": [
    {
     "name": "stdout",
     "output_type": "stream",
     "text": [
      "Agent believes first=best? False\n",
      "Info type is: gain\n",
      "Action selection+exact\n",
      "scaling factor: 0.0\n"
     ]
    }
   ],
   "source": [
    "agent = agent_class(\n",
    "    k=K,\n",
    "    n=N,\n",
    "    correlated_sampling=1,\n",
    "    horizon=T,\n",
    "    limited_prefs=True if prior == \"soft_sparse\" else False,\n",
    "    n_samples=M,\n",
    "    info_type=\"gain\",\n",
    "    action_type=action_selection,\n",
    ")"
   ]
  },
  {
   "cell_type": "code",
   "execution_count": 22,
   "metadata": {},
   "outputs": [],
   "source": [
    "# Actual experiments with printing\n",
    "def compute():\n",
    "    experiment_data = []\n",
    "    for _ in range(NRUNS):\n",
    "        run_preferences = get_prior(\n",
    "            n_items=N,\n",
    "            prior_type=prior,\n",
    "            fallback_weight=0.\n",
    "        )\n",
    "        env = AssortmentEnvironment(n=N, v=run_preferences)\n",
    "        if prior == \"full_sparse\":\n",
    "            expected_reward_from_best_action = 1.0\n",
    "        else:\n",
    "            top_preferences = np.sort(run_preferences)[-(K + 1) :]\n",
    "            top_preferences = top_preferences / top_preferences.sum()\n",
    "            expected_reward_from_best_action = top_preferences[: K].sum()\n",
    "\n",
    "        run_data = {\"best_reward\": expected_reward_from_best_action}\n",
    "        obs_run, rewards_run, extra_data = run_episode(\n",
    "            envnmt=env, actor=agent, n_steps=T, verbose=0\n",
    "        )\n",
    "\n",
    "        run_data[\"rewards\"] = rewards_run\n",
    "        run_data[\"metadata\"] = extra_data\n",
    "\n",
    "        experiment_data.append(run_data)\n",
    "    return experiment_data"
   ]
  },
  {
   "cell_type": "code",
   "execution_count": 23,
   "metadata": {},
   "outputs": [
    {
     "name": "stderr",
     "output_type": "stream",
     "text": [
      "100%|██████████| 1000/1000 [00:00<00:00, 2356.40it/s]\n",
      "100%|██████████| 1000/1000 [00:00<00:00, 2634.54it/s]\n",
      "100%|██████████| 1000/1000 [00:00<00:00, 3077.75it/s]\n",
      "100%|██████████| 1000/1000 [00:00<00:00, 2705.86it/s]\n",
      "100%|██████████| 1000/1000 [00:00<00:00, 2500.22it/s]\n",
      "100%|██████████| 1000/1000 [00:00<00:00, 2932.54it/s]\n",
      "100%|██████████| 1000/1000 [00:00<00:00, 2799.41it/s]\n",
      "100%|██████████| 1000/1000 [00:00<00:00, 2815.49it/s]\n",
      "100%|██████████| 1000/1000 [00:00<00:00, 2962.45it/s]\n",
      "100%|██████████| 1000/1000 [00:00<00:00, 2956.78it/s]\n",
      "100%|██████████| 1000/1000 [00:00<00:00, 2895.36it/s]\n",
      "100%|██████████| 1000/1000 [00:00<00:00, 2938.82it/s]\n",
      "100%|██████████| 1000/1000 [00:00<00:00, 2560.63it/s]\n",
      "100%|██████████| 1000/1000 [00:00<00:00, 3022.37it/s]\n",
      "100%|██████████| 1000/1000 [00:00<00:00, 1809.79it/s]\n",
      "100%|██████████| 1000/1000 [00:00<00:00, 1817.59it/s]\n",
      "100%|██████████| 1000/1000 [00:00<00:00, 2549.19it/s]\n",
      "100%|██████████| 1000/1000 [00:00<00:00, 3136.05it/s]\n",
      "100%|██████████| 1000/1000 [00:00<00:00, 2202.17it/s]\n",
      "100%|██████████| 1000/1000 [00:00<00:00, 2553.28it/s]\n",
      "100%|██████████| 1000/1000 [00:00<00:00, 2927.63it/s]\n",
      "100%|██████████| 1000/1000 [00:00<00:00, 1884.57it/s]\n",
      "100%|██████████| 1000/1000 [00:00<00:00, 2197.14it/s]\n",
      "100%|██████████| 1000/1000 [00:00<00:00, 1993.68it/s]\n",
      "100%|██████████| 1000/1000 [00:00<00:00, 2428.26it/s]\n",
      "100%|██████████| 1000/1000 [00:00<00:00, 2537.43it/s]\n",
      "100%|██████████| 1000/1000 [00:00<00:00, 2647.80it/s]\n",
      "100%|██████████| 1000/1000 [00:00<00:00, 2402.96it/s]\n",
      "100%|██████████| 1000/1000 [00:00<00:00, 2285.86it/s]\n",
      "100%|██████████| 1000/1000 [00:00<00:00, 1546.25it/s]\n",
      "100%|██████████| 1000/1000 [00:00<00:00, 1780.29it/s]\n",
      "100%|██████████| 1000/1000 [00:00<00:00, 1223.69it/s]\n",
      "100%|██████████| 1000/1000 [00:00<00:00, 1338.87it/s]\n",
      "100%|██████████| 1000/1000 [00:00<00:00, 2478.14it/s]\n",
      "100%|██████████| 1000/1000 [00:00<00:00, 2904.86it/s]\n",
      "100%|██████████| 1000/1000 [00:00<00:00, 2324.41it/s]\n",
      "100%|██████████| 1000/1000 [00:00<00:00, 2263.63it/s]\n",
      "100%|██████████| 1000/1000 [00:00<00:00, 2415.96it/s]\n",
      "100%|██████████| 1000/1000 [00:00<00:00, 2579.78it/s]\n",
      "100%|██████████| 1000/1000 [00:00<00:00, 2492.69it/s]\n",
      "100%|██████████| 1000/1000 [00:00<00:00, 2618.34it/s]\n",
      "100%|██████████| 1000/1000 [00:00<00:00, 2061.05it/s]\n",
      "100%|██████████| 1000/1000 [00:00<00:00, 2119.99it/s]\n",
      "100%|██████████| 1000/1000 [00:00<00:00, 1603.36it/s]\n",
      "100%|██████████| 1000/1000 [00:00<00:00, 2080.51it/s]\n",
      "100%|██████████| 1000/1000 [00:00<00:00, 2372.86it/s]\n",
      "100%|██████████| 1000/1000 [00:00<00:00, 2833.02it/s]\n",
      "100%|██████████| 1000/1000 [00:00<00:00, 2502.06it/s]\n",
      "100%|██████████| 1000/1000 [00:00<00:00, 2648.86it/s]\n",
      "100%|██████████| 1000/1000 [00:00<00:00, 2599.52it/s]\n",
      "100%|██████████| 1000/1000 [00:00<00:00, 2709.82it/s]\n",
      "100%|██████████| 1000/1000 [00:00<00:00, 2310.19it/s]\n",
      "100%|██████████| 1000/1000 [00:00<00:00, 2228.24it/s]\n",
      "100%|██████████| 1000/1000 [00:00<00:00, 2745.23it/s]\n",
      "100%|██████████| 1000/1000 [00:00<00:00, 2367.59it/s]\n",
      "100%|██████████| 1000/1000 [00:00<00:00, 2464.58it/s]\n",
      "100%|██████████| 1000/1000 [00:00<00:00, 2723.15it/s]\n",
      "100%|██████████| 1000/1000 [00:00<00:00, 2437.11it/s]\n",
      "100%|██████████| 1000/1000 [00:00<00:00, 2223.38it/s]\n",
      "100%|██████████| 1000/1000 [00:00<00:00, 2788.83it/s]\n",
      "100%|██████████| 1000/1000 [00:00<00:00, 2253.20it/s]\n",
      "100%|██████████| 1000/1000 [00:00<00:00, 1964.54it/s]\n",
      "100%|██████████| 1000/1000 [00:00<00:00, 2183.84it/s]\n",
      "100%|██████████| 1000/1000 [00:00<00:00, 2302.47it/s]\n",
      "100%|██████████| 1000/1000 [00:00<00:00, 2044.90it/s]\n",
      "100%|██████████| 1000/1000 [00:00<00:00, 2595.42it/s]\n",
      "100%|██████████| 1000/1000 [00:00<00:00, 1868.62it/s]\n",
      "100%|██████████| 1000/1000 [00:00<00:00, 2614.84it/s]\n",
      "100%|██████████| 1000/1000 [00:00<00:00, 2348.14it/s]\n",
      "100%|██████████| 1000/1000 [00:00<00:00, 2234.03it/s]\n",
      "100%|██████████| 1000/1000 [00:00<00:00, 2730.64it/s]\n",
      "100%|██████████| 1000/1000 [00:00<00:00, 2685.87it/s]\n",
      "100%|██████████| 1000/1000 [00:00<00:00, 2524.78it/s]\n",
      "100%|██████████| 1000/1000 [00:00<00:00, 2854.04it/s]\n",
      "100%|██████████| 1000/1000 [00:00<00:00, 2562.62it/s]\n",
      "100%|██████████| 1000/1000 [00:00<00:00, 2572.33it/s]\n",
      "100%|██████████| 1000/1000 [00:00<00:00, 2764.86it/s]\n",
      "100%|██████████| 1000/1000 [00:00<00:00, 2498.15it/s]\n",
      "100%|██████████| 1000/1000 [00:00<00:00, 2837.61it/s]\n",
      "100%|██████████| 1000/1000 [00:00<00:00, 2376.41it/s]\n",
      "100%|██████████| 1000/1000 [00:00<00:00, 2685.23it/s]\n",
      "100%|██████████| 1000/1000 [00:00<00:00, 2200.01it/s]\n",
      "100%|██████████| 1000/1000 [00:00<00:00, 2278.36it/s]\n",
      "100%|██████████| 1000/1000 [00:00<00:00, 2724.58it/s]\n",
      "100%|██████████| 1000/1000 [00:00<00:00, 2656.15it/s]\n",
      "100%|██████████| 1000/1000 [00:00<00:00, 2481.92it/s]\n",
      "100%|██████████| 1000/1000 [00:00<00:00, 1955.69it/s]\n",
      "100%|██████████| 1000/1000 [00:00<00:00, 1925.77it/s]\n",
      "100%|██████████| 1000/1000 [00:00<00:00, 2622.74it/s]\n",
      "100%|██████████| 1000/1000 [00:00<00:00, 2269.61it/s]\n"
     ]
    }
   ],
   "source": [
    "exp_exact = compute()"
   ]
  },
  {
   "cell_type": "code",
   "execution_count": 24,
   "metadata": {},
   "outputs": [
    {
     "name": "stdout",
     "output_type": "stream",
     "text": [
      "Agent believes first=best? False\n",
      "Info type is: gain\n",
      "Action selection+approximate\n",
      "scaling factor: 0.0\n"
     ]
    }
   ],
   "source": [
    "action_selection = \"approximate\"\n",
    "agent = agent_class(\n",
    "    k=K,\n",
    "    n=N,\n",
    "    correlated_sampling=1,\n",
    "    horizon=T,\n",
    "    limited_prefs=True if prior == \"soft_sparse\" else False,\n",
    "    n_samples=M,\n",
    "    info_type=\"gain\",\n",
    "    action_type=action_selection,\n",
    ")"
   ]
  },
  {
   "cell_type": "code",
   "execution_count": 25,
   "metadata": {},
   "outputs": [
    {
     "name": "stderr",
     "output_type": "stream",
     "text": [
      "100%|██████████| 1000/1000 [00:00<00:00, 2718.37it/s]\n",
      "100%|██████████| 1000/1000 [00:00<00:00, 2705.77it/s]\n",
      "100%|██████████| 1000/1000 [00:00<00:00, 1910.58it/s]\n",
      "100%|██████████| 1000/1000 [00:00<00:00, 2212.67it/s]\n",
      "100%|██████████| 1000/1000 [00:00<00:00, 2782.14it/s]\n",
      "100%|██████████| 1000/1000 [00:00<00:00, 2157.22it/s]\n",
      "100%|██████████| 1000/1000 [00:00<00:00, 2453.11it/s]\n",
      "100%|██████████| 1000/1000 [00:00<00:00, 1968.84it/s]\n",
      "100%|██████████| 1000/1000 [00:00<00:00, 2625.43it/s]\n",
      "100%|██████████| 1000/1000 [00:00<00:00, 2696.05it/s]\n",
      "100%|██████████| 1000/1000 [00:00<00:00, 2483.45it/s]\n",
      "100%|██████████| 1000/1000 [00:00<00:00, 2134.23it/s]\n",
      "100%|██████████| 1000/1000 [00:00<00:00, 2498.51it/s]\n",
      "100%|██████████| 1000/1000 [00:00<00:00, 2444.15it/s]\n",
      "100%|██████████| 1000/1000 [00:00<00:00, 2087.05it/s]\n",
      "100%|██████████| 1000/1000 [00:00<00:00, 2138.78it/s]\n",
      "100%|██████████| 1000/1000 [00:00<00:00, 2685.31it/s]\n",
      "100%|██████████| 1000/1000 [00:00<00:00, 2515.49it/s]\n",
      "100%|██████████| 1000/1000 [00:00<00:00, 2356.72it/s]\n",
      "100%|██████████| 1000/1000 [00:00<00:00, 2471.24it/s]\n",
      "100%|██████████| 1000/1000 [00:00<00:00, 2690.49it/s]\n",
      "100%|██████████| 1000/1000 [00:00<00:00, 2601.09it/s]\n",
      "100%|██████████| 1000/1000 [00:00<00:00, 2735.20it/s]\n",
      "100%|██████████| 1000/1000 [00:00<00:00, 2765.00it/s]\n",
      "100%|██████████| 1000/1000 [00:00<00:00, 2597.66it/s]\n",
      "100%|██████████| 1000/1000 [00:00<00:00, 2864.34it/s]\n",
      "100%|██████████| 1000/1000 [00:00<00:00, 2725.40it/s]\n",
      "100%|██████████| 1000/1000 [00:00<00:00, 2037.13it/s]\n",
      "100%|██████████| 1000/1000 [00:00<00:00, 2858.82it/s]\n",
      "100%|██████████| 1000/1000 [00:00<00:00, 3393.97it/s]\n",
      "100%|██████████| 1000/1000 [00:00<00:00, 2485.05it/s]\n",
      "100%|██████████| 1000/1000 [00:00<00:00, 2934.16it/s]\n",
      "100%|██████████| 1000/1000 [00:00<00:00, 2316.95it/s]\n",
      "100%|██████████| 1000/1000 [00:00<00:00, 2546.15it/s]\n",
      "100%|██████████| 1000/1000 [00:00<00:00, 2411.61it/s]\n",
      "100%|██████████| 1000/1000 [00:00<00:00, 2770.27it/s]\n",
      "100%|██████████| 1000/1000 [00:00<00:00, 2798.65it/s]\n",
      "100%|██████████| 1000/1000 [00:00<00:00, 2889.90it/s]\n",
      "100%|██████████| 1000/1000 [00:00<00:00, 2614.08it/s]\n",
      "100%|██████████| 1000/1000 [00:00<00:00, 2376.92it/s]\n",
      "100%|██████████| 1000/1000 [00:00<00:00, 2439.66it/s]\n",
      "100%|██████████| 1000/1000 [00:00<00:00, 2089.36it/s]\n",
      "100%|██████████| 1000/1000 [00:00<00:00, 2730.04it/s]\n",
      "100%|██████████| 1000/1000 [00:00<00:00, 2337.57it/s]\n",
      "100%|██████████| 1000/1000 [00:00<00:00, 2289.63it/s]\n",
      "100%|██████████| 1000/1000 [00:00<00:00, 2152.19it/s]\n",
      "100%|██████████| 1000/1000 [00:00<00:00, 2090.14it/s]\n",
      "100%|██████████| 1000/1000 [00:00<00:00, 2689.76it/s]\n",
      "100%|██████████| 1000/1000 [00:00<00:00, 2430.69it/s]\n",
      "100%|██████████| 1000/1000 [00:00<00:00, 2245.34it/s]\n",
      "100%|██████████| 1000/1000 [00:00<00:00, 2728.69it/s]\n",
      "100%|██████████| 1000/1000 [00:00<00:00, 2653.61it/s]\n",
      "100%|██████████| 1000/1000 [00:00<00:00, 2083.46it/s]\n",
      "100%|██████████| 1000/1000 [00:00<00:00, 2501.50it/s]\n",
      "100%|██████████| 1000/1000 [00:00<00:00, 2142.74it/s]\n",
      "100%|██████████| 1000/1000 [00:00<00:00, 2257.47it/s]\n",
      "100%|██████████| 1000/1000 [00:00<00:00, 2588.98it/s]\n",
      "100%|██████████| 1000/1000 [00:00<00:00, 2268.88it/s]\n",
      "100%|██████████| 1000/1000 [00:00<00:00, 2468.23it/s]\n",
      "100%|██████████| 1000/1000 [00:00<00:00, 2571.45it/s]\n",
      "100%|██████████| 1000/1000 [00:00<00:00, 2205.55it/s]\n",
      "100%|██████████| 1000/1000 [00:00<00:00, 2169.62it/s]\n",
      "100%|██████████| 1000/1000 [00:00<00:00, 2563.84it/s]\n",
      "100%|██████████| 1000/1000 [00:00<00:00, 2000.71it/s]\n",
      "100%|██████████| 1000/1000 [00:00<00:00, 2541.49it/s]\n",
      "100%|██████████| 1000/1000 [00:00<00:00, 2207.90it/s]\n",
      "100%|██████████| 1000/1000 [00:00<00:00, 2577.57it/s]\n",
      "100%|██████████| 1000/1000 [00:00<00:00, 2194.62it/s]\n",
      "100%|██████████| 1000/1000 [00:00<00:00, 2522.59it/s]\n",
      "100%|██████████| 1000/1000 [00:00<00:00, 2578.43it/s]\n",
      "100%|██████████| 1000/1000 [00:00<00:00, 2566.09it/s]\n",
      "100%|██████████| 1000/1000 [00:00<00:00, 1910.22it/s]\n",
      "100%|██████████| 1000/1000 [00:00<00:00, 2080.71it/s]\n",
      "100%|██████████| 1000/1000 [00:00<00:00, 2313.84it/s]\n",
      "100%|██████████| 1000/1000 [00:00<00:00, 2219.51it/s]\n",
      "100%|██████████| 1000/1000 [00:00<00:00, 1851.90it/s]\n",
      "100%|██████████| 1000/1000 [00:00<00:00, 2152.69it/s]\n",
      "100%|██████████| 1000/1000 [00:00<00:00, 2140.39it/s]\n",
      "100%|██████████| 1000/1000 [00:00<00:00, 2003.47it/s]\n",
      "100%|██████████| 1000/1000 [00:00<00:00, 1715.03it/s]\n",
      "100%|██████████| 1000/1000 [00:00<00:00, 1789.77it/s]\n",
      "100%|██████████| 1000/1000 [00:00<00:00, 1929.49it/s]\n",
      "100%|██████████| 1000/1000 [00:00<00:00, 1941.15it/s]\n",
      "100%|██████████| 1000/1000 [00:00<00:00, 2110.68it/s]\n",
      "100%|██████████| 1000/1000 [00:00<00:00, 2084.98it/s]\n",
      "100%|██████████| 1000/1000 [00:00<00:00, 2282.59it/s]\n",
      "100%|██████████| 1000/1000 [00:00<00:00, 1991.33it/s]\n",
      "100%|██████████| 1000/1000 [00:00<00:00, 2206.19it/s]\n",
      "100%|██████████| 1000/1000 [00:00<00:00, 1877.09it/s]\n",
      "100%|██████████| 1000/1000 [00:00<00:00, 2347.64it/s]\n"
     ]
    }
   ],
   "source": [
    "exp_approx = compute()"
   ]
  },
  {
   "cell_type": "code",
   "execution_count": 26,
   "metadata": {},
   "outputs": [],
   "source": [
    "def process_metadata(exp_data):\n",
    "    ratios = np.zeros(len(exp_data[0]['rewards']), dtype=np.float64)\n",
    "    for run_data in exp_data:\n",
    "        ratios_run = run_data['metadata']['ratios']\n",
    "        updates_run = run_data['metadata']['steps']\n",
    "        ix = -1\n",
    "        for i, step in enumerate(updates_run):\n",
    "            if step == \"new\":\n",
    "                ix += 1\n",
    "            ratios[i] += ratios_run[ix]\n",
    "    ratios /= len(exp_data)\n",
    "    return ratios"
   ]
  },
  {
   "cell_type": "code",
   "execution_count": 27,
   "metadata": {},
   "outputs": [
    {
     "data": {
      "text/plain": [
       "<matplotlib.legend.Legend at 0x7f4218193810>"
      ]
     },
     "execution_count": 27,
     "metadata": {},
     "output_type": "execute_result"
    },
    {
     "data": {
      "image/png": "[encoded data removed]",
      "text/plain": [
       "<Figure size 432x288 with 1 Axes>"
      ]
     },
     "metadata": {
      "needs_background": "light"
     },
     "output_type": "display_data"
    }
   ],
   "source": [
    "ratios_exact = process_metadata(exp_exact)\n",
    "ratios_approx = process_metadata(exp_approx)\n",
    "plt.plot(np.arange(T), ratios_exact, label=\"exact IDS\")\n",
    "plt.plot(np.arange(T), ratios_approx, label=\"approximate IDS\")\n",
    "plt.legend()"
   ]
  }
 ],
 "metadata": {
  "kernelspec": {
   "display_name": "Python 3",
   "language": "python",
   "name": "python3"
  },
  "language_info": {
   "codemirror_mode": {
    "name": "ipython",
    "version": 3
   },
   "file_extension": ".py",
   "mimetype": "text/x-python",
   "name": "python",
   "nbconvert_exporter": "python",
   "pygments_lexer": "ipython3",
   "version": "3.7.6"
  }
 },
 "nbformat": 4,
 "nbformat_minor": 4
}

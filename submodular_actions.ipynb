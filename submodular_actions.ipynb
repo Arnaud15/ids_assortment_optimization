{
 "cells": [
  {
   "cell_type": "code",
   "execution_count": 52,
   "metadata": {},
   "outputs": [],
   "source": [
    "from run_utils import run_episode, get_prior\n",
    "from env import AssortmentEnvironment\n",
    "from base_agents import RandomAgent"
   ]
  },
  {
   "cell_type": "code",
   "execution_count": 53,
   "metadata": {},
   "outputs": [],
   "source": [
    "N = 10\n",
    "K = 3\n",
    "T = 1000\n",
    "M = 25"
   ]
  },
  {
   "cell_type": "code",
   "execution_count": 39,
   "metadata": {},
   "outputs": [
    {
     "name": "stderr",
     "output_type": "stream",
     "text": [
      "100%|██████████| 1000/1000 [00:00<00:00, 6908.54it/s]\n"
     ]
    }
   ],
   "source": [
    "agent = RandomAgent(\n",
    "    k=K,\n",
    "    n=N,\n",
    ")\n",
    "\n",
    "# Actual experiments with printing\n",
    "experiment_data = []\n",
    "run_preferences = get_prior(\n",
    "    n_items=N,\n",
    "    prior_type=\"uniform\",\n",
    "    fallback_weight=None,\n",
    ")\n",
    "env = AssortmentEnvironment(n=N, v=run_preferences)\n",
    "\n",
    "obs_run, rewards_run = run_episode(\n",
    "    envnmt=env, actor=agent, n_steps=T, verbose=False\n",
    ")"
   ]
  },
  {
   "cell_type": "code",
   "execution_count": 5,
   "metadata": {},
   "outputs": [],
   "source": [
    "def action_statistics(observations, n_items):\n",
    "    action_to_id = {}\n",
    "    count = 0\n",
    "    probas = []\n",
    "    zero_given_x = []\n",
    "    for action, observation in observations:\n",
    "        action = tuple(sorted(list(action)))\n",
    "        if action in action_to_id:\n",
    "            ix = action_to_id[action]\n",
    "            probas[ix] += 1.\n",
    "            if observation == n_items:\n",
    "                zero_given_x[ix] += 1.\n",
    "        else:\n",
    "            action_to_id[action] = count\n",
    "            probas.append(1.)\n",
    "            zero_given_x.append(1. if observation == n_items else 0)\n",
    "            count += 1\n",
    "    probas = np.array(probas)\n",
    "    zero_given_x = np.array(zero_given_x)\n",
    "    zero_given_x = zero_given_x / probas\n",
    "    probas /= len(observations)\n",
    "    assert probas.shape[0] == count\n",
    "    assert zero_given_x.shape[0] == count\n",
    "    assert probas.sum() < (1 + 1e-5)\n",
    "    assert probas.sum() > (1 - 1e-5)\n",
    "    id_to_action = {ix: action for (action, ix) in action_to_id.items()}\n",
    "    return id_to_action, probas, zero_given_x \n",
    "\n",
    "def f_function(t, p0):\n",
    "    t = np.clip(t, 0., 1.)\n",
    "    return xlogy(t, t/p0) + xlogy(1-t, (1-t) / (1 - p0))\n",
    "\n",
    "def query_improvement(idx, data, p_i, p_i_c, p0):\n",
    "    s_left = data.prev_item(idx)[0]\n",
    "    s_right = data.succ_item(idx)[0]\n",
    "    p = p_i[idx] - p_i[s_left]\n",
    "    q = p_i[s_right] - p_i[idx]\n",
    "    alpha = (p_i[idx] * p_i_c[idx] - p_i[s_left] * p_i_c[s_left]) / p\n",
    "    beta = (p_i[s_right] * p_i_c[s_right] - p_i[idx] * p_i_c[idx]) / q\n",
    "    improv = f_function(t=alpha, p0=p0) * p + f_function(t=beta, p0=p0) * q - (p + q) * f_function(t=(alpha * p + beta * q)/(p+q), p0=p0)\n",
    "    if np.isnan(improv):\n",
    "        ipdb.set_trace()\n",
    "    return f_function(t=alpha, p0=p0) * p + f_function(t=beta, p0=p0) * q - (p + q) * f_function(t=(alpha * p + beta * q)/(p+q), p0=p0)"
   ]
  },
  {
   "cell_type": "code",
   "execution_count": 20,
   "metadata": {},
   "outputs": [
    {
     "name": "stdout",
     "output_type": "stream",
     "text": [
      "improvement 0.04467871109800698, with 73 at step 1\n",
      "improvement 0.016400526794599805, with 20 at step 2\n",
      "improvement 0.005512109055157619, with 10 at step 3\n",
      "improvement 0.003524423995922738, with 46 at step 4\n",
      "improvement 0.005632010192837138, with 108 at step 5\n",
      "improvement 0.0014865349616899007, with 86 at step 6\n",
      "improvement 0.00036801816057700776, with 110 at step 7\n",
      "improvement 0.0006083477571946494, with 116 at step 8\n",
      "improvement 0.00046508350708036883, with 32 at step 9\n",
      "improvement 0.00027770551866536375, with 94 at step 10\n",
      "improvement 0.000151706728243421, with 67 at step 11\n",
      "improvement 8.503307250205792e-05, with 57 at step 12\n",
      "improvement 7.764816847561024e-05, with 40 at step 13\n",
      "improvement 9.099093607269374e-05, with 85 at step 14\n",
      "improvement 0.000110445702559624, with 14 at step 15\n",
      "improvement 8.943934229299622e-05, with 118 at step 16\n",
      "improvement 9.748245205930522e-05, with 114 at step 17\n",
      "improvement 4.4795212243480854e-05, with 24 at step 18\n",
      "improvement 4.0836956207354006e-05, with 81 at step 19\n",
      "improvement 3.545195282269285e-05, with 102 at step 20\n",
      "improvement 2.0953767956323087e-05, with 43 at step 21\n",
      "improvement 1.1067712556205034e-05, with 106 at step 22\n",
      "improvement 4.6069649757840396e-05, with 60 at step 23\n",
      "improvement 3.035726912244737e-05, with 27 at step 24\n"
     ]
    }
   ],
   "source": [
    "def observations_to_actions(obs_run, N, M)\n",
    "    id_to_action, x_probas, zero_given_x = action_statistics(observations=obs_run, n_items=N)\n",
    "\n",
    "    p_0 = len([x for (x, it) in obs_run if it == N]) / len(obs_run)\n",
    "    sorting_indexes = np.argsort(zero_given_x)\n",
    "    id_to_actions = [id_to_action[ix] for ix in sorting_indexes]\n",
    "    zero_given_x = zero_given_x[sorting_indexes]\n",
    "    x_probas = x_probas[sorting_indexes]\n",
    "\n",
    "    n_actions = zero_given_x.shape[0]\n",
    "    n_per_set = 2 * (n_actions // M)\n",
    "    S = FastRBTree()\n",
    "    S.insert(0, 0)\n",
    "    S.insert(n_actions, n_actions)\n",
    "    p_inf = np.zeros(n_actions + 1)\n",
    "    p_inf_c = np.zeros(n_actions + 1)\n",
    "    for ix in range(1, n_actions + 1):\n",
    "        p_inf[ix] = p_inf[ix - 1] + x_probas[ix - 1]\n",
    "        p_inf_c[ix] = (p_inf[ix - 1] * p_inf_c[ix - 1] + zero_given_x[ix - 1] * x_probas[ix - 1])/ p_inf[ix]\n",
    "\n",
    "    indexes_available = np.ones(n_actions+1, dtype=bool)\n",
    "    indexes_available[n_actions] = False\n",
    "    indexes_available[0] = False\n",
    "    indexes = np.arange(n_actions+1, dtype=int)\n",
    "    for step_idx in range(M - 1):\n",
    "        largest_imp = -1\n",
    "        index_added = None\n",
    "        random_indexes = np.random.choice(indexes[indexes_available], size=n_per_set, replace=False)\n",
    "        for index_candidate in random_indexes:\n",
    "            S.insert(index_candidate, index_candidate)\n",
    "            improvement = query_improvement(idx=index_candidate, data=S, p_i=p_inf, p_i_c=p_inf_c, p0=p_0)\n",
    "            if improvement > largest_imp:\n",
    "                largest_imp = improvement\n",
    "                index_added = index_candidate\n",
    "            S.remove(index_candidate)\n",
    "        print(f\"improvement {largest_imp}, with {index_added} at step {step_idx + 1}\")\n",
    "        indexes_available[index_added] = False\n",
    "        S.insert(index_added, index_added)\n",
    "\n",
    "    return np.vstack([np.array(id_to_actions[key-1]) for key in sorted(S.keys())[1:]])"
   ]
  },
  {
   "cell_type": "code",
   "execution_count": 55,
   "metadata": {},
   "outputs": [
    {
     "name": "stderr",
     "output_type": "stream",
     "text": [
      "100%|██████████| 1000/1000 [00:00<00:00, 8493.00it/s]"
     ]
    },
    {
     "name": "stdout",
     "output_type": "stream",
     "text": [
      "improvement 0.04595445082928895, with 61 at step 1\n",
      "improvement 0.012423296614438532, with 27 at step 2\n",
      "improvement 0.006852594800065864, with 98 at step 3\n",
      "improvement 0.0011362536151441598, with 76 at step 4\n",
      "improvement 0.006620476453818559, with 6 at step 5\n",
      "improvement 0.0010759474518450517, with 109 at step 6\n",
      "improvement 0.0019738412427992916, with 16 at step 7\n",
      "improvement 0.000589289135951891, with 53 at step 8\n",
      "improvement 0.0002816402504926298, with 39 at step 9\n",
      "improvement 0.0002081651937341951, with 9 at step 10\n",
      "improvement 0.00020848477789806204, with 119 at step 11\n",
      "improvement 0.00017594637816593407, with 100 at step 12\n",
      "improvement 0.0001321651722482962, with 68 at step 13\n",
      "improvement 9.798437083376882e-05, with 90 at step 14\n",
      "improvement 6.607682552202138e-05, with 42 at step 15\n",
      "improvement 2.1077548090748448e-05, with 73 at step 16\n",
      "improvement 9.279260230032373e-05, with 117 at step 17\n",
      "improvement 3.496054859009339e-05, with 47 at step 18\n",
      "improvement 1.0885903623567873e-05, with 8 at step 19\n",
      "improvement 9.380540209810717e-06, with 87 at step 20\n",
      "improvement 1.4985938654787489e-05, with 81 at step 21\n",
      "improvement 2.4377085604267504e-05, with 26 at step 22\n",
      "improvement 1.3047499660061995e-05, with 10 at step 23\n",
      "improvement 3.4586513098046334e-05, with 13 at step 24\n"
     ]
    },
    {
     "name": "stderr",
     "output_type": "stream",
     "text": [
      "\n"
     ]
    }
   ],
   "source": [
    "agent = RandomAgent(\n",
    "    k=K,\n",
    "    n=N,\n",
    ")\n",
    "run_preferences = get_prior(\n",
    "    n_items=N,\n",
    "    prior_type=\"uniform\",\n",
    "    fallback_weight=None,\n",
    ")\n",
    "env = AssortmentEnvironment(n=N, v=run_preferences)\n",
    "obs_run, rewards_run = run_episode(\n",
    "    envnmt=env, actor=agent, n_steps=T, verbose=False\n",
    ")\n",
    "limited_actions = observations_to_actions(obs_run=obs_run, n_items=N, m_actions=M)"
   ]
  },
  {
   "cell_type": "code",
   "execution_count": 57,
   "metadata": {},
   "outputs": [
    {
     "data": {
      "text/plain": [
       "True"
      ]
     },
     "execution_count": 57,
     "metadata": {},
     "output_type": "execute_result"
    }
   ],
   "source": [
    "len(set(tuple(limited_actions[i, :]) for i in range(limited_actions.shape[0]))) == M"
   ]
  },
  {
   "cell_type": "code",
   "execution_count": null,
   "metadata": {},
   "outputs": [],
   "source": []
  }
 ],
 "metadata": {
  "kernelspec": {
   "display_name": "Python 3",
   "language": "python",
   "name": "python3"
  },
  "language_info": {
   "codemirror_mode": {
    "name": "ipython",
    "version": 3
   },
   "file_extension": ".py",
   "mimetype": "text/x-python",
   "name": "python",
   "nbconvert_exporter": "python",
   "pygments_lexer": "ipython3",
   "version": "3.7.6"
  }
 },
 "nbformat": 4,
 "nbformat_minor": 4
}

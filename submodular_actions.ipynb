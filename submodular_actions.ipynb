{
 "cells": [
  {
   "cell_type": "code",
   "execution_count": 223,
   "metadata": {},
   "outputs": [],
   "source": [
    "import numpy as np\n",
    "import matplotlib.pyplot as plt\n",
    "from utils import run_episode, get_prior\n",
    "from env import AssortmentEnvironment\n",
    "from base_agents import RandomAgent\n",
    "from bintrees import FastRBTree\n",
    "from scipy.special import xlogy\n",
    "import ipdb"
   ]
  },
  {
   "cell_type": "code",
   "execution_count": 224,
   "metadata": {},
   "outputs": [],
   "source": [
    "N = 10\n",
    "K = 3\n",
    "T = 1000"
   ]
  },
  {
   "cell_type": "code",
   "execution_count": 225,
   "metadata": {},
   "outputs": [
    {
     "name": "stderr",
     "output_type": "stream",
     "text": [
      "100%|██████████| 1000/1000 [00:00<00:00, 9686.12it/s]\n"
     ]
    }
   ],
   "source": [
    "agent = RandomAgent(\n",
    "    k=K,\n",
    "    n=N,\n",
    ")\n",
    "\n",
    "# Actual experiments with printing\n",
    "experiment_data = []\n",
    "run_preferences = get_prior(\n",
    "    n_items=N,\n",
    "    prior_type=\"uniform\",\n",
    "    fallback_weight=None,\n",
    ")\n",
    "env = AssortmentEnvironment(n=N, v=run_preferences)\n",
    "\n",
    "obs_run, rewards_run = run_episode(\n",
    "    envnmt=env, actor=agent, n_steps=T, verbose=False\n",
    ")"
   ]
  },
  {
   "cell_type": "code",
   "execution_count": 226,
   "metadata": {},
   "outputs": [
    {
     "data": {
      "text/plain": [
       "[(array([3, 4, 9]), 10),\n",
       " (array([6, 4, 8]), 10),\n",
       " (array([6, 4, 2]), 2),\n",
       " (array([2, 1, 4]), 1),\n",
       " (array([0, 3, 8]), 10),\n",
       " (array([4, 7, 3]), 7),\n",
       " (array([7, 4, 3]), 10),\n",
       " (array([8, 9, 5]), 10),\n",
       " (array([4, 5, 8]), 10),\n",
       " (array([9, 3, 1]), 1)]"
      ]
     },
     "execution_count": 226,
     "metadata": {},
     "output_type": "execute_result"
    }
   ],
   "source": [
    "obs_run[:10]"
   ]
  },
  {
   "cell_type": "code",
   "execution_count": 227,
   "metadata": {},
   "outputs": [],
   "source": [
    "def action_statistics(observations, n_items):\n",
    "    action_to_id = {}\n",
    "    count = 0\n",
    "    probas = []\n",
    "    zero_given_x = []\n",
    "    for action, observation in observations:\n",
    "        action = tuple(sorted(list(action)))\n",
    "        if action in action_to_id:\n",
    "            ix = action_to_id[action]\n",
    "            probas[ix] += 1.\n",
    "            if observation == n_items:\n",
    "                zero_given_x[ix] += 1.\n",
    "        else:\n",
    "            action_to_id[action] = count\n",
    "            probas.append(1.)\n",
    "            zero_given_x.append(1. if observation == n_items else 0)\n",
    "            count += 1\n",
    "    probas = np.array(probas)\n",
    "    zero_given_x = np.array(zero_given_x)\n",
    "    zero_given_x = zero_given_x / probas\n",
    "    probas /= len(observations)\n",
    "    assert probas.shape[0] == count\n",
    "    assert zero_given_x.shape[0] == count\n",
    "    assert probas.sum() < (1 + 1e-5)\n",
    "    assert probas.sum() > (1 - 1e-5)\n",
    "    id_to_action = {ix: action for (action, ix) in action_to_id.items()}\n",
    "    return id_to_action, probas, zero_given_x "
   ]
  },
  {
   "cell_type": "code",
   "execution_count": 285,
   "metadata": {},
   "outputs": [],
   "source": [
    "id_to_action, x_probas, zero_given_x = action_statistics(observations=obs_run, n_items=N)"
   ]
  },
  {
   "cell_type": "code",
   "execution_count": 286,
   "metadata": {},
   "outputs": [
    {
     "data": {
      "text/plain": [
       "0.53"
      ]
     },
     "execution_count": 286,
     "metadata": {},
     "output_type": "execute_result"
    }
   ],
   "source": [
    "p_0 = len([x for (x, it) in obs_run if it == N]) / len(obs_run)\n",
    "p_0"
   ]
  },
  {
   "cell_type": "code",
   "execution_count": 287,
   "metadata": {},
   "outputs": [],
   "source": [
    "sorting_indexes = np.argsort(zero_given_x)\n",
    "id_to_actions = [id_to_action[ix] for ix in sorting_indexes]\n",
    "zero_given_x = zero_given_x[sorting_indexes]\n",
    "x_probas = x_probas[sorting_indexes]"
   ]
  },
  {
   "cell_type": "code",
   "execution_count": 288,
   "metadata": {},
   "outputs": [
    {
     "data": {
      "text/plain": [
       "0.53"
      ]
     },
     "execution_count": 288,
     "metadata": {},
     "output_type": "execute_result"
    }
   ],
   "source": [
    "(x_probas * zero_given_x).sum()"
   ]
  },
  {
   "cell_type": "code",
   "execution_count": 289,
   "metadata": {},
   "outputs": [
    {
     "data": {
      "text/plain": [
       "120"
      ]
     },
     "execution_count": 289,
     "metadata": {},
     "output_type": "execute_result"
    }
   ],
   "source": [
    "n_actions = zero_given_x.shape[0]\n",
    "n_actions"
   ]
  },
  {
   "cell_type": "code",
   "execution_count": 318,
   "metadata": {},
   "outputs": [
    {
     "data": {
      "text/plain": [
       "25"
      ]
     },
     "execution_count": 318,
     "metadata": {},
     "output_type": "execute_result"
    }
   ],
   "source": [
    "m_actions"
   ]
  },
  {
   "cell_type": "code",
   "execution_count": 319,
   "metadata": {},
   "outputs": [],
   "source": [
    "n_per_set = 2 * (n_actions // m_actions)\n",
    "S = FastRBTree()\n",
    "S.insert(0, 0)\n",
    "S.insert(n_actions, n_actions)\n",
    "p_inf = np.zeros(n_actions + 1)\n",
    "p_inf_c = np.zeros(n_actions + 1)\n",
    "for ix in range(1, n_actions + 1):\n",
    "    p_inf[ix] = p_inf[ix - 1] + x_probas[ix - 1]\n",
    "    p_inf_c[ix] = (p_inf[ix - 1] * p_inf_c[ix - 1] + zero_given_x[ix - 1] * x_probas[ix - 1])/ p_inf[ix]"
   ]
  },
  {
   "cell_type": "code",
   "execution_count": 320,
   "metadata": {},
   "outputs": [
    {
     "data": {
      "text/plain": [
       "array([0.008, 0.003, 0.004, 0.012, 0.005, 0.013, 0.004, 0.008, 0.012,\n",
       "       0.004, 0.008, 0.007, 0.007, 0.01 , 0.01 , 0.009, 0.006, 0.009,\n",
       "       0.006, 0.009, 0.006, 0.006, 0.006, 0.003, 0.006, 0.006, 0.008,\n",
       "       0.008, 0.008, 0.005, 0.005, 0.015, 0.01 , 0.01 , 0.014, 0.007,\n",
       "       0.007, 0.007, 0.014, 0.009, 0.009, 0.009, 0.009, 0.009, 0.011,\n",
       "       0.011, 0.011, 0.011, 0.006, 0.006, 0.01 , 0.004, 0.006, 0.006,\n",
       "       0.006, 0.012, 0.008, 0.004, 0.008, 0.008, 0.008, 0.01 , 0.004,\n",
       "       0.013, 0.011, 0.009, 0.009, 0.009, 0.009, 0.009, 0.009, 0.014,\n",
       "       0.007, 0.007, 0.012, 0.015, 0.005, 0.005, 0.005, 0.01 , 0.005,\n",
       "       0.008, 0.008, 0.008, 0.008, 0.008, 0.011, 0.011, 0.011, 0.011,\n",
       "       0.011, 0.012, 0.012, 0.006, 0.006, 0.009, 0.01 , 0.01 , 0.01 ,\n",
       "       0.007, 0.007, 0.008, 0.008, 0.008, 0.008, 0.009, 0.009, 0.009,\n",
       "       0.005, 0.005, 0.005, 0.01 , 0.011, 0.012, 0.007, 0.015, 0.008,\n",
       "       0.003, 0.004, 0.009])"
      ]
     },
     "execution_count": 320,
     "metadata": {},
     "output_type": "execute_result"
    }
   ],
   "source": [
    "x_probas"
   ]
  },
  {
   "cell_type": "code",
   "execution_count": 321,
   "metadata": {},
   "outputs": [
    {
     "data": {
      "text/plain": [
       "array([0.        , 0.        , 0.        , 0.        , 0.07407407,\n",
       "       0.09375   , 0.13333333, 0.14285714, 0.15789474, 0.17391304,\n",
       "       0.17808219, 0.18518519, 0.19318182, 0.2       , 0.20952381,\n",
       "       0.2173913 , 0.22580645, 0.23076923, 0.23741007, 0.24137931,\n",
       "       0.24675325, 0.25      , 0.25301205, 0.25581395, 0.25714286,\n",
       "       0.25966851, 0.26203209, 0.26666667, 0.27093596, 0.27488152,\n",
       "       0.27777778, 0.28054299, 0.28813559, 0.29268293, 0.296875  ,\n",
       "       0.3037037 , 0.30685921, 0.30985915, 0.31271478, 0.31803279,\n",
       "       0.32165605, 0.3250774 , 0.32831325, 0.3313783 , 0.33428571,\n",
       "       0.33795014, 0.34139785, 0.34464752, 0.34771574, 0.35      ,\n",
       "       0.35221675, 0.35576923, 0.35714286, 0.35915493, 0.36111111,\n",
       "       0.3630137 , 0.36666667, 0.36899563, 0.37012987, 0.37234043,\n",
       "       0.37447699, 0.37654321, 0.37903226, 0.38      , 0.38401559,\n",
       "       0.38740458, 0.3902439 , 0.39298893, 0.39564428, 0.39821429,\n",
       "       0.40070299, 0.40311419, 0.40709459, 0.40901503, 0.41089109,\n",
       "       0.41423948, 0.41864139, 0.4200627 , 0.4214619 , 0.42283951,\n",
       "       0.42553191, 0.42684766, 0.42921013, 0.43151694, 0.43377001,\n",
       "       0.43597122, 0.43812233, 0.44117647, 0.44413793, 0.44701087,\n",
       "       0.4497992 , 0.4525066 , 0.45584416, 0.45907928, 0.4606599 ,\n",
       "       0.46221662, 0.46450809, 0.46740467, 0.47023086, 0.4729892 ,\n",
       "       0.475     , 0.47697757, 0.47953216, 0.4820394 , 0.48450057,\n",
       "       0.48691695, 0.48986486, 0.49275362, 0.49558499, 0.49725576,\n",
       "       0.4989083 , 0.50054289, 0.5037594 , 0.507431  , 0.5115304 ,\n",
       "       0.51404787, 0.51946721, 0.52235772, 0.52380952, 0.52573158,\n",
       "       0.53      ])"
      ]
     },
     "execution_count": 321,
     "metadata": {},
     "output_type": "execute_result"
    }
   ],
   "source": [
    "p_inf_c"
   ]
  },
  {
   "cell_type": "code",
   "execution_count": 322,
   "metadata": {},
   "outputs": [
    {
     "data": {
      "text/plain": [
       "0.0"
      ]
     },
     "execution_count": 322,
     "metadata": {},
     "output_type": "execute_result"
    }
   ],
   "source": [
    "np.clip(-0.01, 0., 1.)"
   ]
  },
  {
   "cell_type": "code",
   "execution_count": 323,
   "metadata": {},
   "outputs": [],
   "source": [
    "def f_function(t, p0):\n",
    "    t = np.clip(t, 0., 1.)\n",
    "    return xlogy(t, t/p0) + xlogy(1-t, (1-t) / (1 - p0))"
   ]
  },
  {
   "cell_type": "code",
   "execution_count": 324,
   "metadata": {},
   "outputs": [],
   "source": [
    "def query_improvement(idx, data, p_i, p_i_c, p0):\n",
    "    s_left = data.prev_item(idx)[0]\n",
    "    s_right = data.succ_item(idx)[0]\n",
    "    p = p_i[idx] - p_i[s_left]\n",
    "    q = p_i[s_right] - p_i[idx]\n",
    "    alpha = (p_i[idx] * p_i_c[idx] - p_i[s_left] * p_i_c[s_left]) / p\n",
    "    beta = (p_i[s_right] * p_i_c[s_right] - p_i[idx] * p_i_c[idx]) / q\n",
    "    improv = f_function(t=alpha, p0=p0) * p + f_function(t=beta, p0=p0) * q - (p + q) * f_function(t=(alpha * p + beta * q)/(p+q), p0=p0)\n",
    "    if np.isnan(improv):\n",
    "        ipdb.set_trace()\n",
    "    return f_function(t=alpha, p0=p0) * p + f_function(t=beta, p0=p0) * q - (p + q) * f_function(t=(alpha * p + beta * q)/(p+q), p0=p0)"
   ]
  },
  {
   "cell_type": "code",
   "execution_count": 325,
   "metadata": {},
   "outputs": [
    {
     "data": {
      "text/plain": [
       "array([1, 2, 3, 4, 5])"
      ]
     },
     "execution_count": 325,
     "metadata": {},
     "output_type": "execute_result"
    }
   ],
   "source": [
    "np.arange(1, 6)"
   ]
  },
  {
   "cell_type": "code",
   "execution_count": 326,
   "metadata": {},
   "outputs": [
    {
     "name": "stdout",
     "output_type": "stream",
     "text": [
      "improvement 0.04398059259912654, with 52 at step 1\n",
      "improvement 0.014085440417260293, with 101 at step 2\n",
      "improvement 0.007071673396858328, with 13 at step 3\n",
      "improvement 0.002650355478176078, with 79 at step 4\n",
      "improvement 0.0018829663556913581, with 5 at step 5\n",
      "improvement 0.0016342775903797659, with 112 at step 6\n",
      "improvement 0.0011940427355468727, with 119 at step 7\n",
      "improvement 0.0016943523721833949, with 29 at step 8\n",
      "improvement 0.0003594018942492988, with 61 at step 9\n",
      "improvement 0.00032507494010598336, with 94 at step 10\n",
      "improvement 0.002034145585641446, with 3 at step 11\n",
      "improvement 0.0002079678127531819, with 44 at step 12\n",
      "improvement 0.00013230902882642036, with 70 at step 13\n",
      "improvement 0.00029114256592053557, with 115 at step 14\n",
      "improvement 6.556772936300043e-05, with 90 at step 15\n",
      "improvement 6.147129234411117e-05, with 22 at step 16\n",
      "improvement 0.00018842179141065514, with 116 at step 17\n",
      "improvement 5.514310218917911e-05, with 38 at step 18\n",
      "improvement 7.09428308454229e-05, with 108 at step 19\n",
      "improvement 4.5037496923485897e-05, with 64 at step 20\n",
      "improvement 2.5859172017230142e-05, with 81 at step 21\n",
      "improvement 6.772145969341639e-05, with 48 at step 22\n",
      "improvement 1.421964003138574e-05, with 113 at step 23\n",
      "improvement 2.4368044877729877e-05, with 25 at step 24\n"
     ]
    }
   ],
   "source": [
    "indexes_available = np.ones(n_actions+1, dtype=bool)\n",
    "indexes_available[n_actions] = False\n",
    "indexes_available[0] = False\n",
    "indexes = np.arange(n_actions+1, dtype=int)\n",
    "for step_idx in range(m_actions - 1):\n",
    "    largest_imp = -1\n",
    "    index_added = None\n",
    "    random_indexes = np.random.choice(indexes[indexes_available], size=n_per_set, replace=False)\n",
    "    for index_candidate in random_indexes:\n",
    "        S.insert(index_candidate, index_candidate)\n",
    "        improvement = query_improvement(idx=index_candidate, data=S, p_i=p_inf, p_i_c=p_inf_c, p0=p_0)\n",
    "        if improvement > largest_imp:\n",
    "            largest_imp = improvement\n",
    "            index_added = index_candidate\n",
    "        S.remove(index_candidate)\n",
    "    print(f\"improvement {largest_imp}, with {index_added} at step {step_idx + 1}\")\n",
    "    indexes_available[index_added] = False\n",
    "    S.insert(index_added, index_added)"
   ]
  },
  {
   "cell_type": "code",
   "execution_count": 328,
   "metadata": {},
   "outputs": [
    {
     "data": {
      "text/plain": [
       "RBTree({0: 0, 3: 3, 5: 5, 13: 13, 22: 22, 25: 25, 29: 29, 38: 38, 44: 44, 48: 48, 52: 52, 61: 61, 64: 64, 70: 70, 79: 79, 81: 81, 90: 90, 94: 94, 101: 101, 108: 108, 112: 112, 113: 113, 115: 115, 116: 116, 119: 119, 120: 120})"
      ]
     },
     "execution_count": 328,
     "metadata": {},
     "output_type": "execute_result"
    }
   ],
   "source": [
    "S"
   ]
  },
  {
   "cell_type": "code",
   "execution_count": 332,
   "metadata": {},
   "outputs": [
    {
     "data": {
      "text/plain": [
       "array([0.34094169, 0.57824906, 0.16671755, 0.14199779, 0.18901788,\n",
       "       0.34194418, 0.25415071, 0.84073806, 0.20656861, 0.00955516,\n",
       "       1.        ])"
      ]
     },
     "execution_count": 332,
     "metadata": {},
     "output_type": "execute_result"
    }
   ],
   "source": [
    "env.preferences"
   ]
  },
  {
   "cell_type": "code",
   "execution_count": 336,
   "metadata": {},
   "outputs": [
    {
     "name": "stdout",
     "output_type": "stream",
     "text": [
      "[3, 5, 13, 22, 25, 29, 38, 44, 48, 52, 61, 64, 70, 79, 81, 90, 94, 101, 108, 112, 113, 115, 116, 119, 120]\n"
     ]
    }
   ],
   "source": [
    "print([key for key in sorted(S.keys())[1:]])"
   ]
  },
  {
   "cell_type": "code",
   "execution_count": 337,
   "metadata": {},
   "outputs": [
    {
     "name": "stdout",
     "output_type": "stream",
     "text": [
      "[(0, 6, 9), (4, 5, 7), (0, 1, 9), (1, 4, 7), (0, 3, 7), (3, 7, 8), (4, 6, 8), (1, 7, 9), (2, 4, 6), (1, 3, 8), (2, 5, 7), (1, 2, 6), (0, 3, 5), (0, 2, 6), (0, 5, 6), (7, 8, 9), (5, 8, 9), (2, 3, 9), (5, 6, 8), (0, 4, 9), (4, 5, 9), (2, 4, 8), (2, 8, 9), (0, 4, 7), (4, 8, 9)]\n"
     ]
    }
   ],
   "source": [
    "print([id_to_actions[key-1] for key in sorted(S.keys())[1:]])"
   ]
  },
  {
   "cell_type": "code",
   "execution_count": 340,
   "metadata": {},
   "outputs": [
    {
     "data": {
      "text/plain": [
       "[<matplotlib.lines.Line2D at 0x7f01cb9bc950>]"
      ]
     },
     "execution_count": 340,
     "metadata": {},
     "output_type": "execute_result"
    },
    {
     "data": {
      "image/png": "[encoded data removed]",
      "text/plain": [
       "<Figure size 432x288 with 1 Axes>"
      ]
     },
     "metadata": {
      "needs_background": "light"
     },
     "output_type": "display_data"
    }
   ],
   "source": [
    "y_vals = np.array([env.preferences[list(id_to_actions[key-1])].sum() for key in sorted(S.keys())[1:]])\n",
    "y_vals = y_vals / (1. + y_vals)\n",
    "x_vals = np.arange(len(y_vals))\n",
    "plt.plot(x_vals, y_vals)"
   ]
  },
  {
   "cell_type": "code",
   "execution_count": null,
   "metadata": {},
   "outputs": [],
   "source": []
  }
 ],
 "metadata": {
  "kernelspec": {
   "display_name": "Python 3",
   "language": "python",
   "name": "python3"
  },
  "language_info": {
   "codemirror_mode": {
    "name": "ipython",
    "version": 3
   },
   "file_extension": ".py",
   "mimetype": "text/x-python",
   "name": "python",
   "nbconvert_exporter": "python",
   "pygments_lexer": "ipython3",
   "version": "3.7.6"
  }
 },
 "nbformat": 4,
 "nbformat_minor": 4
}

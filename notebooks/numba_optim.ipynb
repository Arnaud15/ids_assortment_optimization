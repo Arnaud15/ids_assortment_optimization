{
 "cells": [
  {
   "cell_type": "code",
   "execution_count": 1,
   "metadata": {},
   "outputs": [],
   "source": [
    "import numba\n",
    "import numpy as np\n",
    "from collections import defaultdict\n",
    "from random import shuffle\n",
    "from functools import partial\n",
    "DISCRETIZATION_IDS = 25\n",
    "RHO_VALUES = np.linspace(start=0., stop=1.0, num=DISCRETIZATION_IDS)"
   ]
  },
  {
   "cell_type": "code",
   "execution_count": 3,
   "metadata": {},
   "outputs": [],
   "source": [
    "def f1(x):\n",
    "    sum_ = 0\n",
    "    for elt in x:\n",
    "        sum_ += elt\n",
    "    return sum_"
   ]
  },
  {
   "cell_type": "code",
   "execution_count": 2,
   "metadata": {},
   "outputs": [],
   "source": [
    "@numba.jit\n",
    "def f2(x):\n",
    "    sum_ = 0\n",
    "    for elt in x:\n",
    "        sum_ += elt\n",
    "    return sum_"
   ]
  },
  {
   "cell_type": "code",
   "execution_count": 5,
   "metadata": {},
   "outputs": [],
   "source": [
    "testarr = np.random.randn(1000000)"
   ]
  },
  {
   "cell_type": "code",
   "execution_count": 6,
   "metadata": {},
   "outputs": [
    {
     "name": "stdout",
     "output_type": "stream",
     "text": [
      "244 ms ± 6.09 ms per loop (mean ± std. dev. of 7 runs, 1 loop each)\n"
     ]
    }
   ],
   "source": [
    "%%timeit\n",
    "f1(testarr)"
   ]
  },
  {
   "cell_type": "code",
   "execution_count": 8,
   "metadata": {},
   "outputs": [
    {
     "name": "stdout",
     "output_type": "stream",
     "text": [
      "1.38 ms ± 8.66 µs per loop (mean ± std. dev. of 7 runs, 1000 loops each)\n"
     ]
    }
   ],
   "source": [
    "%%timeit\n",
    "f2(testarr)"
   ]
  },
  {
   "cell_type": "code",
   "execution_count": 2,
   "metadata": {},
   "outputs": [],
   "source": [
    "def act_optimally(belief, top_k):\n",
    "    noise_breaking_ties = np.random.randn(*belief.shape) * 1e-5\n",
    "    belief += noise_breaking_ties\n",
    "    if len(belief.shape) <= 1:\n",
    "        return np.sort(np.argpartition(belief, -top_k)[-top_k:])\n",
    "    else:\n",
    "        return np.sort(np.argpartition(belief, -top_k, axis=1)[:, -top_k:], axis=1)"
   ]
  },
  {
   "cell_type": "code",
   "execution_count": 3,
   "metadata": {},
   "outputs": [],
   "source": [
    "def possible_actions(n_items, assortment_size):\n",
    "    assert assortment_size >= 1\n",
    "    if assortment_size == 1:\n",
    "        return [[i] for i in range(n_items)]\n",
    "    else:\n",
    "        prev_lists = possible_actions(n_items, assortment_size - 1)\n",
    "        return [prev_list + [i] for prev_list in prev_lists for i in range(prev_list[-1] + 1, n_items)]"
   ]
  },
  {
   "cell_type": "code",
   "execution_count": 14,
   "metadata": {},
   "outputs": [],
   "source": [
    "prefs = np.random.rand(100, 5)\n",
    "action = np.array([0, 1],dtype=int)\n",
    "rst = 0.9"
   ]
  },
  {
   "cell_type": "code",
   "execution_count": 15,
   "metadata": {},
   "outputs": [],
   "source": [
    "posteriors_actions = act_optimally(prefs, 3)\n",
    "\n",
    "posteriors_actions = [tuple(posteriors_actions[ix, :]) for ix in range(15)]\n",
    "optimal_actions_information = defaultdict(list)\n",
    "for ix, act in enumerate(posteriors_actions):\n",
    "    optimal_actions_information[act].append(ix)\n",
    "\n",
    "opt_actions = {act: (len(theta_idxs), theta_idxs) for\n",
    "                        act, theta_idxs in optimal_actions_information.items()}"
   ]
  },
  {
   "cell_type": "code",
   "execution_count": 16,
   "metadata": {},
   "outputs": [
    {
     "data": {
      "text/plain": [
       "{(0, 1, 3): (2, [0, 7]),\n",
       " (0, 3, 4): (3, [1, 3, 14]),\n",
       " (0, 2, 3): (2, [2, 8]),\n",
       " (2, 3, 4): (3, [4, 9, 12]),\n",
       " (0, 1, 4): (3, [5, 10, 13]),\n",
       " (1, 2, 3): (1, [6]),\n",
       " (1, 3, 4): (1, [11])}"
      ]
     },
     "execution_count": 16,
     "metadata": {},
     "output_type": "execute_result"
    }
   ],
   "source": [
    "opt_actions"
   ]
  },
  {
   "cell_type": "code",
   "execution_count": 17,
   "metadata": {},
   "outputs": [],
   "source": [
    "actions_st = np.array([list(key) for key in opt_actions.keys()])\n",
    "counts_st = np.array([val[0] for val in opt_actions.values()])\n",
    "thetas_st = []\n",
    "for val in opt_actions.values():\n",
    "    thetas_st += val[1]\n",
    "thetas_st = np.array(thetas_st)"
   ]
  },
  {
   "cell_type": "code",
   "execution_count": 19,
   "metadata": {},
   "outputs": [],
   "source": [
    "opt_actions = {act: (len(theta_idxs)/100, theta_idxs) for\n",
    "                        act, theta_idxs in optimal_actions_information.items()}"
   ]
  },
  {
   "cell_type": "code",
   "execution_count": 20,
   "metadata": {},
   "outputs": [],
   "source": [
    "actions_set = possible_actions(n_items=5, assortment_size=3)"
   ]
  },
  {
   "cell_type": "code",
   "execution_count": 21,
   "metadata": {},
   "outputs": [],
   "source": [
    "actions_set = np.array(actions_set, dtype=int)"
   ]
  },
  {
   "cell_type": "code",
   "execution_count": 22,
   "metadata": {},
   "outputs": [
    {
     "data": {
      "text/plain": [
       "(10, 3)"
      ]
     },
     "execution_count": 22,
     "metadata": {},
     "output_type": "execute_result"
    }
   ],
   "source": [
    "actions_set.shape"
   ]
  },
  {
   "cell_type": "code",
   "execution_count": 26,
   "metadata": {},
   "outputs": [],
   "source": [
    "@numba.jit(nopython=True)\n",
    "def g_full_numba(action, sampled_preferences, opt_actions, probas, thetas):\n",
    "    \"\"\"\n",
    "    :param action:\n",
    "    :param sampled_preferences: sampled posterior thetas\n",
    "    :param opt_actions: dictionary {action_tuple:p_action, theta_indices}\n",
    "    :return:\n",
    "    \"\"\"\n",
    "    g_a = 0.\n",
    "    probs = 0.\n",
    "    M = sampled_preferences.shape[0]\n",
    "    K = action.shape[0]\n",
    "    n_opt_actions = opt_actions.shape[0]\n",
    "    \n",
    "    probas_given_action = np.zeros((M, K))\n",
    "    no_pick_given_action = np.zeros(shape=(M,))\n",
    "    p_no_item_action = 0.\n",
    "    for i in range(M):\n",
    "        sum_row = 0.\n",
    "        for ix in range(K):\n",
    "            val = sampled_preferences[i, action[ix]]\n",
    "            probas_given_action[i, ix] = val\n",
    "            sum_row += val\n",
    "        probas_given_action[i, :] = probas_given_action[i, :] / (1 + sum_row)\n",
    "        no_pick_given_action[i] = 1 - (sum_row / (1 + sum_row))\n",
    "        p_no_item_action += no_pick_given_action[i]\n",
    "    p_no_item_action = p_no_item_action / M\n",
    "\n",
    "    probs += p_no_item_action\n",
    "    theta_start = 0\n",
    "    for i in range(n_opt_actions):\n",
    "        action_star = opt_actions[i]\n",
    "        theta_indices = thetas[theta_start:theta_start+probas[i]]\n",
    "        theta_start += probas[i]\n",
    "        p_star = probas[i] / M\n",
    "        p_no_item_a_star_action = 0.\n",
    "        for theta_indice in theta_indices:\n",
    "            p_no_item_a_star_action += no_pick_given_action[theta_indice]\n",
    "        p_no_item_a_star_action = p_no_item_a_star_action / M\n",
    "        g_a += p_no_item_a_star_action * np.log(p_no_item_a_star_action / (p_star * p_no_item_action))\n",
    "\n",
    "    for ix in range(K):\n",
    "        p_item_action = 0.\n",
    "        for m in range(M):\n",
    "            p_item_action += probas_given_action[m, ix]\n",
    "        p_item_action /= M\n",
    "        if p_item_action > 1e-8:\n",
    "            probs += p_item_action\n",
    "            theta_start = 0\n",
    "            for j in range(n_opt_actions):\n",
    "                p_star = probas[j] / M\n",
    "                p_item_a_star_action = 0.\n",
    "                theta_indices = thetas[theta_start:theta_start+probas[j]]\n",
    "                for theta_indice in theta_indices:\n",
    "                    p_item_a_star_action += probas_given_action[theta_indice, ix]\n",
    "                theta_start += probas[j]\n",
    "                p_item_a_star_action /= M\n",
    "                if p_item_a_star_action:\n",
    "                    g_a += p_item_a_star_action * np.log(p_item_a_star_action / (p_star * p_item_action))\n",
    "#     assert probs > 0.999, f\"{probs}\"\n",
    "#     assert probs < 1.001, f\"{probs}\"\n",
    "    return g_a\n",
    "\n",
    "@numba.jit(nopython=True)\n",
    "def numba_expected_reward(pref, action):\n",
    "    M = pref.shape[0]\n",
    "    K = len(action)\n",
    "    result = 0.\n",
    "    for i in range(M):\n",
    "        temp_sum = 0.\n",
    "        for k in range(K):\n",
    "            temp_sum += pref[i, action[k]]\n",
    "        result += temp_sum / (1 + temp_sum)\n",
    "    return result / M\n",
    "\n",
    "@numba.jit(nopython=True)\n",
    "def delta_2(action, sampled_preferences, r_star):\n",
    "    x = r_star - numba_expected_reward(action=action, pref=sampled_preferences)\n",
    "    return x\n",
    "\n",
    "@numba.jit(nopython=True)\n",
    "def information_ratio_numba(rho, d1, d2, g1, g2):\n",
    "    return (d1 * rho + (1 - rho) * d2) ** 2 / (g1 * rho + (1 - rho) * g2)\n",
    "\n",
    "@numba.jit(nopython=True)\n",
    "def optimized_ratio_numba(d1, d2, g1, g2):\n",
    "    n_rho = len(RHO_VALUES)\n",
    "    possible_values = np.zeros(n_rho)\n",
    "    for ix in range(n_rho):\n",
    "        possible_values[ix] = information_ratio_numba(RHO_VALUES[ix], d1, d2, g1, g2)\n",
    "    min_ = 1e8\n",
    "    rho_min = -1\n",
    "    for ix in range(n_rho):\n",
    "        rho = RHO_VALUES[ix]\n",
    "        val = possible_values[ix]\n",
    "        if val < min_:\n",
    "            rho_min = rho\n",
    "            min_ = val\n",
    "    return min_, rho_min\n",
    "\n",
    "@numba.jit(nopython=True)\n",
    "def ids_action_selection_numba(n, k, delta_, g_, actions_set, sampled_preferences, r_star, actions_star, counts_star, thetas_star):\n",
    "    np.random.shuffle(actions_set)\n",
    "    min_information_ratio = 1e8\n",
    "    ids_action = actions_set[0]\n",
    "    n_actions = actions_set.shape[0]\n",
    "    for i in range(n_actions):\n",
    "        action1 = actions_set[i]\n",
    "        g_a1 = g_(action1, sampled_preferences, actions_star, counts_star, thetas_star)\n",
    "        delta_1 = delta_(action1, sampled_preferences, r_star)\n",
    "        for j in range(n_actions):\n",
    "            action2 = actions_set[j]\n",
    "            g_a2 = g_(action2, sampled_preferences, actions_star, counts_star, thetas_star)\n",
    "            delta_2 = delta_(action2, sampled_preferences, r_star)\n",
    "            if (not g_a1) or (not g_a2):\n",
    "                if delta_1 < delta_2:\n",
    "                    value = delta_1\n",
    "                    action_picked = action1\n",
    "                else:\n",
    "                    value = delta_2\n",
    "                    action_picked = action2\n",
    "                rho = 1. if delta_1 < delta_2 else 0.\n",
    "            else:\n",
    "                value, rho = optimized_ratio_numba(d1=delta_1,\n",
    "                                             d2=delta_2,\n",
    "                                             g1=g_a1,\n",
    "                                             g2=g_a2)\n",
    "                action_picked = action1 if np.random.rand() <= rho else action2\n",
    "            if value < min_information_ratio:\n",
    "#                 print(value)\n",
    "                min_information_ratio = value\n",
    "                ids_action = action_picked\n",
    "#     print(ids_action)\n",
    "    return ids_action\n",
    "\n",
    "@numba.jit(nopython=True)\n",
    "def v_ids_numba(action, sampled_preferences, actions_star, counts, thetas):\n",
    "    \"\"\"\n",
    "    :param action: 1D array of size (K,) with the indices of the current action\n",
    "    :param sampled_preferences: sampled posterior thetas of shape (M, N)\n",
    "    :param actions_star: 2D array of shape (n_top_actions, assortment_size)\n",
    "    :param counts: 1D array of shape (n_top_actions,) = how many theta for each opt action \n",
    "    :param thetas: 1D array of the indices in [0, M-1] of the thetas associated w/ each opt action\n",
    "    :return:\n",
    "    \"\"\"\n",
    "    expected_reward_action = numba_expected_reward(pref=sampled_preferences, action=action)\n",
    "    M = sampled_preferences.shape[0]\n",
    "    K = action.shape[0]\n",
    "    n_opt_actions = actions_star.shape[0]\n",
    "\n",
    "    pick_given_action = np.zeros(shape=(M,))\n",
    "    for i in range(M):\n",
    "        sum_row = 0.\n",
    "        for ix in range(K):\n",
    "            sum_row += sampled_preferences[i, action[ix]]\n",
    "        pick_given_action[i] =  sum_row / (1 + sum_row)\n",
    "    \n",
    "    probs = 0.\n",
    "    theta_start = 0\n",
    "    v_a = 0\n",
    "    for j in range(n_opt_actions):\n",
    "        p_star = counts[j] / M\n",
    "        p_pick_a_star_action = 0.\n",
    "        theta_indices = thetas[theta_start:theta_start+counts[j]]\n",
    "        for theta_indice in theta_indices:\n",
    "            p_pick_a_star_action += pick_given_action[theta_indice]\n",
    "        theta_start += counts[j]\n",
    "        p_pick_a_star_action /= counts[j]\n",
    "        v_a += p_star * (p_pick_a_star_action - expected_reward_action) ** 2\n",
    "        probs += p_star\n",
    "    return v_a"
   ]
  },
  {
   "cell_type": "code",
   "execution_count": 27,
   "metadata": {},
   "outputs": [
    {
     "name": "stdout",
     "output_type": "stream",
     "text": [
      "241 µs ± 28.9 µs per loop (mean ± std. dev. of 7 runs, 1 loop each)\n"
     ]
    }
   ],
   "source": [
    "%%timeit\n",
    "ids_action_selection_numba(5, 3, delta_2, v_ids_numba, actions_set, prefs, rst, actions_st, counts_st, thetas_st)"
   ]
  },
  {
   "cell_type": "code",
   "execution_count": 29,
   "metadata": {},
   "outputs": [],
   "source": [
    "def information_ratio_(rho, d1, d2, g1, g2):\n",
    "    return (d1 * rho + (1 - rho) * d2) ** 2 / (g1 * rho + (1 - rho) * g2)\n",
    "\n",
    "\n",
    "def optimized_ratio(d1, d2, g1, g2):\n",
    "    func = partial(information_ratio_, d1=d1, d2=d2, g1=g1, g2=g2)\n",
    "    possible_values = [(rho, func(rho=rho)) for rho in RHO_VALUES]\n",
    "    min_ = np.inf\n",
    "    rho_min = -1\n",
    "    for (rho_, val) in possible_values:\n",
    "        if val < min_:\n",
    "            rho_min = rho_\n",
    "            min_ = val\n",
    "    return min_, rho_min\n",
    "    # solution = minimize_scalar(fun=func, bounds=(0., 1.), method='bounded')\n",
    "    # return solution.fun, solution.x\n",
    "\n",
    "\n",
    "def expected_reward(preferences, action):\n",
    "    \"\"\"\n",
    "    :param preferences: shape (m, n) sampled model parameters\n",
    "    :param action: indexes in [0, ..., n-1]\n",
    "    :return:\n",
    "    \"\"\"\n",
    "    filtered_item_weights = preferences[:, action].sum(1)\n",
    "    return (filtered_item_weights / (1 + filtered_item_weights)).mean()\n",
    "\n",
    "\n",
    "def delta_full(action, sampled_preferences, r_star):\n",
    "    return r_star - expected_reward(action=action, preferences=sampled_preferences)\n",
    "\n",
    "def g_full(action, sampled_preferences, opt_actions):\n",
    "    \"\"\"\n",
    "    :param action:\n",
    "    :param sampled_preferences: sampled posterior thetas\n",
    "    :param opt_actions: dictionary {action_tuple:p_action, theta_indices}\n",
    "    :return:\n",
    "    \"\"\"\n",
    "    g_a = 0.\n",
    "    probs = 0.\n",
    "    M = sampled_preferences.shape[0]\n",
    "    probas_given_action = sampled_preferences[:, action]\n",
    "    probas_given_action = probas_given_action / (1 + np.expand_dims(probas_given_action.sum(1), axis=-1))\n",
    "    no_pick_given_action = 1 - probas_given_action.sum(1)\n",
    "    p_no_item_action = no_pick_given_action.mean()\n",
    "\n",
    "    probs += p_no_item_action\n",
    "    for action_star, (p_star, theta_indices) in opt_actions.items():\n",
    "        p_no_item_a_star_action = np.sum([no_pick_given_action[theta_indice] for theta_indice in theta_indices]) / M\n",
    "        g_a += p_no_item_a_star_action * np.log(p_no_item_a_star_action / (p_star * p_no_item_action))\n",
    "\n",
    "    for action_ix, item_ix in enumerate(action):\n",
    "        p_item_action = probas_given_action[:, action_ix].mean()\n",
    "        if p_item_action:\n",
    "            probs += p_item_action\n",
    "            for action_star, (p_star, theta_indices) in opt_actions.items():\n",
    "                p_item_a_star_action = np.sum(\n",
    "                    [probas_given_action[theta_indice, action_ix] for theta_indice in theta_indices]) / M\n",
    "                if p_item_a_star_action:\n",
    "                    g_a += p_item_a_star_action * np.log(p_item_a_star_action / (p_star * p_item_action))\n",
    "    assert probs > 0.999, f\"{probs}\"\n",
    "    assert probs < 1.001, f\"{probs}\"\n",
    "    return g_a\n",
    "\n",
    "def ids_action_selection(n, k, actions_set, delta_, g_, opt_dict, sampled_prefs, r_star):\n",
    "    np.random.shuffle(actions_set)\n",
    "    min_information_ratio = np.inf\n",
    "    ids_action = actions_set[0]\n",
    "    for action1 in actions_set:\n",
    "        g_a1 = g_(action1, sampled_prefs, opt_dict)\n",
    "        delta_1 = delta_(action1, sampled_prefs, r_star)\n",
    "        for action2 in actions_set:\n",
    "            g_a2 = g_(action2, sampled_prefs, opt_dict)\n",
    "            delta_2 = delta_(action2, sampled_prefs, r_star)\n",
    "            if (not g_a1) or (not g_a2):\n",
    "                if delta_1 < delta_2:\n",
    "                    value = delta_1\n",
    "                    action_picked = action1\n",
    "                else:\n",
    "                    value = delta_2\n",
    "                    action_picked = action2\n",
    "                rho = 1. if delta_1 < delta_2 else 0.\n",
    "            else:\n",
    "                value, rho = optimized_ratio(d1=delta_1,\n",
    "                                             d2=delta_2,\n",
    "                                             g1=g_a1,\n",
    "                                             g2=g_a2)\n",
    "\n",
    "                action_picked = action1 if np.random.rand() <= rho else action2\n",
    "            if value < min_information_ratio:\n",
    "#                 print(value)\n",
    "                min_information_ratio = value\n",
    "                ids_action = action_picked\n",
    "#     print(ids_action)\n",
    "    return ids_action"
   ]
  },
  {
   "cell_type": "code",
   "execution_count": 30,
   "metadata": {},
   "outputs": [
    {
     "name": "stdout",
     "output_type": "stream",
     "text": [
      "57.2 ms ± 2.33 ms per loop (mean ± std. dev. of 7 runs, 10 loops each)\n"
     ]
    }
   ],
   "source": [
    "%%timeit\n",
    "ids_action_selection(5, 3, actions_set, delta_full, g_full, opt_actions, prefs, rst)"
   ]
  },
  {
   "cell_type": "code",
   "execution_count": 115,
   "metadata": {},
   "outputs": [
    {
     "data": {
      "text/plain": [
       "0.060343818401726076"
      ]
     },
     "execution_count": 115,
     "metadata": {},
     "output_type": "execute_result"
    }
   ],
   "source": [
    "g_full(np.array([3, 4]), prefs, opt_actions)"
   ]
  },
  {
   "cell_type": "code",
   "execution_count": null,
   "metadata": {},
   "outputs": [],
   "source": []
  },
  {
   "cell_type": "code",
   "execution_count": 25,
   "metadata": {},
   "outputs": [
    {
     "data": {
      "text/plain": [
       "0.37914328747832815"
      ]
     },
     "execution_count": 25,
     "metadata": {},
     "output_type": "execute_result"
    }
   ],
   "source": [
    "delta_full(action, prefs, rst)"
   ]
  },
  {
   "cell_type": "code",
   "execution_count": 26,
   "metadata": {},
   "outputs": [
    {
     "data": {
      "text/plain": [
       "array([0, 1])"
      ]
     },
     "execution_count": 26,
     "metadata": {},
     "output_type": "execute_result"
    }
   ],
   "source": [
    "action"
   ]
  },
  {
   "cell_type": "code",
   "execution_count": 27,
   "metadata": {},
   "outputs": [
    {
     "data": {
      "text/plain": [
       "0.37914328747832815"
      ]
     },
     "execution_count": 27,
     "metadata": {},
     "output_type": "execute_result"
    }
   ],
   "source": [
    "delta_full(action, prefs, rst)"
   ]
  },
  {
   "cell_type": "code",
   "execution_count": 120,
   "metadata": {},
   "outputs": [
    {
     "name": "stdout",
     "output_type": "stream",
     "text": [
      "0.03459037319614093\n",
      "0.03566701150022636\n",
      "0.04075719316445582\n",
      "0.0443182500811281\n",
      "0.02900209390674044\n",
      "0.03923925798099936\n",
      "0.021283333074070827\n",
      "0.047305260793920965\n",
      "0.0478405503835629\n",
      "0.05150964027535662\n"
     ]
    }
   ],
   "source": [
    "for action in actions_set:\n",
    "    print(g_full_numba(action, prefs, actions_st, counts_st, thetas_st) - 2 * v_ids_numba(action, prefs, actions_st, counts_st, thetas_st))"
   ]
  },
  {
   "cell_type": "code",
   "execution_count": 29,
   "metadata": {},
   "outputs": [
    {
     "data": {
      "text/plain": [
       "{(3, 4): (0.2, [0, 2, 14]),\n",
       " (0, 2): (0.06666666666666667, [1]),\n",
       " (1, 3): (0.06666666666666667, [3]),\n",
       " (0, 3): (0.06666666666666667, [4]),\n",
       " (1, 4): (0.3333333333333333, [5, 7, 8, 10, 11]),\n",
       " (1, 2): (0.06666666666666667, [6]),\n",
       " (0, 1): (0.06666666666666667, [9]),\n",
       " (0, 4): (0.06666666666666667, [12]),\n",
       " (2, 4): (0.06666666666666667, [13])}"
      ]
     },
     "execution_count": 29,
     "metadata": {},
     "output_type": "execute_result"
    }
   ],
   "source": [
    "opt_actions"
   ]
  },
  {
   "cell_type": "code",
   "execution_count": 30,
   "metadata": {},
   "outputs": [
    {
     "data": {
      "text/plain": [
       "array([[3, 4],\n",
       "       [0, 2],\n",
       "       [1, 3],\n",
       "       [0, 3],\n",
       "       [1, 4],\n",
       "       [1, 2],\n",
       "       [0, 1],\n",
       "       [0, 4],\n",
       "       [2, 4]])"
      ]
     },
     "execution_count": 30,
     "metadata": {},
     "output_type": "execute_result"
    }
   ],
   "source": [
    "actions_st"
   ]
  },
  {
   "cell_type": "code",
   "execution_count": 31,
   "metadata": {},
   "outputs": [
    {
     "data": {
      "text/plain": [
       "array([3, 1, 1, 1, 5, 1, 1, 1, 1])"
      ]
     },
     "execution_count": 31,
     "metadata": {},
     "output_type": "execute_result"
    }
   ],
   "source": [
    "counts_st"
   ]
  },
  {
   "cell_type": "code",
   "execution_count": 32,
   "metadata": {},
   "outputs": [
    {
     "data": {
      "text/plain": [
       "array([ 0,  2, 14,  1,  3,  4,  5,  7,  8, 10, 11,  6,  9, 12, 13])"
      ]
     },
     "execution_count": 32,
     "metadata": {},
     "output_type": "execute_result"
    }
   ],
   "source": [
    "thetas_st"
   ]
  },
  {
   "cell_type": "code",
   "execution_count": 33,
   "metadata": {},
   "outputs": [],
   "source": [
    "d1 = np.random.rand()\n",
    "d2 = np.random.rand()\n",
    "g1 = np.random.rand()\n",
    "g2 = np.random.rand()"
   ]
  },
  {
   "cell_type": "code",
   "execution_count": 34,
   "metadata": {},
   "outputs": [
    {
     "data": {
      "text/plain": [
       "(0.031639255983517856, 0.0)"
      ]
     },
     "execution_count": 34,
     "metadata": {},
     "output_type": "execute_result"
    }
   ],
   "source": [
    "optimized_ratio(d1, d2, g1, g2)"
   ]
  },
  {
   "cell_type": "code",
   "execution_count": 35,
   "metadata": {},
   "outputs": [
    {
     "data": {
      "text/plain": [
       "(0.031639255983517856, 0.0)"
      ]
     },
     "execution_count": 35,
     "metadata": {},
     "output_type": "execute_result"
    }
   ],
   "source": [
    "optimized_ratio_numba(d1, d2, g1, g2)"
   ]
  },
  {
   "cell_type": "code",
   "execution_count": null,
   "metadata": {},
   "outputs": [],
   "source": []
  }
 ],
 "metadata": {
  "kernelspec": {
   "display_name": "Python 3",
   "language": "python",
   "name": "python3"
  },
  "language_info": {
   "codemirror_mode": {
    "name": "ipython",
    "version": 3
   },
   "file_extension": ".py",
   "mimetype": "text/x-python",
   "name": "python",
   "nbconvert_exporter": "python",
   "pygments_lexer": "ipython3",
   "version": "3.7.6"
  }
 },
 "nbformat": 4,
 "nbformat_minor": 4
}

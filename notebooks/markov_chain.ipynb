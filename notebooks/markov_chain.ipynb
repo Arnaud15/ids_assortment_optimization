{
 "cells": [
  {
   "cell_type": "code",
   "execution_count": 1,
   "metadata": {},
   "outputs": [],
   "source": [
    "import numpy as np\n",
    "import matplotlib.pyplot as plt"
   ]
  },
  {
   "cell_type": "code",
   "execution_count": 2,
   "metadata": {},
   "outputs": [],
   "source": [
    "r_star = 0.5\n",
    "p_o = 0.8"
   ]
  },
  {
   "cell_type": "markdown",
   "metadata": {},
   "source": [
    "Time to discover the right item"
   ]
  },
  {
   "cell_type": "code",
   "execution_count": 49,
   "metadata": {},
   "outputs": [],
   "source": [
    "def solve_time(N):\n",
    "    result = 1.\n",
    "    even = N % 2 == 0\n",
    "    start = N-4 if even else N-2\n",
    "    for i in range(start, -1, -2):\n",
    "        result = 1 + result * (N-i-2) / (N-i)\n",
    "    return result"
   ]
  },
  {
   "cell_type": "code",
   "execution_count": 50,
   "metadata": {},
   "outputs": [
    {
     "data": {
      "text/plain": [
       "3.0"
      ]
     },
     "execution_count": 50,
     "metadata": {},
     "output_type": "execute_result"
    }
   ],
   "source": [
    "solve_time(10)"
   ]
  },
  {
   "cell_type": "markdown",
   "metadata": {},
   "source": [
    "Regret"
   ]
  },
  {
   "cell_type": "code",
   "execution_count": 51,
   "metadata": {},
   "outputs": [],
   "source": [
    "def solve_regret_time(N, index):\n",
    "    vector_regret = np.zeros(N)\n",
    "    vector_time = np.ones(N)\n",
    "    for x in range(N-3, -1, -1):\n",
    "        vector_regret[x] = p_o + p_o * vector_regret[x+2] + (1 - p_o) * vector_regret[x+1]\n",
    "        vector_time[x] = 1 + p_o * vector_time[x+2] + (1 - p_o) * vector_time[x+1]\n",
    "    return vector_regret[index], vector_time[index]"
   ]
  },
  {
   "cell_type": "code",
   "execution_count": 52,
   "metadata": {},
   "outputs": [],
   "source": [
    "def solve_regret_vector(N):\n",
    "    vector_regret = np.zeros(N)\n",
    "    vector_time = np.ones(N)\n",
    "    for x in range(N-3, -1, -1):\n",
    "        vector_regret[x] = p_o + p_o * vector_regret[x+2] + (1 - p_o) * vector_regret[x+1]\n",
    "        vector_time[x] = 1 + p_o * vector_time[x+2] + (1 - p_o) * vector_time[x+1]\n",
    "    return vector_regret, vector_time"
   ]
  },
  {
   "cell_type": "code",
   "execution_count": 77,
   "metadata": {},
   "outputs": [],
   "source": [
    "def solve2(N):\n",
    "    vr, vt = solve_regret_vector(N)\n",
    "#     print(vr, vt)\n",
    "    even = N % 2 == 0\n",
    "    start = N-4 if even else N-3\n",
    "    exp_regret = 0\n",
    "#     print(exp_regret)\n",
    "    for i in range(start, -1, -2):\n",
    "        exp_regret = (1- (N-i-2) / (N-i)) * vr[i+1] + (1 + exp_regret) * (N-i-2) / (N-i)\n",
    "#         print(i, i+1, vr[i+1], exp_regret)\n",
    "    exp_time = 1\n",
    "#     print(exp_time)\n",
    "    for i in range(start, -1, -2):\n",
    "        exp_time = 1 + (1- (N-i-2) / (N-i)) * vt[i+1] + exp_time * (N-i-2) / (N-i)\n",
    "#         print(i, i+1, vt[i+1], exp_time)\n",
    "    return exp_regret, exp_time\n",
    "    "
   ]
  },
  {
   "cell_type": "code",
   "execution_count": 89,
   "metadata": {},
   "outputs": [],
   "source": [
    "def solve(N):\n",
    "    time_star = solve_time(N)\n",
    "    num_discovered = int(2 * (time_star - 1) + 1)\n",
    "    regret_part_two_unscaled, time_part_two = solve_regret_time(N, num_discovered)\n",
    "    total_time = time_star + time_part_two\n",
    "    regret = np.zeros(int(total_time) + 1)\n",
    "    regret[:int(time_star)] = r_star * (time_star - 1) / time_star\n",
    "    regret[int(time_star):] = regret_part_two_unscaled * r_star / time_part_two\n",
    "    return regret"
   ]
  },
  {
   "cell_type": "code",
   "execution_count": 90,
   "metadata": {},
   "outputs": [],
   "source": [
    "def cumulative_regrets(N, horizon):\n",
    "    regret_ts = solve(N)\n",
    "    regret_ts = np.concatenate([regret_ts, np.zeros(horizon-len(regret_ts))])\n",
    "    regret_ts = np.cumsum(regret_ts)\n",
    "    time_star = solve_time(N)\n",
    "    regret_ids = np.zeros(horizon)\n",
    "    regret_ids[:int(time_star)] = r_star * (time_star - 1) / time_star\n",
    "    regret_ids = np.cumsum(regret_ids)\n",
    "    return regret_ts, regret_ids"
   ]
  },
  {
   "cell_type": "code",
   "execution_count": 91,
   "metadata": {},
   "outputs": [],
   "source": [
    "def cumulative_regrets2(N, horizon):\n",
    "    regret_ts, time_ts = solve2(N)\n",
    "    regret_ts = np.array([regret_ts * r_star / time_ts] * int(time_ts) + [0] * (horizon - int(time_ts)))\n",
    "    regret_ts = np.cumsum(regret_ts)\n",
    "    time_star = solve_time(N)\n",
    "    regret_ids = np.zeros(horizon)\n",
    "    regret_ids[:int(time_star)] = r_star * (time_star - 1) / time_star\n",
    "    regret_ids = np.cumsum(regret_ids)\n",
    "    return regret_ts, regret_ids"
   ]
  },
  {
   "cell_type": "code",
   "execution_count": 92,
   "metadata": {},
   "outputs": [],
   "source": [
    "def total_regrets(N):\n",
    "    regret_ts = solve(N).sum()\n",
    "    time_star = solve_time(N)\n",
    "    regret_ids = r_star * (time_star - 1)\n",
    "    return regret_ts, regret_ids\n",
    "\n",
    "def total_regrets2(N):\n",
    "    regret_ts = solve2(N)[0] * r_star\n",
    "    time_star = solve_time(N)\n",
    "    regret_ids = r_star * (time_star - 1)\n",
    "    return regret_ts, regret_ids"
   ]
  },
  {
   "cell_type": "code",
   "execution_count": 93,
   "metadata": {},
   "outputs": [],
   "source": [
    "given_N, given_horizon = 1000, 5000"
   ]
  },
  {
   "cell_type": "code",
   "execution_count": 94,
   "metadata": {},
   "outputs": [
    {
     "data": {
      "text/plain": [
       "<matplotlib.legend.Legend at 0x7efc8c436510>"
      ]
     },
     "execution_count": 94,
     "metadata": {},
     "output_type": "execute_result"
    },
    {
     "data": {
      "image/png": "[encoded data removed]",
      "text/plain": [
       "<Figure size 432x288 with 1 Axes>"
      ]
     },
     "metadata": {
      "needs_background": "light"
     },
     "output_type": "display_data"
    }
   ],
   "source": [
    "x = np.arange(given_horizon)\n",
    "rts, rids = cumulative_regrets2(N=given_N, horizon=given_horizon)\n",
    "plt.plot(x, rts, label='TS regret', color='black')\n",
    "plt.plot(x, rids, label='IDS regret', color='red')\n",
    "plt.grid()\n",
    "plt.ylabel('Expected cumulative regret')\n",
    "plt.xlabel('Time steps')\n",
    "plt.legend()"
   ]
  },
  {
   "cell_type": "code",
   "execution_count": 95,
   "metadata": {},
   "outputs": [],
   "source": [
    "x = np.arange(10, 10000, 100)\n",
    "regrets = [total_regrets2(elt) for elt in x]"
   ]
  },
  {
   "cell_type": "code",
   "execution_count": 97,
   "metadata": {},
   "outputs": [
    {
     "data": {
      "image/png": "[encoded data removed]",
      "text/plain": [
       "<Figure size 432x288 with 1 Axes>"
      ]
     },
     "metadata": {
      "needs_background": "light"
     },
     "output_type": "display_data"
    }
   ],
   "source": [
    "rts, rids = list(zip(*regrets))\n",
    "plt.plot(x, rts, label='TS total regret', color='black')\n",
    "plt.plot(x, rids, label='IDS total regret', color='red')\n",
    "plt.grid()\n",
    "plt.xlabel('Number of items N')\n",
    "plt.ylabel('Total regret')\n",
    "plt.legend()\n",
    "plt.savefig('mc_results_ids_tscs.png')"
   ]
  }
 ],
 "metadata": {
  "kernelspec": {
   "display_name": "Python 3",
   "language": "python",
   "name": "python3"
  },
  "language_info": {
   "codemirror_mode": {
    "name": "ipython",
    "version": 3
   },
   "file_extension": ".py",
   "mimetype": "text/x-python",
   "name": "python",
   "nbconvert_exporter": "python",
   "pygments_lexer": "ipython3",
   "version": "3.7.6"
  }
 },
 "nbformat": 4,
 "nbformat_minor": 4
}

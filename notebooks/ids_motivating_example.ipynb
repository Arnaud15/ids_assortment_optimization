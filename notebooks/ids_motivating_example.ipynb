{
 "cells": [
  {
   "cell_type": "code",
   "execution_count": 4,
   "metadata": {},
   "outputs": [],
   "source": [
    "import numpy as np"
   ]
  },
  {
   "cell_type": "code",
   "execution_count": 6,
   "metadata": {},
   "outputs": [
    {
     "data": {
      "text/plain": [
       "array([1, 2, 3, 4])"
      ]
     },
     "execution_count": 6,
     "metadata": {},
     "output_type": "execute_result"
    }
   ],
   "source": [
    "np.concatenate([[1, 2, 3], [4]])"
   ]
  },
  {
   "cell_type": "code",
   "execution_count": 1,
   "metadata": {},
   "outputs": [],
   "source": [
    "from ids_utils import *\n",
    "from ids_agents import *\n",
    "from ts_agents import *\n",
    "from collections import Counter"
   ]
  },
  {
   "cell_type": "code",
   "execution_count": 2,
   "metadata": {},
   "outputs": [],
   "source": [
    "n = 10\n",
    "k = 2"
   ]
  },
  {
   "cell_type": "code",
   "execution_count": 3,
   "metadata": {},
   "outputs": [
    {
     "ename": "TypeError",
     "evalue": "__init__() missing 2 required positional arguments: 'limited_prefs' and 'action_type'",
     "output_type": "error",
     "traceback": [
      "\u001b[0;31m---------------------------------------------------------------------------\u001b[0m",
      "\u001b[0;31mTypeError\u001b[0m                                 Traceback (most recent call last)",
      "\u001b[0;32m<ipython-input-3-9487b88f1301>\u001b[0m in \u001b[0;36m<module>\u001b[0;34m\u001b[0m\n\u001b[0;32m----> 1\u001b[0;31m \u001b[0magentids\u001b[0m \u001b[0;34m=\u001b[0m \u001b[0mEpochSamplingIDS\u001b[0m\u001b[0;34m(\u001b[0m\u001b[0mn\u001b[0m\u001b[0;34m=\u001b[0m\u001b[0mn\u001b[0m\u001b[0;34m,\u001b[0m \u001b[0mk\u001b[0m\u001b[0;34m=\u001b[0m\u001b[0mk\u001b[0m\u001b[0;34m,\u001b[0m \u001b[0minfo_type\u001b[0m\u001b[0;34m=\u001b[0m\u001b[0;34m'IDS'\u001b[0m\u001b[0;34m,\u001b[0m \u001b[0mn_samples\u001b[0m\u001b[0;34m=\u001b[0m\u001b[0;36m100\u001b[0m\u001b[0;34m,\u001b[0m \u001b[0mcorrelated_sampling\u001b[0m\u001b[0;34m=\u001b[0m\u001b[0;32mFalse\u001b[0m\u001b[0;34m)\u001b[0m\u001b[0;34m\u001b[0m\u001b[0;34m\u001b[0m\u001b[0m\n\u001b[0m\u001b[1;32m      2\u001b[0m \u001b[0magentts\u001b[0m \u001b[0;34m=\u001b[0m \u001b[0mEpochSamplingTS\u001b[0m\u001b[0;34m(\u001b[0m\u001b[0mn\u001b[0m\u001b[0;34m=\u001b[0m\u001b[0mn\u001b[0m\u001b[0;34m,\u001b[0m \u001b[0mk\u001b[0m\u001b[0;34m=\u001b[0m\u001b[0mk\u001b[0m\u001b[0;34m,\u001b[0m \u001b[0mhorizon\u001b[0m\u001b[0;34m=\u001b[0m\u001b[0;36m100\u001b[0m\u001b[0;34m,\u001b[0m \u001b[0mcorrelated_sampling\u001b[0m\u001b[0;34m=\u001b[0m\u001b[0;32mTrue\u001b[0m\u001b[0;34m)\u001b[0m\u001b[0;34m\u001b[0m\u001b[0;34m\u001b[0m\u001b[0m\n",
      "\u001b[0;31mTypeError\u001b[0m: __init__() missing 2 required positional arguments: 'limited_prefs' and 'action_type'"
     ]
    }
   ],
   "source": [
    "agentids = EpochSamplingIDS(n=n, k=k, info_type='IDS', n_samples=100, correlated_sampling=False)\n",
    "agentts = EpochSamplingTS(n=n, k=k, horizon=100, correlated_sampling=True)"
   ]
  },
  {
   "cell_type": "code",
   "execution_count": 20,
   "metadata": {},
   "outputs": [],
   "source": [
    "from scipy.stats import norm, beta"
   ]
  },
  {
   "cell_type": "code",
   "execution_count": 21,
   "metadata": {},
   "outputs": [],
   "source": [
    "import numpy as np"
   ]
  },
  {
   "cell_type": "code",
   "execution_count": 22,
   "metadata": {},
   "outputs": [],
   "source": [
    "import matplotlib.pyplot as plt"
   ]
  },
  {
   "cell_type": "code",
   "execution_count": 23,
   "metadata": {},
   "outputs": [],
   "source": [
    "t = np.linspace(0., 1., num=100)"
   ]
  },
  {
   "cell_type": "code",
   "execution_count": 38,
   "metadata": {},
   "outputs": [],
   "source": [
    "alph = 1e5\n",
    "bet = 1e5"
   ]
  },
  {
   "cell_type": "code",
   "execution_count": 39,
   "metadata": {},
   "outputs": [],
   "source": [
    "values_beta = 1 / beta.rvs(a=alph, b=bet, size=1000) - 1"
   ]
  },
  {
   "cell_type": "code",
   "execution_count": 40,
   "metadata": {},
   "outputs": [
    {
     "data": {
      "text/plain": [
       "(array([  2.,  16.,  82., 135., 227., 277., 169.,  76.,  14.,   2.]),\n",
       " array([0.98433751, 0.9873905 , 0.99044349, 0.99349648, 0.99654947,\n",
       "        0.99960246, 1.00265545, 1.00570844, 1.00876143, 1.01181442,\n",
       "        1.01486741]),\n",
       " <a list of 10 Patch objects>)"
      ]
     },
     "execution_count": 40,
     "metadata": {},
     "output_type": "execute_result"
    },
    {
     "data": {
      "image/png": "[encoded data removed]",
      "text/plain": [
       "<Figure size 432x288 with 1 Axes>"
      ]
     },
     "metadata": {
      "needs_background": "light"
     },
     "output_type": "display_data"
    }
   ],
   "source": [
    "plt.hist(values_beta)"
   ]
  },
  {
   "cell_type": "code",
   "execution_count": 41,
   "metadata": {},
   "outputs": [],
   "source": [
    "mu = bet / alph\n",
    "sig = mu * (mu + 1) / alph"
   ]
  },
  {
   "cell_type": "code",
   "execution_count": 42,
   "metadata": {},
   "outputs": [
    {
     "data": {
      "text/plain": [
       "2e-05"
      ]
     },
     "execution_count": 42,
     "metadata": {},
     "output_type": "execute_result"
    }
   ],
   "source": [
    "sig"
   ]
  },
  {
   "cell_type": "code",
   "execution_count": 43,
   "metadata": {},
   "outputs": [],
   "source": [
    "vals = norm.pdf(t, mu, sig)"
   ]
  },
  {
   "cell_type": "code",
   "execution_count": 44,
   "metadata": {},
   "outputs": [
    {
     "data": {
      "text/plain": [
       "[<matplotlib.lines.Line2D at 0x7f3333067290>]"
      ]
     },
     "execution_count": 44,
     "metadata": {},
     "output_type": "execute_result"
    },
    {
     "data": {
      "image/png": "[encoded data removed]",
      "text/plain": [
       "<Figure size 432x288 with 1 Axes>"
      ]
     },
     "metadata": {
      "needs_background": "light"
     },
     "output_type": "display_data"
    }
   ],
   "source": [
    "plt.plot(t, vals)\n"
   ]
  },
  {
   "cell_type": "code",
   "execution_count": 12,
   "metadata": {},
   "outputs": [],
   "source": [
    "mu2 = 0.5\n",
    "sig2 = np.sqrt(0.5 * 1.5 / 0.1)"
   ]
  },
  {
   "cell_type": "code",
   "execution_count": 13,
   "metadata": {},
   "outputs": [],
   "source": [
    "vals2 = norm.pdf(t, mu2, sig2)"
   ]
  },
  {
   "cell_type": "code",
   "execution_count": 14,
   "metadata": {},
   "outputs": [
    {
     "data": {
      "text/plain": [
       "[<matplotlib.lines.Line2D at 0x7fb3c17f8890>]"
      ]
     },
     "execution_count": 14,
     "metadata": {},
     "output_type": "execute_result"
    },
    {
     "data": {
      "image/png": "[encoded data removed]",
      "text/plain": [
       "<Figure size 432x288 with 1 Axes>"
      ]
     },
     "metadata": {
      "needs_background": "light"
     },
     "output_type": "display_data"
    }
   ],
   "source": [
    "plt.plot(t, vals2)"
   ]
  },
  {
   "cell_type": "code",
   "execution_count": 15,
   "metadata": {},
   "outputs": [],
   "source": [
    "posterior_parameters = [(alph, bet)] + [(4, 2) for _ in range(n-1)]"
   ]
  },
  {
   "cell_type": "code",
   "execution_count": 16,
   "metadata": {},
   "outputs": [],
   "source": [
    "agentts.posterior_parameters = posterior_parameters\n",
    "agentids.posterior_parameters = posterior_parameters"
   ]
  },
  {
   "cell_type": "code",
   "execution_count": 17,
   "metadata": {},
   "outputs": [
    {
     "data": {
      "text/plain": [
       "[(100, 99.99),\n",
       " (4, 2),\n",
       " (4, 2),\n",
       " (4, 2),\n",
       " (4, 2),\n",
       " (4, 2),\n",
       " (4, 2),\n",
       " (4, 2),\n",
       " (4, 2),\n",
       " (4, 2)]"
      ]
     },
     "execution_count": 17,
     "metadata": {},
     "output_type": "execute_result"
    }
   ],
   "source": [
    "agentts.posterior_parameters"
   ]
  },
  {
   "cell_type": "code",
   "execution_count": 26,
   "metadata": {},
   "outputs": [
    {
     "data": {
      "text/plain": [
       "(array([0.14009114, 0.72556351, 0.72559475, 0.72558322, 0.72561873,\n",
       "        0.72561096, 0.72561353, 0.72559693, 0.72553208, 0.72557083]),\n",
       " array([1.00864019, 0.65959365, 0.65958033, 0.65956571, 0.6596267 ,\n",
       "        0.65960871, 0.65965721, 0.65958747, 0.65960831, 0.65959628]))"
      ]
     },
     "execution_count": 26,
     "metadata": {},
     "output_type": "execute_result"
    }
   ],
   "source": [
    "agentts.sample_from_posterior(1000).std(0), agentts.sample_from_posterior(1000).mean(0)"
   ]
  },
  {
   "cell_type": "code",
   "execution_count": 20,
   "metadata": {},
   "outputs": [
    {
     "data": {
      "text/plain": [
       "Counter({0: 7188,\n",
       "         4: 1396,\n",
       "         8: 1424,\n",
       "         5: 1462,\n",
       "         3: 1439,\n",
       "         7: 1388,\n",
       "         2: 1424,\n",
       "         9: 1403,\n",
       "         6: 1425,\n",
       "         1: 1451})"
      ]
     },
     "execution_count": 20,
     "metadata": {},
     "output_type": "execute_result"
    }
   ],
   "source": [
    "actions = [agentts.proposal() for _ in range(10000)]\n",
    "counts = []\n",
    "for action in actions:\n",
    "    counts.append(action[0])\n",
    "    counts.append(action[1])\n",
    "counts = Counter(counts)\n",
    "counts"
   ]
  },
  {
   "cell_type": "code",
   "execution_count": 25,
   "metadata": {},
   "outputs": [
    {
     "data": {
      "text/plain": [
       "(array([0.14412901, 0.78487917, 0.73359093, 0.81475739, 0.7237421 ,\n",
       "        0.73126976, 0.70982657, 0.74831954, 0.74838685, 0.71979774]),\n",
       " array([1.01207681, 0.66216063, 0.66731796, 0.67579589, 0.66775455,\n",
       "        0.65549735, 0.67085521, 0.67270838, 0.66544113, 0.66827004]))"
      ]
     },
     "execution_count": 25,
     "metadata": {},
     "output_type": "execute_result"
    }
   ],
   "source": [
    "agentids.sample_from_posterior(10000).std(0), agentids.sample_from_posterior(10000).mean(0)"
   ]
  },
  {
   "cell_type": "code",
   "execution_count": 24,
   "metadata": {},
   "outputs": [
    {
     "name": "stdout",
     "output_type": "stream",
     "text": [
      "min information ratio obtained is 0.3298\n",
      "with deltas: ['0.13232', '0.13232']\n",
      "and information gains: ['0.05309', '0.05309']\n",
      "And rho = 0.041666666666666664\n",
      "with total no info gain share = 0.00\n",
      "with total no delta = 0\n",
      "min information ratio obtained is 0.3451\n",
      "with deltas: ['0.14886', '0.13441']\n",
      "and information gains: ['0.03917', '0.05235']\n",
      "And rho = 0.0\n",
      "with total no info gain share = 0.00\n",
      "with total no delta = 0\n",
      "min information ratio obtained is 0.2759\n",
      "with deltas: ['0.25341', '0.12733']\n",
      "and information gains: ['0.06973', '0.05877']\n",
      "And rho = 0.0\n",
      "with total no info gain share = 0.00\n",
      "with total no delta = 0\n",
      "min information ratio obtained is 0.3537\n",
      "with deltas: ['0.13947', '0.13947']\n",
      "and information gains: ['0.05499', '0.05499']\n",
      "And rho = 0.4583333333333333\n",
      "with total no info gain share = 0.00\n",
      "with total no delta = 0\n",
      "min information ratio obtained is 0.3554\n",
      "with deltas: ['0.12502', '0.12502']\n",
      "and information gains: ['0.04398', '0.04398']\n",
      "And rho = 0.4583333333333333\n",
      "with total no info gain share = 0.00\n",
      "with total no delta = 0\n",
      "min information ratio obtained is 0.3661\n",
      "with deltas: ['0.12981', '0.19088']\n",
      "and information gains: ['0.04587', '0.09168']\n",
      "And rho = 0.875\n",
      "with total no info gain share = 0.00\n",
      "with total no delta = 0\n",
      "min information ratio obtained is 0.3377\n",
      "with deltas: ['0.23702', '0.12354']\n",
      "and information gains: ['0.07889', '0.04519']\n",
      "And rho = 0.0\n",
      "with total no info gain share = 0.00\n",
      "with total no delta = 0\n",
      "min information ratio obtained is 0.3455\n",
      "with deltas: ['0.14659', '0.14659']\n",
      "and information gains: ['0.06219', '0.06219']\n",
      "And rho = 0.4583333333333333\n",
      "with total no info gain share = 0.00\n",
      "with total no delta = 0\n",
      "min information ratio obtained is 0.2614\n",
      "with deltas: ['0.24213', '0.12742']\n",
      "and information gains: ['0.08615', '0.06210']\n",
      "And rho = 0.0\n",
      "with total no info gain share = 0.00\n",
      "with total no delta = 0\n",
      "min information ratio obtained is 0.3205\n",
      "with deltas: ['0.11290', '0.11290']\n",
      "and information gains: ['0.03978', '0.03978']\n",
      "And rho = 0.08333333333333333\n",
      "with total no info gain share = 0.00\n",
      "with total no delta = 0\n",
      "min information ratio obtained is 0.3212\n",
      "with deltas: ['0.12908', '0.12908']\n",
      "and information gains: ['0.05187', '0.05187']\n",
      "And rho = 0.375\n",
      "with total no info gain share = 0.00\n",
      "with total no delta = 0\n",
      "min information ratio obtained is 0.2735\n",
      "with deltas: ['0.11159', '0.11159']\n",
      "and information gains: ['0.04553', '0.04553']\n",
      "And rho = 0.08333333333333333\n",
      "with total no info gain share = 0.00\n",
      "with total no delta = 0\n",
      "min information ratio obtained is 0.3533\n",
      "with deltas: ['0.12815', '0.12425']\n",
      "and information gains: ['0.04646', '0.04370']\n",
      "And rho = 0.16666666666666666\n",
      "with total no info gain share = 0.00\n",
      "with total no delta = 0\n",
      "min information ratio obtained is 0.3640\n",
      "with deltas: ['0.12618', '0.12618']\n",
      "and information gains: ['0.04373', '0.04373']\n",
      "And rho = 0.041666666666666664\n",
      "with total no info gain share = 0.00\n",
      "with total no delta = 0\n",
      "min information ratio obtained is 0.2690\n",
      "with deltas: ['0.12450', '0.12450']\n",
      "and information gains: ['0.05762', '0.05762']\n",
      "And rho = 0.08333333333333333\n",
      "with total no info gain share = 0.00\n",
      "with total no delta = 0\n",
      "min information ratio obtained is 0.3120\n",
      "with deltas: ['0.11955', '0.11955']\n",
      "and information gains: ['0.04580', '0.04580']\n",
      "And rho = 0.16666666666666666\n",
      "with total no info gain share = 0.00\n",
      "with total no delta = 0\n",
      "min information ratio obtained is 0.3444\n",
      "with deltas: ['0.13943', '0.21465']\n",
      "and information gains: ['0.05569', '0.12367']\n",
      "And rho = 0.7916666666666666\n",
      "with total no info gain share = 0.00\n",
      "with total no delta = 0\n",
      "min information ratio obtained is 0.3186\n",
      "with deltas: ['0.24313', '0.12457']\n",
      "and information gains: ['0.08173', '0.04870']\n",
      "And rho = 0.0\n",
      "with total no info gain share = 0.00\n",
      "with total no delta = 0\n",
      "min information ratio obtained is 0.2205\n",
      "with deltas: ['0.09554', '0.09554']\n",
      "and information gains: ['0.04140', '0.04140']\n",
      "And rho = 0.08333333333333333\n",
      "with total no info gain share = 0.00\n",
      "with total no delta = 0\n",
      "min information ratio obtained is 0.3136\n",
      "with deltas: ['0.24192', '0.12309']\n",
      "and information gains: ['0.06947', '0.04832']\n",
      "And rho = 0.0\n",
      "with total no info gain share = 0.00\n",
      "with total no delta = 0\n",
      "min information ratio obtained is 0.3269\n",
      "with deltas: ['0.13150', '0.13150']\n",
      "and information gains: ['0.05289', '0.05289']\n",
      "And rho = 0.20833333333333331\n",
      "with total no info gain share = 0.00\n",
      "with total no delta = 0\n",
      "min information ratio obtained is 0.2344\n",
      "with deltas: ['0.24561', '0.12176']\n",
      "and information gains: ['0.07578', '0.06326']\n",
      "And rho = 0.0\n",
      "with total no info gain share = 0.00\n",
      "with total no delta = 0\n",
      "min information ratio obtained is 0.3623\n",
      "with deltas: ['0.13019', '0.13019']\n",
      "and information gains: ['0.04679', '0.04679']\n",
      "And rho = 0.041666666666666664\n",
      "with total no info gain share = 0.00\n",
      "with total no delta = 0\n",
      "min information ratio obtained is 0.2901\n",
      "with deltas: ['0.12828', '0.12828']\n",
      "and information gains: ['0.05672', '0.05672']\n",
      "And rho = 0.16666666666666666\n",
      "with total no info gain share = 0.00\n",
      "with total no delta = 0\n",
      "min information ratio obtained is 0.2603\n",
      "with deltas: ['0.20363', '0.12398']\n",
      "and information gains: ['0.10462', '0.05905']\n",
      "And rho = 0.0\n",
      "with total no info gain share = 0.00\n",
      "with total no delta = 0\n",
      "min information ratio obtained is 0.2449\n",
      "with deltas: ['0.12265', '0.12265']\n",
      "and information gains: ['0.06143', '0.06143']\n",
      "And rho = 0.08333333333333333\n",
      "with total no info gain share = 0.00\n",
      "with total no delta = 0\n",
      "min information ratio obtained is 0.2767\n",
      "with deltas: ['0.11807', '0.11807']\n",
      "and information gains: ['0.05037', '0.05037']\n",
      "And rho = 0.041666666666666664\n",
      "with total no info gain share = 0.00\n",
      "with total no delta = 0\n",
      "min information ratio obtained is 0.2873\n",
      "with deltas: ['0.11992', '0.11992']\n",
      "and information gains: ['0.05005', '0.05005']\n",
      "And rho = 0.041666666666666664\n",
      "with total no info gain share = 0.00\n",
      "with total no delta = 0\n",
      "min information ratio obtained is 0.3109\n",
      "with deltas: ['0.12182', '0.12182']\n",
      "and information gains: ['0.04773', '0.04773']\n",
      "And rho = 0.08333333333333333\n",
      "with total no info gain share = 0.00\n",
      "with total no delta = 0\n",
      "min information ratio obtained is 0.3235\n",
      "with deltas: ['0.13039', '0.13039']\n",
      "and information gains: ['0.05255', '0.05255']\n",
      "And rho = 0.4583333333333333\n",
      "with total no info gain share = 0.00\n",
      "with total no delta = 0\n",
      "min information ratio obtained is 0.2768\n",
      "with deltas: ['0.12235', '0.12235']\n",
      "and information gains: ['0.05408', '0.05408']\n",
      "And rho = 0.08333333333333333\n",
      "with total no info gain share = 0.00\n",
      "with total no delta = 0\n",
      "min information ratio obtained is 0.3378\n",
      "with deltas: ['0.12665', '0.12665']\n",
      "and information gains: ['0.04748', '0.04748']\n",
      "And rho = 0.20833333333333331\n",
      "with total no info gain share = 0.00\n",
      "with total no delta = 0\n",
      "min information ratio obtained is 0.3429\n",
      "with deltas: ['0.12949', '0.12949']\n",
      "and information gains: ['0.04889', '0.04889']\n",
      "And rho = 0.041666666666666664\n",
      "with total no info gain share = 0.00\n",
      "with total no delta = 0\n",
      "min information ratio obtained is 0.3553\n",
      "with deltas: ['0.12248', '0.12248']\n",
      "and information gains: ['0.04222', '0.04222']\n",
      "And rho = 0.08333333333333333\n",
      "with total no info gain share = 0.00\n",
      "with total no delta = 0\n",
      "min information ratio obtained is 0.3636\n",
      "with deltas: ['0.24999', '0.13220']\n",
      "and information gains: ['0.08152', '0.04807']\n",
      "And rho = 0.0\n",
      "with total no info gain share = 0.00\n",
      "with total no delta = 0\n",
      "min information ratio obtained is 0.3875\n",
      "with deltas: ['0.13381', '0.13381']\n",
      "and information gains: ['0.04621', '0.04621']\n",
      "And rho = 0.3333333333333333\n",
      "with total no info gain share = 0.00\n",
      "with total no delta = 0\n",
      "min information ratio obtained is 0.3435\n",
      "with deltas: ['0.22362', '0.11974']\n",
      "and information gains: ['0.08071', '0.04174']\n",
      "And rho = 0.0\n",
      "with total no info gain share = 0.00\n",
      "with total no delta = 0\n",
      "min information ratio obtained is 0.2535\n",
      "with deltas: ['0.11393', '0.11393']\n",
      "and information gains: ['0.05120', '0.05120']\n",
      "And rho = 0.041666666666666664\n",
      "with total no info gain share = 0.00\n",
      "with total no delta = 0\n",
      "min information ratio obtained is 0.3330\n",
      "with deltas: ['0.25388', '0.12721']\n",
      "and information gains: ['0.07493', '0.04859']\n",
      "And rho = 0.0\n",
      "with total no info gain share = 0.00\n",
      "with total no delta = 0\n",
      "min information ratio obtained is 0.2517\n",
      "with deltas: ['0.23051', '0.12356']\n",
      "and information gains: ['0.07826', '0.06065']\n",
      "And rho = 0.0\n",
      "with total no info gain share = 0.00\n",
      "with total no delta = 0\n",
      "min information ratio obtained is 0.2901\n",
      "with deltas: ['0.24176', '0.12930']\n",
      "and information gains: ['0.09482', '0.05763']\n",
      "And rho = 0.0\n",
      "with total no info gain share = 0.00\n",
      "with total no delta = 0\n",
      "min information ratio obtained is 0.3145\n",
      "with deltas: ['0.20682', '0.11834']\n",
      "and information gains: ['0.09102', '0.04452']\n",
      "And rho = 0.0\n",
      "with total no info gain share = 0.00\n",
      "with total no delta = 0\n",
      "min information ratio obtained is 0.3046\n",
      "with deltas: ['0.14259', '0.13180']\n",
      "and information gains: ['0.03502', '0.05704']\n",
      "And rho = 0.0\n",
      "with total no info gain share = 0.00\n",
      "with total no delta = 0\n",
      "min information ratio obtained is 0.2899\n",
      "with deltas: ['0.11968', '0.11968']\n",
      "and information gains: ['0.04941', '0.04941']\n",
      "And rho = 0.3333333333333333\n",
      "with total no info gain share = 0.00\n",
      "with total no delta = 0\n",
      "min information ratio obtained is 0.3729\n",
      "with deltas: ['0.12362', '0.12362']\n",
      "and information gains: ['0.04099', '0.04099']\n",
      "And rho = 0.08333333333333333\n",
      "with total no info gain share = 0.00\n",
      "with total no delta = 0\n",
      "min information ratio obtained is 0.3568\n",
      "with deltas: ['0.12458', '0.12458']\n",
      "and information gains: ['0.04349', '0.04349']\n",
      "And rho = 0.08333333333333333\n",
      "with total no info gain share = 0.00\n",
      "with total no delta = 0\n",
      "min information ratio obtained is 0.3582\n",
      "with deltas: ['0.13771', '0.12912']\n",
      "and information gains: ['0.03838', '0.04654']\n",
      "And rho = 0.0\n",
      "with total no info gain share = 0.00\n",
      "with total no delta = 0\n",
      "min information ratio obtained is 0.3114\n",
      "with deltas: ['0.24084', '0.12602']\n",
      "and information gains: ['0.08896', '0.05100']\n",
      "And rho = 0.0\n",
      "with total no info gain share = 0.00\n",
      "with total no delta = 0\n",
      "min information ratio obtained is 0.2326\n",
      "with deltas: ['0.11563', '0.11563']\n",
      "and information gains: ['0.05747', '0.05747']\n",
      "And rho = 0.08333333333333333\n",
      "with total no info gain share = 0.00\n",
      "with total no delta = 0\n",
      "min information ratio obtained is 0.3269\n",
      "with deltas: ['0.11876', '0.11876']\n",
      "and information gains: ['0.04315', '0.04315']\n",
      "And rho = 0.08333333333333333\n",
      "with total no info gain share = 0.00\n",
      "with total no delta = 0\n"
     ]
    },
    {
     "data": {
      "text/plain": [
       "Counter({0: 50, 7: 4, 5: 5, 3: 8, 9: 4, 8: 5, 1: 10, 6: 7, 2: 4, 4: 3})"
      ]
     },
     "execution_count": 24,
     "metadata": {},
     "output_type": "execute_result"
    }
   ],
   "source": [
    "actions = [agentids.proposal() for _ in range(50)]\n",
    "counts = []\n",
    "for action in actions:\n",
    "    counts.append(action[0])\n",
    "    counts.append(action[1])\n",
    "counts = Counter(counts)\n",
    "counts"
   ]
  },
  {
   "cell_type": "code",
   "execution_count": null,
   "metadata": {},
   "outputs": [],
   "source": []
  }
 ],
 "metadata": {
  "kernelspec": {
   "display_name": "Python 3",
   "language": "python",
   "name": "python3"
  },
  "language_info": {
   "codemirror_mode": {
    "name": "ipython",
    "version": 3
   },
   "file_extension": ".py",
   "mimetype": "text/x-python",
   "name": "python",
   "nbconvert_exporter": "python",
   "pygments_lexer": "ipython3",
   "version": "3.7.6"
  }
 },
 "nbformat": 4,
 "nbformat_minor": 4
}

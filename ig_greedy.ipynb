{
 "cells": [
  {
   "cell_type": "code",
   "execution_count": 1,
   "metadata": {},
   "outputs": [],
   "source": [
    "import numpy as np"
   ]
  },
  {
   "cell_type": "code",
   "execution_count": 6,
   "metadata": {},
   "outputs": [
    {
     "data": {
      "text/plain": [
       "array([0.72038275, 0.76286824, 0.82898522, 0.32229129, 0.90576521])"
      ]
     },
     "execution_count": 6,
     "metadata": {},
     "output_type": "execute_result"
    }
   ],
   "source": [
    "a = np.random.rand(5)\n",
    "a"
   ]
  },
  {
   "cell_type": "code",
   "execution_count": 9,
   "metadata": {},
   "outputs": [
    {
     "data": {
      "text/plain": [
       "array([-1, -2])"
      ]
     },
     "execution_count": 9,
     "metadata": {},
     "output_type": "execute_result"
    }
   ],
   "source": [
    "indexes = np.array([0, 1])\n",
    "~indexes"
   ]
  },
  {
   "cell_type": "code",
   "execution_count": 5,
   "metadata": {},
   "outputs": [
    {
     "data": {
      "text/plain": [
       "array([0.28177852, 0.86821325, 0.97790898, 0.64812911, 0.86352816])"
      ]
     },
     "execution_count": 5,
     "metadata": {},
     "output_type": "execute_result"
    }
   ],
   "source": [
    "a"
   ]
  },
  {
   "cell_type": "code",
   "execution_count": 69,
   "metadata": {},
   "outputs": [],
   "source": [
    "@numba.jit(nopython=True)\n",
    "def greedy_mutual_information(forbidden, size, tot):\n",
    "    return np.random.choice(np.delete(np.arange(tot), forbidden), size=size, replace=False)"
   ]
  },
  {
   "cell_type": "code",
   "execution_count": 71,
   "metadata": {},
   "outputs": [
    {
     "data": {
      "text/plain": [
       "array([3, 4, 2])"
      ]
     },
     "execution_count": 71,
     "metadata": {},
     "output_type": "execute_result"
    }
   ],
   "source": [
    "greedy_mutual_information(np.empty(0, dtype=np.int64), 3, 5)"
   ]
  },
  {
   "cell_type": "code",
   "execution_count": 97,
   "metadata": {},
   "outputs": [],
   "source": [
    "import numba\n",
    "\n",
    "@numba.jit(nopython=True)\n",
    "def insert_numba(forbidden, current_elt):\n",
    "    for elt in forbidden:\n",
    "        if current_elt == elt:\n",
    "            return False\n",
    "    return True\n",
    "\n",
    "@numba.jit(nopython=True)\n",
    "def numba_top(input_arr, forbidden, size):\n",
    "    count = 0\n",
    "    output_top = np.zeros(size, dtype=np.int64)\n",
    "    for ix in range(input_arr.shape[0]):\n",
    "        current_elt = input_arr[ix]\n",
    "        insert = insert_numba(forbidden, current_elt)\n",
    "        if insert:\n",
    "            output_top[count] = current_elt\n",
    "            count += 1\n",
    "        if count >= size:\n",
    "            break\n",
    "    return output_top"
   ]
  },
  {
   "cell_type": "code",
   "execution_count": 101,
   "metadata": {},
   "outputs": [
    {
     "data": {
      "text/plain": [
       "array([9, 7, 6, 5, 3, 2, 1])"
      ]
     },
     "execution_count": 101,
     "metadata": {},
     "output_type": "execute_result"
    }
   ],
   "source": [
    "a = np.arange(1, 10, dtype=int)[::-1]\n",
    "b = np.array([4, 8], dtype=int)\n",
    "\n",
    "numba_top(a, b, 7)"
   ]
  },
  {
   "cell_type": "code",
   "execution_count": 92,
   "metadata": {},
   "outputs": [],
   "source": [
    "@numba.jit(nopython=True)\n",
    "def numba_top(input_arr, forbidden, size):\n",
    "    count = 0\n",
    "    output_top = np.zeros(size, dtype=np.int64)\n",
    "    for ix in range(input_arr.shape[0]):\n",
    "        current_elt = input_arr[ix]\n",
    "        insert = True\n",
    "        for elt in forbidden:\n",
    "            if current_elt == elt:\n",
    "                insert = False\n",
    "        if insert:\n",
    "            output_top[count] = current_elt\n",
    "            count += 1\n",
    "        if count >= size:\n",
    "            break\n",
    "    return output_top\n",
    "\n",
    "@numba.jit(nopython=True)\n",
    "def skel(sampled_preferences, n_slots):\n",
    "    expected_preferences = np.sum(sampled_preferences, 0) / sampled_preferences.shape[0]\n",
    "    \n",
    "    item_indexes_decreasing_expected_preferences = np.argsort(-expected_preferences)\n",
    "\n",
    "    all_actions = np.ones((2 * n_slots, n_slots), dtype=np.int64)\n",
    "    for k in range(1, n_slots + 1):\n",
    "        items = item_indexes_decreasing_expected_preferences[:k]\n",
    "        all_actions[k-1, :k] = items\n",
    "        other_items = greedy_mutual_information(items, n_slots - k, sampled_preferences.shape[1])\n",
    "\n",
    "        all_actions[k-1, k:] = other_items\n",
    "\n",
    "    for k in range(1, n_slots + 1):\n",
    "        items = greedy_mutual_information(np.empty(shape=0, dtype=np.int64), k, sampled_preferences.shape[1])\n",
    "        all_actions[n_slots - 1 + k, :k] = items\n",
    "        other_items = numba_top(item_indexes_decreasing_expected_preferences, items, n_slots - k)\n",
    "        all_actions[n_slots - 1 + k, k:] = other_items\n",
    "    return all_actions"
   ]
  },
  {
   "cell_type": "code",
   "execution_count": 93,
   "metadata": {},
   "outputs": [
    {
     "data": {
      "text/plain": [
       "array([[0.87555112, 0.44915901, 0.51874898, 0.34566077, 0.42106011]])"
      ]
     },
     "execution_count": 93,
     "metadata": {},
     "output_type": "execute_result"
    }
   ],
   "source": [
    "sampled_preferences = np.random.rand(5).reshape(1, -1)\n",
    "sampled_preferences"
   ]
  },
  {
   "cell_type": "code",
   "execution_count": 94,
   "metadata": {},
   "outputs": [
    {
     "data": {
      "text/plain": [
       "array([[0, 3, 1],\n",
       "       [0, 2, 4],\n",
       "       [0, 2, 1],\n",
       "       [4, 0, 2],\n",
       "       [2, 3, 0],\n",
       "       [1, 3, 4]])"
      ]
     },
     "execution_count": 94,
     "metadata": {},
     "output_type": "execute_result"
    }
   ],
   "source": [
    "skel(sampled_preferences, 3)"
   ]
  },
  {
   "cell_type": "code",
   "execution_count": null,
   "metadata": {},
   "outputs": [],
   "source": []
  },
  {
   "cell_type": "code",
   "execution_count": 1,
   "metadata": {},
   "outputs": [],
   "source": [
    "from ids_agents import EpochSamplingIDS"
   ]
  },
  {
   "cell_type": "code",
   "execution_count": 2,
   "metadata": {},
   "outputs": [],
   "source": [
    "N = 5\n",
    "K = 3"
   ]
  },
  {
   "cell_type": "code",
   "execution_count": 3,
   "metadata": {},
   "outputs": [
    {
     "name": "stdout",
     "output_type": "stream",
     "text": [
      "Agent believes first=best? False\n",
      "Info type is: gain\n",
      "Action selection+approximate\n",
      "scaling factor: 0.0\n"
     ]
    }
   ],
   "source": [
    "agent = EpochSamplingIDS(action_type=\"approximate\",\n",
    "                         k=K,\n",
    "                         n=N,\n",
    "                         correlated_sampling=False,\n",
    "                         limited_prefs=False,\n",
    "                         n_samples=10,\n",
    "                         info_type=\"gain\")"
   ]
  },
  {
   "cell_type": "code",
   "execution_count": 4,
   "metadata": {},
   "outputs": [
    {
     "data": {
      "text/plain": [
       "array([[28.63552059,  5.24950891,  8.02682574,  0.08707483,  3.78314976]])"
      ]
     },
     "execution_count": 4,
     "metadata": {},
     "output_type": "execute_result"
    }
   ],
   "source": [
    "agent.sample_from_posterior(1)"
   ]
  },
  {
   "cell_type": "code",
   "execution_count": 14,
   "metadata": {},
   "outputs": [
    {
     "data": {
      "text/plain": [
       "array([3, 2, 1])"
      ]
     },
     "execution_count": 14,
     "metadata": {},
     "output_type": "execute_result"
    }
   ],
   "source": [
    "agent.proposal()"
   ]
  },
  {
   "cell_type": "code",
   "execution_count": null,
   "metadata": {},
   "outputs": [],
   "source": []
  }
 ],
 "metadata": {
  "kernelspec": {
   "display_name": "Python 3",
   "language": "python",
   "name": "python3"
  },
  "language_info": {
   "codemirror_mode": {
    "name": "ipython",
    "version": 3
   },
   "file_extension": ".py",
   "mimetype": "text/x-python",
   "name": "python",
   "nbconvert_exporter": "python",
   "pygments_lexer": "ipython3",
   "version": "3.7.6"
  }
 },
 "nbformat": 4,
 "nbformat_minor": 4
}

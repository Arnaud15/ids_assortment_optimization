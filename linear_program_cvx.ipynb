{
 "cells": [
  {
   "cell_type": "code",
   "execution_count": 20,
   "metadata": {},
   "outputs": [],
   "source": [
    "import cvxpy as cp\n",
    "import numpy as np"
   ]
  },
  {
   "cell_type": "code",
   "execution_count": 21,
   "metadata": {},
   "outputs": [],
   "source": [
    "from collections import defaultdict\n",
    "N = 10\n",
    "ALL_ITEMS = np.arange(N)\n",
    "def update(action, item_selected, posterior_parameters, epoch_picks):\n",
    "    if item_selected == N:\n",
    "        n_is = [\n",
    "            int(ix in action) for ix in range(N)\n",
    "        ]\n",
    "        v_is = [epoch_picks[i] for i in range(N)]\n",
    "        posterior_parameters = [\n",
    "            (a + n_is[ix], b + v_is[ix])\n",
    "            for ix, (a, b) in enumerate(posterior_parameters)\n",
    "        ]\n",
    "        epoch_picks = defaultdict(int)\n",
    "        epoch_ended = True\n",
    "    else:\n",
    "        epoch_picks[item_selected] += 1\n",
    "        epoch_ended = False\n",
    "    return posterior_parameters, epoch_picks, epoch_ended\n",
    "\n",
    "def propose():\n",
    "    return np.random.choice(\n",
    "        np.arange(N, dtype=int),\n",
    "        size=N,\n",
    "        replace=False,\n",
    "    )\n",
    "\n",
    "def step(action, preferences):\n",
    "    assert preferences[N] == 1.0\n",
    "    possible_items = np.concatenate(\n",
    "        [np.array([N], dtype=int), ALL_ITEMS[action]]\n",
    "    )  # \"no item\" can always happen\n",
    "    subset_preferences = preferences[possible_items]\n",
    "    sum_preferences = subset_preferences.sum()\n",
    "    probabilities = subset_preferences / sum_preferences\n",
    "    return np.random.choice(possible_items, size=1, p=probabilities)[0]\n",
    "\n",
    "def simulation(n_steps):\n",
    "    preferences = np.random.rand(N + 1)\n",
    "    preferences[-1] = 1.0\n",
    "    posterior_parameters = [(1, 1) for _ in range(N)]\n",
    "    epoch_picks = defaultdict(int)\n",
    "    epoch_ended = True\n",
    "    current_action = None\n",
    "    for _ in range(n_steps):\n",
    "        if epoch_ended:\n",
    "            current_action = propose()\n",
    "        item_picked = step(action=current_action,\n",
    "                           preferences=preferences)\n",
    "        posterior_parameters, epoch_picks, epoch_ended = update(action=current_action,\n",
    "                                                                item_selected=item_picked,\n",
    "                                                                posterior_parameters=posterior_parameters,\n",
    "                                                                epoch_picks=epoch_picks)\n",
    "    return preferences, posterior_parameters\n",
    "\n",
    "def params_to_gaussian(posterior):\n",
    "    gaussian_stds = np.array(\n",
    "        [\n",
    "            np.sqrt(b_ / a_ * ((b_ / a_) + 1) / a_)\n",
    "            for (a_, b_) in posterior\n",
    "        ],\n",
    "    )\n",
    "    gaussian_means = np.array(\n",
    "        [b_ / a_ for (a_, b_) in posterior],\n",
    "    )\n",
    "    return gaussian_means, gaussian_stds"
   ]
  },
  {
   "cell_type": "code",
   "execution_count": 22,
   "metadata": {},
   "outputs": [],
   "source": [
    "def sample_action(agent, posterior):\n",
    "    agent.posterior_parameters = posterior\n",
    "    return agent.proposal()"
   ]
  },
  {
   "cell_type": "code",
   "execution_count": 23,
   "metadata": {},
   "outputs": [],
   "source": [
    "import matplotlib.pyplot as plt\n",
    "from scipy.stats import norm, beta\n",
    "\n",
    "def plot_posterior(means, stds, indices=np.arange(N), ground_truth=None):\n",
    "    plt.figure(figsize=(len(indices), 5))\n",
    "    discretization_size = 50\n",
    "    x_vals = np.linspace(0., 1., num=discretization_size)\n",
    "    y_vals = []\n",
    "    for ix in range(len(indices)):\n",
    "        y_vals.append(norm.pdf(x_vals, loc=means[ix], scale=stds[ix])) \n",
    "    x_vals = np.concatenate([x_vals + ix for ix in range(len(indices))])\n",
    "    y_vals = np.concatenate(y_vals)\n",
    "    plt.plot(x_vals, y_vals)\n",
    "    if ground_truth is not None:\n",
    "        x_truths = [true_param + ix for ix, true_param in enumerate(ground_truth)]\n",
    "        plt.vlines(x=x_truths, ymin=0., ymax=y_vals.max(), color='red', linestyles='dashed')\n",
    "    plt.xticks(ticks=np.arange(len(indices)), labels=indices)\n",
    "    plt.grid()\n",
    "    plt.show()\n",
    "    plt.close()"
   ]
  },
  {
   "cell_type": "code",
   "execution_count": 24,
   "metadata": {},
   "outputs": [],
   "source": [
    "pref, posterior = simulation(25)\n",
    "means, stds = params_to_gaussian(posterior)"
   ]
  },
  {
   "cell_type": "code",
   "execution_count": 25,
   "metadata": {},
   "outputs": [
    {
     "data": {
      "image/png": "[encoded data removed]",
      "text/plain": [
       "<Figure size 720x360 with 1 Axes>"
      ]
     },
     "metadata": {
      "needs_background": "light"
     },
     "output_type": "display_data"
    }
   ],
   "source": [
    "plot_posterior(means, stds, ground_truth=pref)"
   ]
  },
  {
   "cell_type": "code",
   "execution_count": 26,
   "metadata": {},
   "outputs": [
    {
     "data": {
      "text/plain": [
       "[(2, 1),\n",
       " (2, 2),\n",
       " (2, 1),\n",
       " (2, 1),\n",
       " (2, 3),\n",
       " (2, 2),\n",
       " (2, 3),\n",
       " (2, 1),\n",
       " (2, 2),\n",
       " (2, 1)]"
      ]
     },
     "execution_count": 26,
     "metadata": {},
     "output_type": "execute_result"
    }
   ],
   "source": [
    "posterior"
   ]
  },
  {
   "cell_type": "code",
   "execution_count": 27,
   "metadata": {},
   "outputs": [],
   "source": [
    "from math import pi\n",
    "from scipy.stats import geom"
   ]
  },
  {
   "cell_type": "code",
   "execution_count": 57,
   "metadata": {},
   "outputs": [],
   "source": [
    "n_samples = 100"
   ]
  },
  {
   "cell_type": "code",
   "execution_count": 71,
   "metadata": {},
   "outputs": [],
   "source": [
    "expected_rewards, stds = params_to_gaussian(posterior)\n",
    "\n",
    "a_s = np.array([x[0] for x in posterior]).reshape(-1, 1)\n",
    "b_s = np.array([x[1] for x in posterior]).reshape(-1, 1)\n",
    "\n",
    "posterior_samples = 1 / beta.rvs(a=a_s, b=b_s, size=(a_s.shape[0], n_samples)) - 1"
   ]
  },
  {
   "cell_type": "code",
   "execution_count": 72,
   "metadata": {},
   "outputs": [],
   "source": [
    "posterior_samples;"
   ]
  },
  {
   "cell_type": "code",
   "execution_count": 73,
   "metadata": {},
   "outputs": [],
   "source": [
    "top_k = 2\n",
    "best_actions = np.sort(\n",
    "        np.argpartition(np.transpose(posterior_samples), -top_k, axis=1)[:, -top_k:], axis=1\n",
    "        )\n",
    "top_actions_dist = np.zeros(posterior_samples.shape)\n",
    "for sample_ix in range(n_samples):\n",
    "    top_actions_dist[best_actions[sample_ix], sample_ix] = 1.0\n",
    "ps = top_actions_dist.mean(1)\n",
    "entropies_start = - (ps * np.log(ps + 1e-12) + (1 - ps) * np.log(1 - ps + 1e-12))\n",
    "# posterior_samples[best_actions]"
   ]
  },
  {
   "cell_type": "code",
   "execution_count": 74,
   "metadata": {},
   "outputs": [
    {
     "data": {
      "text/plain": [
       "array([0.11, 0.17, 0.12, 0.06, 0.35, 0.29, 0.4 , 0.14, 0.18, 0.18])"
      ]
     },
     "execution_count": 74,
     "metadata": {},
     "output_type": "execute_result"
    }
   ],
   "source": [
    "# ps = top_actions_dist.mean(1)\n",
    "ps"
   ]
  },
  {
   "cell_type": "code",
   "execution_count": 75,
   "metadata": {},
   "outputs": [
    {
     "data": {
      "text/plain": [
       "array([0.34651534, 0.45588621, 0.36692499, 0.22696752, 0.64744664,\n",
       "       0.60215168, 0.67301167, 0.40496349, 0.47139349, 0.47139349])"
      ]
     },
     "execution_count": 75,
     "metadata": {},
     "output_type": "execute_result"
    }
   ],
   "source": [
    "# entropies_start = - (ps * np.log(ps + 1e-12) + (1 - ps) * np.log(1 - ps + 1e-12))\n",
    "entropies_start"
   ]
  },
  {
   "cell_type": "code",
   "execution_count": 76,
   "metadata": {},
   "outputs": [],
   "source": [
    "observations_samples = geom.rvs(1 / (posterior_samples + 1)) - 1\n",
    "# entropies_start = 0.5 * np.log(2 * pi * np.exp(1) * stds ** 2)\n",
    "new_posterior = [[(posterior[i][0] + 1, posterior[i][1] + observations_samples[i][j]) for j in range(n_samples)] for i in range(N)]\n",
    "a_s = np.array([x[0] for x in new_posterior]).reshape(-1, 1)\n",
    "b_s = np.array([x[1] for x in new_posterior]).reshape(-1, 1)\n",
    "posterior_samples = 1 / beta.rvs(a=a_s, b=b_s, size=(a_s.shape[0], n_samples)) - 1"
   ]
  },
  {
   "cell_type": "code",
   "execution_count": 77,
   "metadata": {},
   "outputs": [],
   "source": [
    "top_k = 2\n",
    "best_actions = np.sort(\n",
    "        np.argpartition(np.transpose(posterior_samples), -top_k, axis=1)[:, -top_k:], axis=1\n",
    "        )\n",
    "top_actions_dist = np.zeros(posterior_samples.shape)\n",
    "for sample_ix in range(n_samples):\n",
    "    top_actions_dist[best_actions[sample_ix], sample_ix] = 1.0\n",
    "ps = top_actions_dist.mean(1)\n",
    "entropies_end = - (ps * np.log(ps + 1e-12) + (1 - ps) * np.log(1 - ps + 1e-12))"
   ]
  },
  {
   "cell_type": "code",
   "execution_count": 79,
   "metadata": {},
   "outputs": [
    {
     "ename": "ValueError",
     "evalue": "operands could not be broadcast together with shapes (10,) (20,) ",
     "output_type": "error",
     "traceback": [
      "\u001b[0;31m---------------------------------------------------------------------------\u001b[0m",
      "\u001b[0;31mValueError\u001b[0m                                Traceback (most recent call last)",
      "\u001b[0;32m<ipython-input-79-57b39cf88411>\u001b[0m in \u001b[0;36m<module>\u001b[0;34m\u001b[0m\n\u001b[0;32m----> 1\u001b[0;31m \u001b[0mentropies_start\u001b[0m \u001b[0;34m-\u001b[0m \u001b[0mentropies_end\u001b[0m\u001b[0;34m\u001b[0m\u001b[0;34m\u001b[0m\u001b[0m\n\u001b[0m",
      "\u001b[0;31mValueError\u001b[0m: operands could not be broadcast together with shapes (10,) (20,) "
     ]
    }
   ],
   "source": [
    "entropies_start - entropies_end"
   ]
  },
  {
   "cell_type": "code",
   "execution_count": 320,
   "metadata": {},
   "outputs": [
    {
     "data": {
      "text/plain": [
       "array([0.12188799, 0.11699666, 0.08320878, 0.09020289, 0.08765731,\n",
       "       0.07867499, 0.07671157, 0.14857892, 0.12256875, 0.10547239])"
      ]
     },
     "execution_count": 320,
     "metadata": {},
     "output_type": "execute_result"
    }
   ],
   "source": [
    "a_s = np.array([x[0] for x in posterior]).reshape(-1, 1)\n",
    "b_s = np.array([x[1] for x in posterior]).reshape(-1, 1)\n",
    "\n",
    "posterior_samples = 1 / beta.rvs(a=a_s, b=b_s, size=(a_s.shape[0], n_samples)) - 1\n",
    "\n",
    "observations_samples = geom.rvs(1 / (posterior_samples + 1)) - 1\n",
    "\n",
    "# new_as = np.ones((N, n_samples), dtype=int)\n",
    "\n",
    "new_posteriors = [[(posterior[i][0] + 1, posterior[i][1] + observations_samples[i][j]) for j in range(n_samples)] for i in range(N)]\n",
    "\n",
    "\n",
    "new_entropies = [\n",
    "    [0.5 * np.log(2 * pi * np.exp(1) * std ** 2) for std in params_to_gaussian(new_posteriors[i])[1]]\n",
    "    for i in range(N)\n",
    "]\n",
    "\n",
    "new_entropies = np.array(new_entropies)\n",
    "\n",
    "new_entropies = new_entropies.mean(1)\n",
    "\n",
    "reductions = entropies_start - new_entropies\n",
    "reductions"
   ]
  },
  {
   "cell_type": "code",
   "execution_count": 294,
   "metadata": {},
   "outputs": [
    {
     "data": {
      "text/plain": [
       "array([0.4, 0.2, 0.4, 0.4, 0.8, 0.8, 0.2, 0.4, 0.8, 0.6])"
      ]
     },
     "execution_count": 294,
     "metadata": {},
     "output_type": "execute_result"
    }
   ],
   "source": [
    "expected_rewards"
   ]
  },
  {
   "cell_type": "code",
   "execution_count": 295,
   "metadata": {},
   "outputs": [],
   "source": [
    "K = 2"
   ]
  },
  {
   "cell_type": "code",
   "execution_count": 297,
   "metadata": {},
   "outputs": [
    {
     "name": "stdout",
     "output_type": "stream",
     "text": [
      "Agent believes first=best? False\n"
     ]
    }
   ],
   "source": [
    "from ts_agents import EpochSamplingTS\n",
    "ts_cs_agent = EpochSamplingTS(k=K, n=N, horizon=10000, sampling=1, limited_prefs=False)\n",
    "ts_cs_agent.posterior_parameters = posterior"
   ]
  },
  {
   "cell_type": "code",
   "execution_count": 311,
   "metadata": {},
   "outputs": [
    {
     "data": {
      "text/plain": [
       "array([5, 8])"
      ]
     },
     "execution_count": 311,
     "metadata": {},
     "output_type": "execute_result"
    }
   ],
   "source": [
    "ts_cs_action = ts_cs_agent.proposal()\n",
    "ts_cs_action"
   ]
  },
  {
   "cell_type": "code",
   "execution_count": 312,
   "metadata": {},
   "outputs": [],
   "source": [
    "from ids_utils import info_gain_step, numba_expected_reward\n",
    "from env import act_optimally"
   ]
  },
  {
   "cell_type": "code",
   "execution_count": 313,
   "metadata": {},
   "outputs": [],
   "source": [
    "posterior_samples = np.transpose(posterior_samples)"
   ]
  },
  {
   "cell_type": "code",
   "execution_count": 314,
   "metadata": {},
   "outputs": [],
   "source": [
    "# sorted_beliefs = np.sort(posterior_samples, axis=1)[\n",
    "#     :, -K :\n",
    "# ]  # shape (m, k)\n",
    "# picking_probabilities = sorted_beliefs.sum(1)\n",
    "# r_star = picking_probabilities.mean()\n",
    "# a_greedy = act_optimally(\n",
    "#     posterior_samples.mean(0), K\n",
    "# )\n",
    "# greedy_expected_reward = numba_expected_reward(\n",
    "#     posterior_samples, a_greedy, mode=\"step\"\n",
    "# )\n",
    "# delta_min = r_star - greedy_expected_reward\n",
    "# assert delta_min > -1e-12\n",
    "# delta_min = max(1e-12, delta_min)\n",
    "\n",
    "# posteriors_actions = act_optimally(\n",
    "#     posterior_samples, K\n",
    "# )\n",
    "# posteriors_actions = [\n",
    "#     tuple(posteriors_actions[ix, :]) for ix in range(n_samples)\n",
    "# ]\n",
    "# optimal_actions_information = defaultdict(list)\n",
    "# for ix, action in enumerate(posteriors_actions):\n",
    "#     optimal_actions_information[action].append(ix)\n",
    "\n",
    "# optimal_actions = {\n",
    "#     action: (len(theta_idxs) / n_samples, theta_idxs)\n",
    "#     for action, theta_idxs in optimal_actions_information.items()\n",
    "# }\n",
    "# actions_star = np.array(\n",
    "#     [list(key) for key in optimal_actions_information.keys()]\n",
    "# )\n",
    "# counts_star = np.array(\n",
    "#     [len(val) for val in optimal_actions_information.values()]\n",
    "# )\n",
    "# thetas_star = []\n",
    "# for val in optimal_actions_information.values():\n",
    "#     thetas_star += val\n",
    "# thetas_star = np.array(thetas_star)\n",
    "# gain_ts_cs = info_gain_step(action=ts_cs_action,\n",
    "#                             sampled_preferences=posterior_samples,\n",
    "#                             actions_star=actions_star,\n",
    "#                             counts=counts_star,\n",
    "#                             thetas=thetas_star)"
   ]
  },
  {
   "cell_type": "code",
   "execution_count": 315,
   "metadata": {},
   "outputs": [],
   "source": [
    "ts_cs_gain = reductions[ts_cs_action].sum()"
   ]
  },
  {
   "cell_type": "code",
   "execution_count": 316,
   "metadata": {},
   "outputs": [
    {
     "data": {
      "text/plain": [
       "0.1514313513425315"
      ]
     },
     "execution_count": 316,
     "metadata": {},
     "output_type": "execute_result"
    }
   ],
   "source": [
    "ts_cs_gain"
   ]
  },
  {
   "cell_type": "code",
   "execution_count": 317,
   "metadata": {},
   "outputs": [
    {
     "data": {
      "text/plain": [
       "array([0.4, 0.2, 0.4, 0.4, 0.8, 0.8, 0.2, 0.4, 0.8, 0.6])"
      ]
     },
     "execution_count": 317,
     "metadata": {},
     "output_type": "execute_result"
    }
   ],
   "source": [
    "expected_rewards"
   ]
  },
  {
   "cell_type": "code",
   "execution_count": 318,
   "metadata": {},
   "outputs": [
    {
     "data": {
      "text/plain": [
       "1.5999999999657704"
      ]
     },
     "execution_count": 318,
     "metadata": {},
     "output_type": "execute_result"
    }
   ],
   "source": [
    "x = cp.Variable(N)\n",
    "\n",
    "objective = cp.Maximize(expected_rewards @ x )\n",
    "constraints = [0 <= x, x <= 1, cp.sum(x) == K, x @ reductions >= ts_cs_gain]\n",
    "prob = cp.Problem(objective, constraints,\n",
    "                 )\n",
    "prob.solve(solver='ECOS')"
   ]
  },
  {
   "cell_type": "code",
   "execution_count": null,
   "metadata": {},
   "outputs": [],
   "source": []
  },
  {
   "cell_type": "code",
   "execution_count": 321,
   "metadata": {},
   "outputs": [
    {
     "data": {
      "text/plain": [
       "array([6.60163947e-12, 1.55660819e-11, 1.11970893e-11, 1.00285826e-11,\n",
       "       6.89156019e-01, 6.91680541e-01, 1.25387555e-11, 8.57107638e-12,\n",
       "       6.19163440e-01, 1.40261979e-11])"
      ]
     },
     "execution_count": 321,
     "metadata": {},
     "output_type": "execute_result"
    }
   ],
   "source": [
    "x.value"
   ]
  },
  {
   "cell_type": "code",
   "execution_count": 323,
   "metadata": {},
   "outputs": [
    {
     "ename": "AxisError",
     "evalue": "axis 3 is out of bounds for array of dimension 1",
     "output_type": "error",
     "traceback": [
      "\u001b[0;31m---------------------------------------------------------------------------\u001b[0m",
      "\u001b[0;31mAxisError\u001b[0m                                 Traceback (most recent call last)",
      "\u001b[0;32m<ipython-input-323-87fb8970458b>\u001b[0m in \u001b[0;36m<module>\u001b[0;34m\u001b[0m\n\u001b[0;32m----> 1\u001b[0;31m \u001b[0mnp\u001b[0m\u001b[0;34m.\u001b[0m\u001b[0margmax\u001b[0m\u001b[0;34m(\u001b[0m\u001b[0mx\u001b[0m\u001b[0;34m.\u001b[0m\u001b[0mvalue\u001b[0m\u001b[0;34m,\u001b[0m \u001b[0;36m3\u001b[0m\u001b[0;34m)\u001b[0m\u001b[0;34m\u001b[0m\u001b[0;34m\u001b[0m\u001b[0m\n\u001b[0m",
      "\u001b[0;32m<__array_function__ internals>\u001b[0m in \u001b[0;36margmax\u001b[0;34m(*args, **kwargs)\u001b[0m\n",
      "\u001b[0;32m~/miniconda3/envs/rl/lib/python3.7/site-packages/numpy/core/fromnumeric.py\u001b[0m in \u001b[0;36margmax\u001b[0;34m(a, axis, out)\u001b[0m\n\u001b[1;32m   1184\u001b[0m \u001b[0;34m\u001b[0m\u001b[0m\n\u001b[1;32m   1185\u001b[0m     \"\"\"\n\u001b[0;32m-> 1186\u001b[0;31m     \u001b[0;32mreturn\u001b[0m \u001b[0m_wrapfunc\u001b[0m\u001b[0;34m(\u001b[0m\u001b[0ma\u001b[0m\u001b[0;34m,\u001b[0m \u001b[0;34m'argmax'\u001b[0m\u001b[0;34m,\u001b[0m \u001b[0maxis\u001b[0m\u001b[0;34m=\u001b[0m\u001b[0maxis\u001b[0m\u001b[0;34m,\u001b[0m \u001b[0mout\u001b[0m\u001b[0;34m=\u001b[0m\u001b[0mout\u001b[0m\u001b[0;34m)\u001b[0m\u001b[0;34m\u001b[0m\u001b[0;34m\u001b[0m\u001b[0m\n\u001b[0m\u001b[1;32m   1187\u001b[0m \u001b[0;34m\u001b[0m\u001b[0m\n\u001b[1;32m   1188\u001b[0m \u001b[0;34m\u001b[0m\u001b[0m\n",
      "\u001b[0;32m~/miniconda3/envs/rl/lib/python3.7/site-packages/numpy/core/fromnumeric.py\u001b[0m in \u001b[0;36m_wrapfunc\u001b[0;34m(obj, method, *args, **kwds)\u001b[0m\n\u001b[1;32m     59\u001b[0m \u001b[0;34m\u001b[0m\u001b[0m\n\u001b[1;32m     60\u001b[0m     \u001b[0;32mtry\u001b[0m\u001b[0;34m:\u001b[0m\u001b[0;34m\u001b[0m\u001b[0;34m\u001b[0m\u001b[0m\n\u001b[0;32m---> 61\u001b[0;31m         \u001b[0;32mreturn\u001b[0m \u001b[0mbound\u001b[0m\u001b[0;34m(\u001b[0m\u001b[0;34m*\u001b[0m\u001b[0margs\u001b[0m\u001b[0;34m,\u001b[0m \u001b[0;34m**\u001b[0m\u001b[0mkwds\u001b[0m\u001b[0;34m)\u001b[0m\u001b[0;34m\u001b[0m\u001b[0;34m\u001b[0m\u001b[0m\n\u001b[0m\u001b[1;32m     62\u001b[0m     \u001b[0;32mexcept\u001b[0m \u001b[0mTypeError\u001b[0m\u001b[0;34m:\u001b[0m\u001b[0;34m\u001b[0m\u001b[0;34m\u001b[0m\u001b[0m\n\u001b[1;32m     63\u001b[0m         \u001b[0;31m# A TypeError occurs if the object does have such a method in its\u001b[0m\u001b[0;34m\u001b[0m\u001b[0;34m\u001b[0m\u001b[0;34m\u001b[0m\u001b[0m\n",
      "\u001b[0;31mAxisError\u001b[0m: axis 3 is out of bounds for array of dimension 1"
     ]
    }
   ],
   "source": [
    "np.argmax(x.value, 3)"
   ]
  },
  {
   "cell_type": "code",
   "execution_count": 325,
   "metadata": {},
   "outputs": [
    {
     "data": {
      "text/plain": [
       "array([4, 5])"
      ]
     },
     "execution_count": 325,
     "metadata": {},
     "output_type": "execute_result"
    }
   ],
   "source": [
    "act_optimally(\n",
    "            np.squeeze(x.value), top_k=K\n",
    "        )"
   ]
  },
  {
   "cell_type": "code",
   "execution_count": null,
   "metadata": {},
   "outputs": [],
   "source": []
  }
 ],
 "metadata": {
  "kernelspec": {
   "display_name": "Python 3",
   "language": "python",
   "name": "python3"
  },
  "language_info": {
   "codemirror_mode": {
    "name": "ipython",
    "version": 3
   },
   "file_extension": ".py",
   "mimetype": "text/x-python",
   "name": "python",
   "nbconvert_exporter": "python",
   "pygments_lexer": "ipython3",
   "version": "3.7.6"
  }
 },
 "nbformat": 4,
 "nbformat_minor": 4
}

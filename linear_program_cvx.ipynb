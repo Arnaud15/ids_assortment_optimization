{
 "cells": [
  {
   "cell_type": "code",
   "execution_count": 203,
   "metadata": {},
   "outputs": [],
   "source": [
    "import cvxpy as cp\n",
    "import numpy as np"
   ]
  },
  {
   "cell_type": "code",
   "execution_count": 689,
   "metadata": {},
   "outputs": [],
   "source": [
    "from collections import defaultdict\n",
    "N = 25\n",
    "K = 3\n",
    "ALL_ITEMS = np.arange(N)\n",
    "def update(action, item_selected, posterior_parameters, epoch_picks):\n",
    "    if item_selected == N:\n",
    "        n_is = [\n",
    "            int(ix in action) for ix in range(N)\n",
    "        ]\n",
    "        v_is = [epoch_picks[i] for i in range(N)]\n",
    "        posterior_parameters = [\n",
    "            (a + n_is[ix], b + v_is[ix])\n",
    "            for ix, (a, b) in enumerate(posterior_parameters)\n",
    "        ]\n",
    "        epoch_picks = defaultdict(int)\n",
    "        epoch_ended = True\n",
    "    else:\n",
    "        epoch_picks[item_selected] += 1\n",
    "        epoch_ended = False\n",
    "    return posterior_parameters, epoch_picks, epoch_ended\n",
    "\n",
    "def propose():\n",
    "    return np.random.choice(\n",
    "        np.arange(N, dtype=int),\n",
    "        size=K,\n",
    "        replace=False,\n",
    "    )\n",
    "\n",
    "def step(action, preferences):\n",
    "    assert preferences[N] == 1.0\n",
    "    possible_items = np.concatenate(\n",
    "        [np.array([N], dtype=int), ALL_ITEMS[action]]\n",
    "    )  # \"no item\" can always happen\n",
    "    subset_preferences = preferences[possible_items]\n",
    "    sum_preferences = subset_preferences.sum()\n",
    "    probabilities = subset_preferences / sum_preferences\n",
    "    return np.random.choice(possible_items, size=1, p=probabilities)[0]\n",
    "\n",
    "def simulation(n_steps):\n",
    "    preferences = np.random.rand(N + 1)\n",
    "    preferences[-1] = 1.0\n",
    "    posterior_parameters = [(4, 2) for _ in range(N)]\n",
    "    epoch_picks = defaultdict(int)\n",
    "    epoch_ended = True\n",
    "    current_action = None\n",
    "    for _ in range(n_steps):\n",
    "        if epoch_ended:\n",
    "            current_action = propose()\n",
    "        item_picked = step(action=current_action,\n",
    "                           preferences=preferences)\n",
    "        posterior_parameters, epoch_picks, epoch_ended = update(action=current_action,\n",
    "                                                                item_selected=item_picked,\n",
    "                                                                posterior_parameters=posterior_parameters,\n",
    "                                                                epoch_picks=epoch_picks)\n",
    "    return preferences, posterior_parameters\n",
    "\n",
    "def params_to_gaussian(posterior):\n",
    "    gaussian_stds = np.array(\n",
    "        [\n",
    "            np.sqrt(b_ / a_ * ((b_ / a_) + 1) / a_)\n",
    "            for (a_, b_) in posterior\n",
    "        ],\n",
    "    )\n",
    "    gaussian_means = np.array(\n",
    "        [b_ / a_ for (a_, b_) in posterior],\n",
    "    )\n",
    "    return gaussian_means, gaussian_stds"
   ]
  },
  {
   "cell_type": "code",
   "execution_count": 690,
   "metadata": {},
   "outputs": [],
   "source": [
    "def sample_action(agent, posterior):\n",
    "    agent.posterior_parameters = posterior\n",
    "    return agent.proposal()"
   ]
  },
  {
   "cell_type": "code",
   "execution_count": 691,
   "metadata": {},
   "outputs": [],
   "source": [
    "import matplotlib.pyplot as plt\n",
    "from scipy.stats import norm, beta\n",
    "\n",
    "def plot_posterior(means, stds, indices=np.arange(N), ground_truth=None):\n",
    "    plt.figure(figsize=(len(indices), 5))\n",
    "    discretization_size = 50\n",
    "    x_vals = np.linspace(0., 1., num=discretization_size)\n",
    "    y_vals = []\n",
    "    for ix in range(len(indices)):\n",
    "        y_vals.append(norm.pdf(x_vals, loc=means[ix], scale=stds[ix])) \n",
    "    x_vals = np.concatenate([x_vals + ix for ix in range(len(indices))])\n",
    "    y_vals = np.concatenate(y_vals)\n",
    "    plt.plot(x_vals, y_vals)\n",
    "    if ground_truth is not None:\n",
    "        x_truths = [true_param + ix for ix, true_param in enumerate(ground_truth)]\n",
    "        plt.vlines(x=x_truths, ymin=0., ymax=y_vals.max(), color='red', linestyles='dashed')\n",
    "    plt.xticks(ticks=np.arange(len(indices)), labels=indices)\n",
    "    plt.grid()\n",
    "    plt.show()\n",
    "    plt.close()"
   ]
  },
  {
   "cell_type": "code",
   "execution_count": 692,
   "metadata": {},
   "outputs": [],
   "source": [
    "pref, posterior = simulation(20)\n",
    "means, stds = params_to_gaussian(posterior)"
   ]
  },
  {
   "cell_type": "code",
   "execution_count": 693,
   "metadata": {},
   "outputs": [
    {
     "data": {
      "text/plain": [
       "[(4, 2),\n",
       " (5, 3),\n",
       " (4, 2),\n",
       " (5, 3),\n",
       " (4, 2),\n",
       " (4, 2),\n",
       " (6, 2),\n",
       " (4, 2),\n",
       " (6, 8),\n",
       " (6, 2),\n",
       " (5, 2),\n",
       " (6, 2),\n",
       " (4, 2),\n",
       " (4, 2),\n",
       " (4, 2),\n",
       " (5, 2),\n",
       " (4, 2),\n",
       " (7, 6),\n",
       " (4, 2),\n",
       " (4, 2),\n",
       " (5, 2),\n",
       " (6, 3),\n",
       " (4, 2),\n",
       " (4, 2),\n",
       " (4, 2)]"
      ]
     },
     "execution_count": 693,
     "metadata": {},
     "output_type": "execute_result"
    }
   ],
   "source": [
    "posterior"
   ]
  },
  {
   "cell_type": "code",
   "execution_count": 694,
   "metadata": {},
   "outputs": [
    {
     "data": {
      "image/png": "[encoded data removed]",
      "text/plain": [
       "<Figure size 1800x360 with 1 Axes>"
      ]
     },
     "metadata": {
      "needs_background": "light"
     },
     "output_type": "display_data"
    }
   ],
   "source": [
    "plot_posterior(means, stds, ground_truth=pref)"
   ]
  },
  {
   "cell_type": "code",
   "execution_count": 695,
   "metadata": {},
   "outputs": [],
   "source": [
    "from math import pi\n",
    "from scipy.stats import geom"
   ]
  },
  {
   "cell_type": "code",
   "execution_count": 696,
   "metadata": {},
   "outputs": [],
   "source": [
    "n_samples = 100"
   ]
  },
  {
   "cell_type": "code",
   "execution_count": 697,
   "metadata": {},
   "outputs": [],
   "source": [
    "expected_rewards, stds = params_to_gaussian(posterior)"
   ]
  },
  {
   "cell_type": "code",
   "execution_count": 698,
   "metadata": {},
   "outputs": [
    {
     "data": {
      "text/plain": [
       "array([0.5       , 0.6       , 0.5       , 0.6       , 0.5       ,\n",
       "       0.5       , 0.33333333, 0.5       , 1.33333333, 0.33333333,\n",
       "       0.4       , 0.33333333, 0.5       , 0.5       , 0.5       ,\n",
       "       0.4       , 0.5       , 0.85714286, 0.5       , 0.5       ,\n",
       "       0.4       , 0.5       , 0.5       , 0.5       , 0.5       ])"
      ]
     },
     "execution_count": 698,
     "metadata": {},
     "output_type": "execute_result"
    }
   ],
   "source": [
    "expected_rewards"
   ]
  },
  {
   "cell_type": "code",
   "execution_count": 699,
   "metadata": {},
   "outputs": [
    {
     "data": {
      "text/plain": [
       "array([0.4330127 , 0.43817805, 0.4330127 , 0.43817805, 0.4330127 ,\n",
       "       0.4330127 , 0.27216553, 0.4330127 , 0.7200823 , 0.27216553,\n",
       "       0.33466401, 0.27216553, 0.4330127 , 0.4330127 , 0.4330127 ,\n",
       "       0.33466401, 0.4330127 , 0.47687026, 0.4330127 , 0.4330127 ,\n",
       "       0.33466401, 0.35355339, 0.4330127 , 0.4330127 , 0.4330127 ])"
      ]
     },
     "execution_count": 699,
     "metadata": {},
     "output_type": "execute_result"
    }
   ],
   "source": [
    "stds"
   ]
  },
  {
   "cell_type": "code",
   "execution_count": 700,
   "metadata": {},
   "outputs": [],
   "source": [
    "posterior;"
   ]
  },
  {
   "cell_type": "code",
   "execution_count": 701,
   "metadata": {},
   "outputs": [],
   "source": [
    "a_star_t = np.sort(expected_rewards)[-K]\n",
    "a_star_t\n",
    "\n",
    "a_s = np.array([x[0] for x in posterior]).reshape(-1, 1)\n",
    "b_s = np.array([x[1] for x in posterior]).reshape(-1, 1)\n",
    "\n",
    "ps = beta.cdf(1 / (a_star_t + 1), a=a_s, b=b_s)\n",
    "ps;"
   ]
  },
  {
   "cell_type": "code",
   "execution_count": 702,
   "metadata": {},
   "outputs": [],
   "source": [
    "# top_k = K\n",
    "# best_actions = np.sort(\n",
    "#         np.argpartition(np.transpose(posterior_samples), -top_k, axis=1)[:, -top_k:], axis=1\n",
    "#         )\n",
    "# top_actions_dist = np.zeros(posterior_samples.shape)\n",
    "# for sample_ix in range(n_samples):\n",
    "#     top_actions_dist[best_actions[sample_ix], sample_ix] = 1.0\n",
    "# ps = top_actions_dist.mean(1)\n",
    "entropies_start = - (ps * np.log(np.maximum(ps,1e-12)) + (1 - ps) * np.log(np.maximum(1 - ps, + 1e-12)))\n",
    "# posterior_samples[best_actions]"
   ]
  },
  {
   "cell_type": "code",
   "execution_count": 703,
   "metadata": {},
   "outputs": [
    {
     "data": {
      "text/plain": [
       "array([[0.38146973],\n",
       "       [0.47534704],\n",
       "       [0.38146973],\n",
       "       [0.47534704],\n",
       "       [0.38146973],\n",
       "       [0.38146973],\n",
       "       [0.1937151 ],\n",
       "       [0.38146973],\n",
       "       [0.93146787],\n",
       "       [0.1937151 ],\n",
       "       [0.27418137],\n",
       "       [0.1937151 ],\n",
       "       [0.38146973],\n",
       "       [0.38146973],\n",
       "       [0.38146973],\n",
       "       [0.27418137],\n",
       "       [0.38146973],\n",
       "       [0.72908051],\n",
       "       [0.38146973],\n",
       "       [0.38146973],\n",
       "       [0.27418137],\n",
       "       [0.36973506],\n",
       "       [0.38146973],\n",
       "       [0.38146973],\n",
       "       [0.38146973]])"
      ]
     },
     "execution_count": 703,
     "metadata": {},
     "output_type": "execute_result"
    }
   ],
   "source": [
    "# ps = top_actions_dist.mean(1)\n",
    "ps"
   ]
  },
  {
   "cell_type": "code",
   "execution_count": 704,
   "metadata": {},
   "outputs": [],
   "source": [
    "# entropies_start = - (ps * np.log(ps + 1e-12) + (1 - ps) * np.log(1 - ps + 1e-12))\n",
    "entropies_start;"
   ]
  },
  {
   "cell_type": "code",
   "execution_count": 705,
   "metadata": {},
   "outputs": [],
   "source": [
    "posterior_samples = 1 / beta.rvs(a=a_s, b=b_s) - 1\n",
    "observations_samples = geom.rvs(1 / (posterior_samples + 1))#, size=(posterior_samples.shape[0],\n",
    "#                                                                    posterior_samples.shape[1],\n",
    "#                                                                    n_samples)) - 1\n",
    "# entropies_start = 0.5 * np.log(2 * pi * np.exp(1) * stds ** 2)\n",
    "# new_as = [[(posterior[i][0] + 1, posterior[i][1] + observations_samples[i][j]) for j in range(n_samples)] for i in range(N)]\n",
    "# new_as = np.array([posterior[i][0] for i in range(N)]).reshape(-1, 1)\n",
    "new_as = np.ones(observations_samples.shape)\n",
    "new_bs = np.copy(observations_samples)\n",
    "for i in range(N):\n",
    "    new_bs[i] += posterior[i][1]\n",
    "    new_as[i] += posterior[i][0]\n",
    "# new_bs, new_as"
   ]
  },
  {
   "cell_type": "code",
   "execution_count": 706,
   "metadata": {},
   "outputs": [],
   "source": [
    "ps = beta.cdf(1 / (a_star_t + 1), a=new_as, b=new_bs)"
   ]
  },
  {
   "cell_type": "code",
   "execution_count": 707,
   "metadata": {},
   "outputs": [
    {
     "data": {
      "text/plain": [
       "array([[0.78338198],\n",
       "       [0.54575503],\n",
       "       [0.47534704],\n",
       "       [0.69427188],\n",
       "       [0.78338198],\n",
       "       [0.47534704],\n",
       "       [0.4467438 ],\n",
       "       [0.47534704],\n",
       "       [0.96256072],\n",
       "       [0.28172508],\n",
       "       [0.88223851],\n",
       "       [0.28172508],\n",
       "       [0.47534704],\n",
       "       [0.47534704],\n",
       "       [0.65136701],\n",
       "       [0.36973506],\n",
       "       [0.65136701],\n",
       "       [0.75813951],\n",
       "       [0.47534704],\n",
       "       [0.47534704],\n",
       "       [0.36973506],\n",
       "       [0.72908051],\n",
       "       [0.65136701],\n",
       "       [0.47534704],\n",
       "       [0.65136701]])"
      ]
     },
     "execution_count": 707,
     "metadata": {},
     "output_type": "execute_result"
    }
   ],
   "source": [
    "ps"
   ]
  },
  {
   "cell_type": "code",
   "execution_count": 708,
   "metadata": {},
   "outputs": [],
   "source": [
    "entropies_end =- (ps * np.log(np.maximum(ps,1e-12)) + (1 - ps) * np.log(np.maximum(1 - ps, + 1e-12)))"
   ]
  },
  {
   "cell_type": "code",
   "execution_count": 709,
   "metadata": {},
   "outputs": [
    {
     "data": {
      "text/plain": [
       "array([[0.66477905],\n",
       "       [0.69193115],\n",
       "       [0.66477905],\n",
       "       [0.69193115],\n",
       "       [0.66477905],\n",
       "       [0.66477905],\n",
       "       [0.49156527],\n",
       "       [0.66477905],\n",
       "       [0.24982538],\n",
       "       [0.49156527],\n",
       "       [0.58737351],\n",
       "       [0.49156527],\n",
       "       [0.66477905],\n",
       "       [0.66477905],\n",
       "       [0.66477905],\n",
       "       [0.58737351],\n",
       "       [0.66477905],\n",
       "       [0.58417124],\n",
       "       [0.66477905],\n",
       "       [0.66477905],\n",
       "       [0.58737351],\n",
       "       [0.65881453],\n",
       "       [0.66477905],\n",
       "       [0.66477905],\n",
       "       [0.66477905]])"
      ]
     },
     "execution_count": 709,
     "metadata": {},
     "output_type": "execute_result"
    }
   ],
   "source": [
    "entropies_start"
   ]
  },
  {
   "cell_type": "code",
   "execution_count": 710,
   "metadata": {},
   "outputs": [
    {
     "data": {
      "text/plain": [
       "array([[0.52259405],\n",
       "       [0.68895427],\n",
       "       [0.69193115],\n",
       "       [0.61563989],\n",
       "       [0.52259405],\n",
       "       [0.69193115],\n",
       "       [0.68746396],\n",
       "       [0.69193115],\n",
       "       [0.15971884],\n",
       "       [0.59457522],\n",
       "       [0.36244106],\n",
       "       [0.59457522],\n",
       "       [0.69193115],\n",
       "       [0.69193115],\n",
       "       [0.6465963 ],\n",
       "       [0.65881453],\n",
       "       [0.6465963 ],\n",
       "       [0.55321501],\n",
       "       [0.69193115],\n",
       "       [0.69193115],\n",
       "       [0.65881453],\n",
       "       [0.58417124],\n",
       "       [0.6465963 ],\n",
       "       [0.69193115],\n",
       "       [0.6465963 ]])"
      ]
     },
     "execution_count": 710,
     "metadata": {},
     "output_type": "execute_result"
    }
   ],
   "source": [
    "entropies_end"
   ]
  },
  {
   "cell_type": "code",
   "execution_count": 711,
   "metadata": {},
   "outputs": [
    {
     "data": {
      "text/plain": [
       "0.22493244917150873"
      ]
     },
     "execution_count": 711,
     "metadata": {},
     "output_type": "execute_result"
    }
   ],
   "source": [
    "(entropies_start - entropies_end).max()"
   ]
  },
  {
   "cell_type": "code",
   "execution_count": 712,
   "metadata": {},
   "outputs": [
    {
     "data": {
      "text/plain": [
       "array([[ 0.142185  ],\n",
       "       [ 0.00297688],\n",
       "       [-0.0271521 ],\n",
       "       [ 0.07629126],\n",
       "       [ 0.142185  ],\n",
       "       [-0.0271521 ],\n",
       "       [-0.19589869],\n",
       "       [-0.0271521 ],\n",
       "       [ 0.09010653],\n",
       "       [-0.10300994],\n",
       "       [ 0.22493245],\n",
       "       [-0.10300994],\n",
       "       [-0.0271521 ],\n",
       "       [-0.0271521 ],\n",
       "       [ 0.01818275],\n",
       "       [-0.07144101],\n",
       "       [ 0.01818275],\n",
       "       [ 0.03095623],\n",
       "       [-0.0271521 ],\n",
       "       [-0.0271521 ],\n",
       "       [-0.07144101],\n",
       "       [ 0.07464328],\n",
       "       [ 0.01818275],\n",
       "       [-0.0271521 ],\n",
       "       [ 0.01818275]])"
      ]
     },
     "execution_count": 712,
     "metadata": {},
     "output_type": "execute_result"
    }
   ],
   "source": [
    "# a_s = np.array([x[0] for x in posterior]).reshape(-1, 1)\n",
    "# b_s = np.array([x[1] for x in posterior]).reshape(-1, 1)\n",
    "\n",
    "# posterior_samples = 1 / beta.rvs(a=a_s, b=b_s, size=(a_s.shape[0], n_samples)) - 1\n",
    "\n",
    "# observations_samples = geom.rvs(1 / (posterior_samples + 1)) - 1\n",
    "\n",
    "# # new_as = np.ones((N, n_samples), dtype=int)\n",
    "\n",
    "# new_posteriors = [[(posterior[i][0] + 1, posterior[i][1] + observations_samples[i][j]) for j in range(n_samples)] for i in range(N)]\n",
    "\n",
    "\n",
    "# new_entropies = [\n",
    "#     [0.5 * np.log(2 * pi * np.exp(1) * std ** 2) for std in params_to_gaussian(new_posteriors[i])[1]]\n",
    "#     for i in range(N)\n",
    "# ]\n",
    "\n",
    "# new_entropies = np.array(new_entropies)\n",
    "\n",
    "# new_entropies = new_entropies.mean(1)\n",
    "\n",
    "reductions = (entropies_start - entropies_end)\n",
    "reductions"
   ]
  },
  {
   "cell_type": "code",
   "execution_count": 713,
   "metadata": {},
   "outputs": [
    {
     "data": {
      "text/plain": [
       "array([0.5       , 0.6       , 0.5       , 0.6       , 0.5       ,\n",
       "       0.5       , 0.33333333, 0.5       , 1.33333333, 0.33333333,\n",
       "       0.4       , 0.33333333, 0.5       , 0.5       , 0.5       ,\n",
       "       0.4       , 0.5       , 0.85714286, 0.5       , 0.5       ,\n",
       "       0.4       , 0.5       , 0.5       , 0.5       , 0.5       ])"
      ]
     },
     "execution_count": 713,
     "metadata": {},
     "output_type": "execute_result"
    }
   ],
   "source": [
    "expected_rewards"
   ]
  },
  {
   "cell_type": "code",
   "execution_count": 714,
   "metadata": {},
   "outputs": [
    {
     "name": "stdout",
     "output_type": "stream",
     "text": [
      "Agent believes first=best? False\n"
     ]
    }
   ],
   "source": [
    "from ts_agents import EpochSamplingTS\n",
    "ts_cs_agent = EpochSamplingTS(k=K, n=N, horizon=10000, sampling=1, limited_prefs=False)\n",
    "ts_cs_agent.posterior_parameters = posterior"
   ]
  },
  {
   "cell_type": "code",
   "execution_count": 715,
   "metadata": {},
   "outputs": [
    {
     "data": {
      "text/plain": [
       "array([ 1,  8, 17])"
      ]
     },
     "execution_count": 715,
     "metadata": {},
     "output_type": "execute_result"
    }
   ],
   "source": [
    "ts_cs_action = ts_cs_agent.proposal()\n",
    "ts_cs_action"
   ]
  },
  {
   "cell_type": "code",
   "execution_count": 716,
   "metadata": {},
   "outputs": [],
   "source": [
    "from ids_utils import info_gain_step, numba_expected_reward\n",
    "from env import act_optimally"
   ]
  },
  {
   "cell_type": "code",
   "execution_count": 717,
   "metadata": {},
   "outputs": [],
   "source": [
    "posterior_samples = np.transpose(posterior_samples)"
   ]
  },
  {
   "cell_type": "code",
   "execution_count": 718,
   "metadata": {},
   "outputs": [],
   "source": [
    "# sorted_beliefs = np.sort(posterior_samples, axis=1)[\n",
    "#     :, -K :\n",
    "# ]  # shape (m, k)\n",
    "# picking_probabilities = sorted_beliefs.sum(1)\n",
    "# r_star = picking_probabilities.mean()\n",
    "# a_greedy = act_optimally(\n",
    "#     posterior_samples.mean(0), K\n",
    "# )\n",
    "# greedy_expected_reward = numba_expected_reward(\n",
    "#     posterior_samples, a_greedy, mode=\"step\"\n",
    "# )\n",
    "# delta_min = r_star - greedy_expected_reward\n",
    "# assert delta_min > -1e-12\n",
    "# delta_min = max(1e-12, delta_min)\n",
    "\n",
    "# posteriors_actions = act_optimally(\n",
    "#     posterior_samples, K\n",
    "# )\n",
    "# posteriors_actions = [\n",
    "#     tuple(posteriors_actions[ix, :]) for ix in range(n_samples)\n",
    "# ]\n",
    "# optimal_actions_information = defaultdict(list)\n",
    "# for ix, action in enumerate(posteriors_actions):\n",
    "#     optimal_actions_information[action].append(ix)\n",
    "\n",
    "# optimal_actions = {\n",
    "#     action: (len(theta_idxs) / n_samples, theta_idxs)\n",
    "#     for action, theta_idxs in optimal_actions_information.items()\n",
    "# }\n",
    "# actions_star = np.array(\n",
    "#     [list(key) for key in optimal_actions_information.keys()]\n",
    "# )\n",
    "# counts_star = np.array(\n",
    "#     [len(val) for val in optimal_actions_information.values()]\n",
    "# )\n",
    "# thetas_star = []\n",
    "# for val in optimal_actions_information.values():\n",
    "#     thetas_star += val\n",
    "# thetas_star = np.array(thetas_star)\n",
    "# gain_ts_cs = info_gain_step(action=ts_cs_action,\n",
    "#                             sampled_preferences=posterior_samples,\n",
    "#                             actions_star=actions_star,\n",
    "#                             counts=counts_star,\n",
    "#                             thetas=thetas_star)"
   ]
  },
  {
   "cell_type": "code",
   "execution_count": 719,
   "metadata": {},
   "outputs": [],
   "source": [
    "ts_cs_gain = reductions[ts_cs_action].sum()"
   ]
  },
  {
   "cell_type": "code",
   "execution_count": 720,
   "metadata": {},
   "outputs": [
    {
     "data": {
      "text/plain": [
       "0.12403964464755876"
      ]
     },
     "execution_count": 720,
     "metadata": {},
     "output_type": "execute_result"
    }
   ],
   "source": [
    "ts_cs_gain"
   ]
  },
  {
   "cell_type": "code",
   "execution_count": 721,
   "metadata": {},
   "outputs": [
    {
     "data": {
      "text/plain": [
       "array([0.5       , 0.6       , 0.5       , 0.6       , 0.5       ,\n",
       "       0.5       , 0.33333333, 0.5       , 1.33333333, 0.33333333,\n",
       "       0.4       , 0.33333333, 0.5       , 0.5       , 0.5       ,\n",
       "       0.4       , 0.5       , 0.85714286, 0.5       , 0.5       ,\n",
       "       0.4       , 0.5       , 0.5       , 0.5       , 0.5       ])"
      ]
     },
     "execution_count": 721,
     "metadata": {},
     "output_type": "execute_result"
    }
   ],
   "source": [
    "expected_rewards"
   ]
  },
  {
   "cell_type": "code",
   "execution_count": 722,
   "metadata": {},
   "outputs": [
    {
     "data": {
      "text/plain": [
       "2.790476190396185"
      ]
     },
     "execution_count": 722,
     "metadata": {},
     "output_type": "execute_result"
    }
   ],
   "source": [
    "x = cp.Variable(N)\n",
    "\n",
    "objective = cp.Maximize(expected_rewards @ x )\n",
    "constraints = [0 <= x, x <= 1, cp.sum(x) == K, x @ reductions >= ts_cs_gain]\n",
    "prob = cp.Problem(objective, constraints,\n",
    "                 )\n",
    "prob.solve(solver='ECOS')"
   ]
  },
  {
   "cell_type": "code",
   "execution_count": 723,
   "metadata": {},
   "outputs": [
    {
     "data": {
      "text/plain": [
       "array([7.67715748e-11, 4.85194769e-01, 2.03528876e-11, 5.14805230e-01,\n",
       "       7.67715748e-11, 2.03528876e-11, 6.90304193e-12, 2.03528876e-11,\n",
       "       1.00000000e+00, 1.01496763e-11, 4.72642872e-11, 1.01496763e-11,\n",
       "       2.03528876e-11, 2.03528876e-11, 3.19545668e-11, 1.54044312e-11,\n",
       "       3.19545668e-11, 1.00000000e+00, 2.03528876e-11, 2.03528876e-11,\n",
       "       1.54044312e-11, 4.88529626e-11, 3.19545668e-11, 2.03528876e-11,\n",
       "       3.19545668e-11])"
      ]
     },
     "execution_count": 723,
     "metadata": {},
     "output_type": "execute_result"
    }
   ],
   "source": [
    "x.value"
   ]
  },
  {
   "cell_type": "code",
   "execution_count": 724,
   "metadata": {},
   "outputs": [
    {
     "data": {
      "text/plain": [
       "array([ 3,  8, 17])"
      ]
     },
     "execution_count": 724,
     "metadata": {},
     "output_type": "execute_result"
    }
   ],
   "source": [
    "act_optimally(\n",
    "            np.squeeze(x.value), top_k=K\n",
    "        )"
   ]
  },
  {
   "cell_type": "code",
   "execution_count": null,
   "metadata": {},
   "outputs": [],
   "source": []
  }
 ],
 "metadata": {
  "kernelspec": {
   "display_name": "Python 3",
   "language": "python",
   "name": "python3"
  },
  "language_info": {
   "codemirror_mode": {
    "name": "ipython",
    "version": 3
   },
   "file_extension": ".py",
   "mimetype": "text/x-python",
   "name": "python",
   "nbconvert_exporter": "python",
   "pygments_lexer": "ipython3",
   "version": "3.7.6"
  }
 },
 "nbformat": 4,
 "nbformat_minor": 4
}

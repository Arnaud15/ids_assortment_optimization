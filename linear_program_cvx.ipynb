{
 "cells": [
  {
   "cell_type": "code",
   "execution_count": 1,
   "metadata": {},
   "outputs": [],
   "source": [
    "import cvxpy as cp\n",
    "import numpy as np"
   ]
  },
  {
   "cell_type": "code",
   "execution_count": 4,
   "metadata": {},
   "outputs": [],
   "source": [
    "N = 10\n",
    "K = 2"
   ]
  },
  {
   "cell_type": "code",
   "execution_count": 5,
   "metadata": {},
   "outputs": [],
   "source": [
    "from collections import defaultdict\n",
    "ALL_ITEMS = np.arange(N)\n",
    "def update(action, item_selected, posterior_parameters, epoch_picks):\n",
    "    if item_selected == N:\n",
    "        n_is = [\n",
    "            int(ix in action) for ix in range(N)\n",
    "        ]\n",
    "        v_is = [epoch_picks[i] for i in range(N)]\n",
    "        posterior_parameters = [\n",
    "            (a + n_is[ix], b + v_is[ix])\n",
    "            for ix, (a, b) in enumerate(posterior_parameters)\n",
    "        ]\n",
    "        epoch_picks = defaultdict(int)\n",
    "        epoch_ended = True\n",
    "    else:\n",
    "        epoch_picks[item_selected] += 1\n",
    "        epoch_ended = False\n",
    "    return posterior_parameters, epoch_picks, epoch_ended\n",
    "\n",
    "def propose():\n",
    "    return np.random.choice(\n",
    "        np.arange(N, dtype=int),\n",
    "        size=K,\n",
    "        replace=False,\n",
    "    )\n",
    "\n",
    "def step(action, preferences):\n",
    "    assert preferences[N] == 1.0\n",
    "    possible_items = np.concatenate(\n",
    "        [np.array([N], dtype=int), ALL_ITEMS[action]]\n",
    "    )  # \"no item\" can always happen\n",
    "    subset_preferences = preferences[possible_items]\n",
    "    sum_preferences = subset_preferences.sum()\n",
    "    probabilities = subset_preferences / sum_preferences\n",
    "    return np.random.choice(possible_items, size=1, p=probabilities)[0]\n",
    "\n",
    "def simulation(n_steps):\n",
    "    preferences = np.random.rand(N + 1)\n",
    "    preferences[-1] = 1.0\n",
    "    posterior_parameters = [(4, 2) for _ in range(N)]\n",
    "    epoch_picks = defaultdict(int)\n",
    "    epoch_ended = True\n",
    "    current_action = None\n",
    "    for _ in range(n_steps):\n",
    "        if epoch_ended:\n",
    "            current_action = propose()\n",
    "        item_picked = step(action=current_action,\n",
    "                           preferences=preferences)\n",
    "        posterior_parameters, epoch_picks, epoch_ended = update(action=current_action,\n",
    "                                                                item_selected=item_picked,\n",
    "                                                                posterior_parameters=posterior_parameters,\n",
    "                                                                epoch_picks=epoch_picks)\n",
    "    return preferences, posterior_parameters\n",
    "\n",
    "def params_to_gaussian(posterior):\n",
    "    gaussian_stds = np.array(\n",
    "        [\n",
    "            np.sqrt(b_ / a_ * ((b_ / a_) + 1) / a_)\n",
    "            for (a_, b_) in posterior\n",
    "        ],\n",
    "    )\n",
    "    gaussian_means = np.array(\n",
    "        [b_ / a_ for (a_, b_) in posterior],\n",
    "    )\n",
    "    return gaussian_means, gaussian_stds"
   ]
  },
  {
   "cell_type": "code",
   "execution_count": 6,
   "metadata": {},
   "outputs": [],
   "source": [
    "def sample_action(agent, posterior):\n",
    "    agent.posterior_parameters = posterior\n",
    "    return agent.proposal()"
   ]
  },
  {
   "cell_type": "code",
   "execution_count": 7,
   "metadata": {},
   "outputs": [],
   "source": [
    "import matplotlib.pyplot as plt\n",
    "from scipy.stats import norm, beta\n",
    "\n",
    "def plot_posterior(means, stds, indices=np.arange(N), ground_truth=None):\n",
    "    plt.figure(figsize=(len(indices), 5))\n",
    "    discretization_size = 50\n",
    "    x_vals = np.linspace(0., 1., num=discretization_size)\n",
    "    y_vals = []\n",
    "    for ix in range(len(indices)):\n",
    "        y_vals.append(norm.pdf(x_vals, loc=means[ix], scale=stds[ix])) \n",
    "    x_vals = np.concatenate([x_vals + ix for ix in range(len(indices))])\n",
    "    y_vals = np.concatenate(y_vals)\n",
    "    plt.plot(x_vals, y_vals)\n",
    "    if ground_truth is not None:\n",
    "        x_truths = [true_param + ix for ix, true_param in enumerate(ground_truth)]\n",
    "        plt.vlines(x=x_truths, ymin=0., ymax=y_vals.max(), color='red', linestyles='dashed')\n",
    "    plt.xticks(ticks=np.arange(len(indices)), labels=indices)\n",
    "    plt.grid()\n",
    "    plt.show()\n",
    "    plt.close()"
   ]
  },
  {
   "cell_type": "code",
   "execution_count": null,
   "metadata": {},
   "outputs": [],
   "source": []
  },
  {
   "cell_type": "code",
   "execution_count": 8,
   "metadata": {},
   "outputs": [],
   "source": [
    "pref, posterior = simulation(50)"
   ]
  },
  {
   "cell_type": "code",
   "execution_count": 9,
   "metadata": {},
   "outputs": [
    {
     "data": {
      "text/plain": [
       "array([0.33959634, 0.86296695, 0.91287388, 0.39161146, 0.39075559,\n",
       "       0.70858509, 0.10794141, 0.29643554, 0.45685289, 0.07863612,\n",
       "       1.        ])"
      ]
     },
     "execution_count": 9,
     "metadata": {},
     "output_type": "execute_result"
    }
   ],
   "source": [
    "pref"
   ]
  },
  {
   "cell_type": "code",
   "execution_count": 10,
   "metadata": {},
   "outputs": [],
   "source": [
    "# posterior = [\n",
    "#     (10, 8),\n",
    "#     (10, 7),\n",
    "#     (10, 5),\n",
    "#     (1, 1),\n",
    "#     (2, 1),\n",
    "# ]"
   ]
  },
  {
   "cell_type": "code",
   "execution_count": 11,
   "metadata": {},
   "outputs": [
    {
     "data": {
      "text/plain": [
       "(array([0.9       , 0.5       , 0.77777778, 0.22222222, 0.33333333,\n",
       "        0.3       , 0.25      , 0.33333333, 0.66666667, 0.3       ]),\n",
       " array([0.41352146, 0.30618622, 0.39196316, 0.1737191 , 0.22222222,\n",
       "        0.19748418, 0.19764235, 0.19245009, 0.35136418, 0.19748418]))"
      ]
     },
     "execution_count": 11,
     "metadata": {},
     "output_type": "execute_result"
    }
   ],
   "source": [
    "means, stds = params_to_gaussian(posterior)\n",
    "means, stds"
   ]
  },
  {
   "cell_type": "code",
   "execution_count": 12,
   "metadata": {},
   "outputs": [],
   "source": [
    "# pref = means"
   ]
  },
  {
   "cell_type": "code",
   "execution_count": 13,
   "metadata": {},
   "outputs": [
    {
     "data": {
      "text/plain": [
       "[(10, 9),\n",
       " (8, 4),\n",
       " (9, 7),\n",
       " (9, 2),\n",
       " (9, 3),\n",
       " (10, 3),\n",
       " (8, 2),\n",
       " (12, 4),\n",
       " (9, 6),\n",
       " (10, 3)]"
      ]
     },
     "execution_count": 13,
     "metadata": {},
     "output_type": "execute_result"
    }
   ],
   "source": [
    "posterior"
   ]
  },
  {
   "cell_type": "code",
   "execution_count": 14,
   "metadata": {},
   "outputs": [
    {
     "data": {
      "image/png": "[encoded data removed]",
      "text/plain": [
       "<Figure size 720x360 with 1 Axes>"
      ]
     },
     "metadata": {
      "needs_background": "light"
     },
     "output_type": "display_data"
    }
   ],
   "source": [
    "plot_posterior(means, stds, ground_truth=pref)"
   ]
  },
  {
   "cell_type": "code",
   "execution_count": 15,
   "metadata": {},
   "outputs": [],
   "source": [
    "from math import pi\n",
    "from scipy.stats import geom"
   ]
  },
  {
   "cell_type": "code",
   "execution_count": 16,
   "metadata": {},
   "outputs": [],
   "source": [
    "# n_samples = 100"
   ]
  },
  {
   "cell_type": "code",
   "execution_count": 17,
   "metadata": {},
   "outputs": [],
   "source": [
    "expected_rewards, stds = params_to_gaussian(posterior)"
   ]
  },
  {
   "cell_type": "code",
   "execution_count": 18,
   "metadata": {},
   "outputs": [
    {
     "data": {
      "text/plain": [
       "array([0.9       , 0.5       , 0.77777778, 0.22222222, 0.33333333,\n",
       "       0.3       , 0.25      , 0.33333333, 0.66666667, 0.3       ])"
      ]
     },
     "execution_count": 18,
     "metadata": {},
     "output_type": "execute_result"
    }
   ],
   "source": [
    "expected_rewards"
   ]
  },
  {
   "cell_type": "code",
   "execution_count": 19,
   "metadata": {},
   "outputs": [
    {
     "data": {
      "text/plain": [
       "array([0.41352146, 0.30618622, 0.39196316, 0.1737191 , 0.22222222,\n",
       "       0.19748418, 0.19764235, 0.19245009, 0.35136418, 0.19748418])"
      ]
     },
     "execution_count": 19,
     "metadata": {},
     "output_type": "execute_result"
    }
   ],
   "source": [
    "stds"
   ]
  },
  {
   "cell_type": "code",
   "execution_count": 23,
   "metadata": {},
   "outputs": [],
   "source": [
    "a_star_t = np.sort(expected_rewards)[-K]"
   ]
  },
  {
   "cell_type": "code",
   "execution_count": 24,
   "metadata": {},
   "outputs": [],
   "source": [
    "a_s = np.array([x[0] for x in posterior])\n",
    "b_s = np.array([x[1] for x in posterior])\n",
    "ps = beta.cdf(1 / (a_star_t + 1), a=a_s, b=b_s)\n",
    "# ps"
   ]
  },
  {
   "cell_type": "code",
   "execution_count": 26,
   "metadata": {},
   "outputs": [
    {
     "data": {
      "text/plain": [
       "array([0.61975905, 0.21487897, 0.49155075, 0.02783619, 0.07639538,\n",
       "       0.0504297 , 0.04510168, 0.05183633, 0.37283006, 0.0504297 ])"
      ]
     },
     "execution_count": 26,
     "metadata": {},
     "output_type": "execute_result"
    }
   ],
   "source": [
    "ps"
   ]
  },
  {
   "cell_type": "code",
   "execution_count": 27,
   "metadata": {},
   "outputs": [],
   "source": [
    "# top_k = K\n",
    "# best_actions = np.sort(\n",
    "#         np.argpartition(np.transpose(posterior_samples), -top_k, axis=1)[:, -top_k:], axis=1\n",
    "#         )\n",
    "# top_actions_dist = np.zeros(posterior_samples.shape)\n",
    "# for sample_ix in range(n_samples):\n",
    "#     top_actions_dist[best_actions[sample_ix], sample_ix] = 1.0\n",
    "# ps = top_actions_dist.mean(1)\n",
    "entropies_start = - (ps * np.log(np.maximum(ps,1e-12)) + (1 - ps) * np.log(np.maximum(1 - ps, + 1e-12)))\n",
    "# posterior_samples[best_actions]"
   ]
  },
  {
   "cell_type": "code",
   "execution_count": 28,
   "metadata": {},
   "outputs": [
    {
     "data": {
      "text/plain": [
       "array([0.66418196, 0.5203496 , 0.69300439, 0.12713817, 0.26987612,\n",
       "       0.19977854, 0.18383166, 0.20388711, 0.66044472, 0.19977854])"
      ]
     },
     "execution_count": 28,
     "metadata": {},
     "output_type": "execute_result"
    }
   ],
   "source": [
    "entropies_start"
   ]
  },
  {
   "cell_type": "code",
   "execution_count": 29,
   "metadata": {},
   "outputs": [],
   "source": [
    "posterior_samples = 1 / beta.rvs(a=a_s, b=b_s) - 1\n",
    "observations_samples = geom.rvs(1 / (posterior_samples + 1))#, size=(posterior_samples.shape[0],\n",
    "#                                                                    posterior_samples.shape[1],\n",
    "#                                                                    n_samples)) - 1\n",
    "# entropies_start = 0.5 * np.log(2 * pi * np.exp(1) * stds ** 2)\n",
    "# new_as = [[(posterior[i][0] + 1, posterior[i][1] + observations_samples[i][j]) for j in range(n_samples)] for i in range(N)]\n",
    "# new_as = np.array([posterior[i][0] for i in range(N)]).reshape(-1, 1)\n",
    "new_as = np.ones(observations_samples.shape)\n",
    "new_bs = np.copy(observations_samples)\n",
    "for i in range(N):\n",
    "    new_bs[i] += posterior[i][1]\n",
    "    new_as[i] += posterior[i][0]\n",
    "# new_bs, new_as"
   ]
  },
  {
   "cell_type": "code",
   "execution_count": 30,
   "metadata": {},
   "outputs": [],
   "source": [
    "ps = beta.cdf(1 / (a_star_t + 1), a=new_as, b=new_bs)"
   ]
  },
  {
   "cell_type": "code",
   "execution_count": 31,
   "metadata": {},
   "outputs": [
    {
     "data": {
      "text/plain": [
       "array([0.63503776, 0.25653224, 0.51628423, 0.0504297 , 0.10885247,\n",
       "       0.07562452, 0.07639538, 0.07274392, 0.40498358, 0.32707313])"
      ]
     },
     "execution_count": 31,
     "metadata": {},
     "output_type": "execute_result"
    }
   ],
   "source": [
    "ps"
   ]
  },
  {
   "cell_type": "code",
   "execution_count": 32,
   "metadata": {},
   "outputs": [],
   "source": [
    "entropies_end =- (ps * np.log(np.maximum(ps,1e-12)) + (1 - ps) * np.log(np.maximum(1 - ps, + 1e-12)))"
   ]
  },
  {
   "cell_type": "code",
   "execution_count": 33,
   "metadata": {},
   "outputs": [
    {
     "data": {
      "text/plain": [
       "array([0.66418196, 0.5203496 , 0.69300439, 0.12713817, 0.26987612,\n",
       "       0.19977854, 0.18383166, 0.20388711, 0.66044472, 0.19977854])"
      ]
     },
     "execution_count": 33,
     "metadata": {},
     "output_type": "execute_result"
    }
   ],
   "source": [
    "entropies_start"
   ]
  },
  {
   "cell_type": "code",
   "execution_count": 34,
   "metadata": {},
   "outputs": [
    {
     "data": {
      "text/plain": [
       "array([0.65621996, 0.56939841, 0.69261673, 0.19977854, 0.3441094 ,\n",
       "       0.26795065, 0.26987612, 0.26067947, 0.67498066, 0.63208647])"
      ]
     },
     "execution_count": 34,
     "metadata": {},
     "output_type": "execute_result"
    }
   ],
   "source": [
    "entropies_end"
   ]
  },
  {
   "cell_type": "code",
   "execution_count": 35,
   "metadata": {},
   "outputs": [
    {
     "data": {
      "text/plain": [
       "array([ 7.96199803e-03, -4.90488042e-02,  3.87659726e-04, -7.26403663e-02,\n",
       "       -7.42332793e-02, -6.81721086e-02, -8.60444650e-02, -5.67923585e-02,\n",
       "       -1.45359394e-02, -4.32307929e-01])"
      ]
     },
     "execution_count": 35,
     "metadata": {},
     "output_type": "execute_result"
    }
   ],
   "source": [
    "(entropies_start - entropies_end)"
   ]
  },
  {
   "cell_type": "code",
   "execution_count": 36,
   "metadata": {},
   "outputs": [
    {
     "data": {
      "text/plain": [
       "array([ 7.96199803e-03, -4.90488042e-02,  3.87659726e-04, -7.26403663e-02,\n",
       "       -7.42332793e-02, -6.81721086e-02, -8.60444650e-02, -5.67923585e-02,\n",
       "       -1.45359394e-02, -4.32307929e-01])"
      ]
     },
     "execution_count": 36,
     "metadata": {},
     "output_type": "execute_result"
    }
   ],
   "source": [
    "# a_s = np.array([x[0] for x in posterior]).reshape(-1, 1)\n",
    "# b_s = np.array([x[1] for x in posterior]).reshape(-1, 1)\n",
    "\n",
    "# posterior_samples = 1 / beta.rvs(a=a_s, b=b_s, size=(a_s.shape[0], n_samples)) - 1\n",
    "\n",
    "# observations_samples = geom.rvs(1 / (posterior_samples + 1)) - 1\n",
    "\n",
    "# # new_as = np.ones((N, n_samples), dtype=int)\n",
    "\n",
    "# new_posteriors = [[(posterior[i][0] + 1, posterior[i][1] + observations_samples[i][j]) for j in range(n_samples)] for i in range(N)]\n",
    "\n",
    "\n",
    "# new_entropies = [\n",
    "#     [0.5 * np.log(2 * pi * np.exp(1) * std ** 2) for std in params_to_gaussian(new_posteriors[i])[1]]\n",
    "#     for i in range(N)\n",
    "# ]\n",
    "\n",
    "# new_entropies = np.array(new_entropies)\n",
    "\n",
    "# new_entropies = new_entropies.mean(1)\n",
    "\n",
    "reductions = (entropies_start - entropies_end)\n",
    "reductions"
   ]
  },
  {
   "cell_type": "code",
   "execution_count": 39,
   "metadata": {},
   "outputs": [
    {
     "name": "stdout",
     "output_type": "stream",
     "text": [
      "Agent believes first=best? False\n"
     ]
    }
   ],
   "source": [
    "from ts_agents import EpochSamplingTS\n",
    "ts_cs_agent = EpochSamplingTS(k=K, n=N, horizon=10000, sampling=1, limited_prefs=False)\n",
    "ts_cs_agent.posterior_parameters = [a_s, b_s]"
   ]
  },
  {
   "cell_type": "code",
   "execution_count": 40,
   "metadata": {},
   "outputs": [
    {
     "data": {
      "text/plain": [
       "array([0, 2])"
      ]
     },
     "execution_count": 40,
     "metadata": {},
     "output_type": "execute_result"
    }
   ],
   "source": [
    "ts_cs_action = ts_cs_agent.proposal()\n",
    "ts_cs_action"
   ]
  },
  {
   "cell_type": "code",
   "execution_count": 41,
   "metadata": {},
   "outputs": [],
   "source": [
    "from ids_utils import info_gain_step, numba_expected_reward\n",
    "from env import act_optimally"
   ]
  },
  {
   "cell_type": "code",
   "execution_count": 42,
   "metadata": {},
   "outputs": [],
   "source": [
    "posterior_samples = np.transpose(posterior_samples)"
   ]
  },
  {
   "cell_type": "code",
   "execution_count": 43,
   "metadata": {},
   "outputs": [],
   "source": [
    "# sorted_beliefs = np.sort(posterior_samples, axis=1)[\n",
    "#     :, -K :\n",
    "# ]  # shape (m, k)\n",
    "# picking_probabilities = sorted_beliefs.sum(1)\n",
    "# r_star = picking_probabilities.mean()\n",
    "# a_greedy = act_optimally(\n",
    "#     posterior_samples.mean(0), K\n",
    "# )\n",
    "# greedy_expected_reward = numba_expected_reward(\n",
    "#     posterior_samples, a_greedy, mode=\"step\"\n",
    "# )\n",
    "# delta_min = r_star - greedy_expected_reward\n",
    "# assert delta_min > -1e-12\n",
    "# delta_min = max(1e-12, delta_min)\n",
    "\n",
    "# posteriors_actions = act_optimally(\n",
    "#     posterior_samples, K\n",
    "# )\n",
    "# posteriors_actions = [\n",
    "#     tuple(posteriors_actions[ix, :]) for ix in range(n_samples)\n",
    "# ]\n",
    "# optimal_actions_information = defaultdict(list)\n",
    "# for ix, action in enumerate(posteriors_actions):\n",
    "#     optimal_actions_information[action].append(ix)\n",
    "\n",
    "# optimal_actions = {\n",
    "#     action: (len(theta_idxs) / n_samples, theta_idxs)\n",
    "#     for action, theta_idxs in optimal_actions_information.items()\n",
    "# }\n",
    "# actions_star = np.array(\n",
    "#     [list(key) for key in optimal_actions_information.keys()]\n",
    "# )\n",
    "# counts_star = np.array(\n",
    "#     [len(val) for val in optimal_actions_information.values()]\n",
    "# )\n",
    "# thetas_star = []\n",
    "# for val in optimal_actions_information.values():\n",
    "#     thetas_star += val\n",
    "# thetas_star = np.array(thetas_star)\n",
    "# gain_ts_cs = info_gain_step(action=ts_cs_action,\n",
    "#                             sampled_preferences=posterior_samples,\n",
    "#                             actions_star=actions_star,\n",
    "#                             counts=counts_star,\n",
    "#                             thetas=thetas_star)"
   ]
  },
  {
   "cell_type": "code",
   "execution_count": 44,
   "metadata": {},
   "outputs": [],
   "source": [
    "ts_cs_gain = reductions[ts_cs_action].sum()"
   ]
  },
  {
   "cell_type": "code",
   "execution_count": 45,
   "metadata": {},
   "outputs": [
    {
     "data": {
      "text/plain": [
       "0.00834965775887786"
      ]
     },
     "execution_count": 45,
     "metadata": {},
     "output_type": "execute_result"
    }
   ],
   "source": [
    "ts_cs_gain"
   ]
  },
  {
   "cell_type": "code",
   "execution_count": null,
   "metadata": {},
   "outputs": [],
   "source": []
  },
  {
   "cell_type": "code",
   "execution_count": 46,
   "metadata": {},
   "outputs": [
    {
     "data": {
      "text/plain": [
       "array([ 7.96199803e-03, -4.90488042e-02,  3.87659726e-04, -7.26403663e-02,\n",
       "       -7.42332793e-02, -6.81721086e-02, -8.60444650e-02, -5.67923585e-02,\n",
       "       -1.45359394e-02, -4.32307929e-01])"
      ]
     },
     "execution_count": 46,
     "metadata": {},
     "output_type": "execute_result"
    }
   ],
   "source": [
    "reductions"
   ]
  },
  {
   "cell_type": "code",
   "execution_count": 122,
   "metadata": {},
   "outputs": [],
   "source": [
    "reductions = np.maximum(reductions, 1e-8)"
   ]
  },
  {
   "cell_type": "code",
   "execution_count": 123,
   "metadata": {},
   "outputs": [],
   "source": [
    "x = cp.Variable(N, pos=True)\n",
    "rewards = cp.Parameter(N, pos=True)\n",
    "gains = cp.Parameter(N, pos=True)\n",
    "exp_regret = K - x @ expected_rewards\n",
    "exp_gain = x @ gains\n",
    "information_ratio = cp.quad_over_lin(exp_regret, exp_gain)"
   ]
  },
  {
   "cell_type": "code",
   "execution_count": 124,
   "metadata": {},
   "outputs": [
    {
     "data": {
      "text/plain": [
       "Minimize(Expression(CONVEX, NONNEGATIVE, ()))"
      ]
     },
     "execution_count": 124,
     "metadata": {},
     "output_type": "execute_result"
    }
   ],
   "source": [
    "# objective = cp.Maximize(expected_rewards @ x )\n",
    "objective = cp.Minimize(information_ratio)\n",
    "objective"
   ]
  },
  {
   "cell_type": "code",
   "execution_count": 126,
   "metadata": {},
   "outputs": [
    {
     "data": {
      "text/plain": [
       "12.434899239231477"
      ]
     },
     "execution_count": 126,
     "metadata": {},
     "output_type": "execute_result"
    }
   ],
   "source": [
    "# constraints = [0 <= x, x <= 1, cp.sum(x) == K, x @ reductions >= ts_cs_gain]\n",
    "constraints = [0 <= x, x <= 1, cp.sum(x) == K]\n",
    "prob = cp.Problem(objective, constraints,)\n",
    "rewards.value = expected_rewards\n",
    "gains.value = reductions\n",
    "prob.solve(solver='ECOS')"
   ]
  },
  {
   "cell_type": "code",
   "execution_count": 127,
   "metadata": {},
   "outputs": [
    {
     "data": {
      "text/plain": [
       "array([9.99999998e-01, 4.46870899e-09, 9.99999972e-01, 1.66738819e-09,\n",
       "       2.37480608e-09, 2.12972859e-09, 1.81776912e-09, 2.37480608e-09,\n",
       "       1.35699302e-08, 2.12972859e-09])"
      ]
     },
     "execution_count": 127,
     "metadata": {},
     "output_type": "execute_result"
    }
   ],
   "source": [
    "x.value"
   ]
  },
  {
   "cell_type": "code",
   "execution_count": 128,
   "metadata": {},
   "outputs": [
    {
     "data": {
      "text/plain": [
       "array([0, 2])"
      ]
     },
     "execution_count": 128,
     "metadata": {},
     "output_type": "execute_result"
    }
   ],
   "source": [
    "act_optimally(\n",
    "            np.squeeze(x.value), top_k=K\n",
    "        )"
   ]
  },
  {
   "cell_type": "code",
   "execution_count": 137,
   "metadata": {},
   "outputs": [],
   "source": [
    "m = 5\n",
    "n = 3\n",
    "k = 1\n",
    "synthetic_posterior = np.random.rand(m, n)"
   ]
  },
  {
   "cell_type": "code",
   "execution_count": 138,
   "metadata": {},
   "outputs": [
    {
     "data": {
      "text/plain": [
       "array([[0.19994982, 0.68826494, 0.54119434],\n",
       "       [0.23787169, 0.84203066, 0.40131969],\n",
       "       [0.58004044, 0.21640473, 0.66322928],\n",
       "       [0.17273202, 0.87153385, 0.42794767],\n",
       "       [0.61700561, 0.20645943, 0.61093912]])"
      ]
     },
     "execution_count": 138,
     "metadata": {},
     "output_type": "execute_result"
    }
   ],
   "source": [
    "synthetic_posterior\n"
   ]
  },
  {
   "cell_type": "code",
   "execution_count": 141,
   "metadata": {},
   "outputs": [
    {
     "data": {
      "text/plain": [
       "array([[0.19994982, 0.54119434, 0.68826494],\n",
       "       [0.23787169, 0.40131969, 0.84203066],\n",
       "       [0.21640473, 0.58004044, 0.66322928],\n",
       "       [0.17273202, 0.42794767, 0.87153385],\n",
       "       [0.20645943, 0.61093912, 0.61700561]])"
      ]
     },
     "execution_count": 141,
     "metadata": {},
     "output_type": "execute_result"
    }
   ],
   "source": [
    "np.sort(synthetic_posterior, axis=1)"
   ]
  },
  {
   "cell_type": "code",
   "execution_count": 146,
   "metadata": {},
   "outputs": [],
   "source": [
    "thresholds = np.sort(synthetic_posterior, axis=1)[:, -k].reshape(-1, 1)"
   ]
  },
  {
   "cell_type": "code",
   "execution_count": 147,
   "metadata": {},
   "outputs": [
    {
     "data": {
      "text/plain": [
       "array([[0.68826494],\n",
       "       [0.84203066],\n",
       "       [0.66322928],\n",
       "       [0.87153385],\n",
       "       [0.61700561]])"
      ]
     },
     "execution_count": 147,
     "metadata": {},
     "output_type": "execute_result"
    }
   ],
   "source": [
    "thresholds"
   ]
  },
  {
   "cell_type": "code",
   "execution_count": 149,
   "metadata": {},
   "outputs": [],
   "source": [
    "mask = synthetic_posterior >= thresholds"
   ]
  },
  {
   "cell_type": "code",
   "execution_count": 153,
   "metadata": {},
   "outputs": [
    {
     "data": {
      "text/plain": [
       "array([[0.        , 0.68826494, 0.        ],\n",
       "       [0.        , 0.84203066, 0.        ],\n",
       "       [0.        , 0.        , 0.66322928],\n",
       "       [0.        , 0.87153385, 0.        ],\n",
       "       [0.61700561, 0.        , 0.        ]])"
      ]
     },
     "execution_count": 153,
     "metadata": {},
     "output_type": "execute_result"
    }
   ],
   "source": [
    "synthetic_posterior * mask"
   ]
  },
  {
   "cell_type": "code",
   "execution_count": 152,
   "metadata": {},
   "outputs": [
    {
     "data": {
      "text/plain": [
       "array([0.61700561, 0.80060982, 0.66322928])"
      ]
     },
     "execution_count": 152,
     "metadata": {},
     "output_type": "execute_result"
    }
   ],
   "source": [
    "(synthetic_posterior * mask).sum(0) / (mask.sum(0))"
   ]
  },
  {
   "cell_type": "code",
   "execution_count": 154,
   "metadata": {},
   "outputs": [
    {
     "data": {
      "text/plain": [
       "array([0.36151992, 0.56493872, 0.52892602])"
      ]
     },
     "execution_count": 154,
     "metadata": {},
     "output_type": "execute_result"
    }
   ],
   "source": [
    "expectations = synthetic_posterior.mean(0)\n",
    "expectations"
   ]
  },
  {
   "cell_type": "code",
   "execution_count": 158,
   "metadata": {},
   "outputs": [
    {
     "data": {
      "text/plain": [
       "array([0.61700561, 0.80060982, 0.66322928])"
      ]
     },
     "execution_count": 158,
     "metadata": {},
     "output_type": "execute_result"
    }
   ],
   "source": [
    "if_star = (synthetic_posterior * mask).sum(0) / mask.sum(0)\n",
    "if_star"
   ]
  },
  {
   "cell_type": "code",
   "execution_count": 161,
   "metadata": {},
   "outputs": [
    {
     "data": {
      "text/plain": [
       "array([0.2, 0.6, 0.2])"
      ]
     },
     "execution_count": 161,
     "metadata": {},
     "output_type": "execute_result"
    }
   ],
   "source": [
    "p_star = mask.sum(0) / mask.shape[0]\n",
    "p_star"
   ]
  },
  {
   "cell_type": "code",
   "execution_count": 163,
   "metadata": {},
   "outputs": [
    {
     "data": {
      "text/plain": [
       "array([0.29764849, 0.21143208, 0.49535021])"
      ]
     },
     "execution_count": 163,
     "metadata": {},
     "output_type": "execute_result"
    }
   ],
   "source": [
    "else_star = (synthetic_posterior * (1 - mask)).sum(0) / (1 - mask).sum(0)\n",
    "else_star"
   ]
  },
  {
   "cell_type": "code",
   "execution_count": 164,
   "metadata": {},
   "outputs": [
    {
     "data": {
      "text/plain": [
       "array([0.01631824, 0.0833113 , 0.00450934])"
      ]
     },
     "execution_count": 164,
     "metadata": {},
     "output_type": "execute_result"
    }
   ],
   "source": [
    "p_star * (if_star - expectations) ** 2 + (1 - p_star) * (else_star - expectations) ** 2"
   ]
  },
  {
   "cell_type": "code",
   "execution_count": 165,
   "metadata": {},
   "outputs": [],
   "source": [
    "from cvxpy import ROBUST_KKTSOLVER"
   ]
  },
  {
   "cell_type": "code",
   "execution_count": 167,
   "metadata": {},
   "outputs": [
    {
     "data": {
      "text/plain": [
       "cvxpy.error.SolverError"
      ]
     },
     "execution_count": 167,
     "metadata": {},
     "output_type": "execute_result"
    }
   ],
   "source": [
    "cp.SolverError"
   ]
  },
  {
   "cell_type": "code",
   "execution_count": null,
   "metadata": {},
   "outputs": [],
   "source": []
  }
 ],
 "metadata": {
  "kernelspec": {
   "display_name": "Python 3",
   "language": "python",
   "name": "python3"
  },
  "language_info": {
   "codemirror_mode": {
    "name": "ipython",
    "version": 3
   },
   "file_extension": ".py",
   "mimetype": "text/x-python",
   "name": "python",
   "nbconvert_exporter": "python",
   "pygments_lexer": "ipython3",
   "version": "3.7.6"
  }
 },
 "nbformat": 4,
 "nbformat_minor": 4
}
